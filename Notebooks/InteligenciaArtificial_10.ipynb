{
 "cells": [
  {
   "cell_type": "markdown",
   "metadata": {
    "slideshow": {
     "slide_type": "slide"
    }
   },
   "source": [
    "<center>\n",
    "    <h1>Inteligencia Artificial</h1>\n",
    "    <h1>Ejercicio de Lógica de Predicados</h1>\n",
    "    <h1></h1>\n",
    "    <h5>Prof. Wladimir Rodriguez</h5>\n",
    "    <h5>wladimir.rodriguez@outlook.com</h5>\n",
    "    <h5>Departamento de Computación</h5>\n",
    "</center>"
   ]
  },
  {
   "cell_type": "markdown",
   "metadata": {
    "slideshow": {
     "slide_type": "slide"
    }
   },
   "source": [
    "# Ejercicio: \n",
    "\n",
    "- A Juan le gusta todo tipo de comida.\n",
    "- Manzanas y vegetales son comida\n",
    "- Todo lo que alguien come y no lo mata es comida.\n",
    "- Ana come maní y sigue viva\n",
    "- Luis come todo lo que Ana come.\n",
    "- Demuestre por resolución que:\n",
    "    - A Juan le gusta el maní."
   ]
  },
  {
   "cell_type": "markdown",
   "metadata": {
    "slideshow": {
     "slide_type": "slide"
    }
   },
   "source": [
    "## Paso 1: conversión de hechos en lógica de primer orden\n",
    "\n",
    "- $\\forall x \\; comida(x) \\Rightarrow gustar(Juan, x)$\n",
    "- $comida(Manzana) \\land comida(Vegetales)$\n",
    "- $\\forall x \\forall y \\; comer(x, y) \\land \\neg muerto(x) \\Rightarrow comida(y)$\n",
    "- $comer(Ana, Mani) \\land vivo(Ana)$\n",
    "- $\\forall x \\; comer(Ana, x) \\Rightarrow comer(Harry, x)$\n",
    "- $\\forall x \\; \\neg muerto(x) \\Rightarrow vivo(x)$\n",
    "- $\\forall x \\; vivo(x) \\Rightarrow \\neg muerto(x)$\n",
    "- $gustar(Juan, Mani)$"
   ]
  },
  {
   "cell_type": "markdown",
   "metadata": {
    "slideshow": {
     "slide_type": "slide"
    }
   },
   "source": [
    "## Paso 2: Convertir las sentecias a Forma Normal Conjuntiva\n",
    "\n",
    "- Eliminación de las implicaciones:\n",
    "    - $\\forall x \\; \\neg comida(x) \\lor gustar(Juan, x)$\n",
    "    - $comida(Manzana) \\land comida(Vegetales)$\n",
    "    - $\\forall x \\forall y \\; \\neg(comer(x, y) \\land \\neg muerto(x)) \\lor comida(y)$\n",
    "    - $comer(Ana, Mani) \\land vivo(Ana)$\n",
    "    - $\\forall x \\; \\neg comer(Ana, x) \\lor comer(Harry, x)$\n",
    "    - $\\forall x \\; \\neg(\\neg muerto(x)) \\lor vivo(x)$\n",
    "    - $\\forall x \\; \\neg vivo(x) \\lor \\neg muerto(x)$\n",
    "    - $gustar(Juan, Mani)$"
   ]
  },
  {
   "cell_type": "markdown",
   "metadata": {
    "slideshow": {
     "slide_type": "subslide"
    }
   },
   "source": [
    "- Mover las negaciones hasta las fórmulas atómicas:\n",
    "    - $\\forall x \\; \\neg comida(x) \\lor gustar(Juan, x)$\n",
    "    - $comida(Manzana) \\land comida(Vegetales)$\n",
    "    - $\\forall x \\forall y \\; \\neg comer(x, y) \\lor muerto(x) \\lor comida(y)$\n",
    "    - $comer(Ana, Mani) \\land vivo(Ana)$\n",
    "    - $\\forall x \\; \\neg comer(Ana, x) \\lor comer(Harry, x)$\n",
    "    - $\\forall x \\; muerto(x)) \\lor vivo(x)$\n",
    "    - $\\forall x \\; \\neg vivo(x) \\lor \\neg muerto(x)$\n",
    "    - $gustar(Juan, Mani)$"
   ]
  },
  {
   "cell_type": "markdown",
   "metadata": {
    "slideshow": {
     "slide_type": "subslide"
    }
   },
   "source": [
    "- Renombrar variables:\n",
    "    - $\\forall x \\; \\neg comida(x) \\lor gustar(Juan, x)$\n",
    "    - $comida(Manzana) \\land comida(Vegetales)$\n",
    "    - $\\forall y \\forall z \\; \\neg comer(y, z) \\lor muerto(y) \\lor comida(z)$\n",
    "    - $comer(Ana, Mani) \\land vivo(Ana)$\n",
    "    - $\\forall u \\; \\neg comer(Ana, u) \\lor comer(Harry, u)$\n",
    "    - $\\forall v \\; muerto(v)) \\lor vivo(v)$\n",
    "    - $\\forall w \\; \\neg vivo(w) \\lor \\neg muerto(w)$\n",
    "    - $gustar(Juan, Mani)$"
   ]
  },
  {
   "cell_type": "markdown",
   "metadata": {
    "slideshow": {
     "slide_type": "subslide"
    }
   },
   "source": [
    "- Eliminar los cuantificadores existenciales. Usando funciones Skolem:\n",
    "    - En este ejercicio no hay cuantificadores existenciales por lo que las sentencias no se alteraran en este paso.\n",
    " \n",
    "- Desplazar los cuantificadores universales:\n",
    "    - Ya los operadores universales estan al inicio de las sentencias"
   ]
  },
  {
   "cell_type": "markdown",
   "metadata": {
    "slideshow": {
     "slide_type": "subslide"
    }
   },
   "source": [
    "- Convertir los operadores AND en los más externos\n",
    "    - $\\forall x \\; \\neg comida(x) \\lor gustar(Juan, x)$\n",
    "    - $comida(Manzana)$\n",
    "    - $comida(Vegetales)$\n",
    "    - $\\forall y \\forall z \\; \\neg comer(y, z) \\lor muerto(y) \\lor comida(z)$\n",
    "    - $comer(Ana, Mani)$\n",
    "    - $vivo(Ana)$\n",
    "    - $\\forall u \\; \\neg comer(Ana, u) \\lor comer(Harry, u)$\n",
    "    - $\\forall v \\; muerto(v)) \\lor vivo(v)$\n",
    "    - $\\forall w \\; \\neg vivo(w) \\lor \\neg muerto(w)$\n",
    "    - $gustar(Juan, Mani)$"
   ]
  },
  {
   "cell_type": "markdown",
   "metadata": {
    "slideshow": {
     "slide_type": "subslide"
    }
   },
   "source": [
    "- Eliminar los cuantificadores universales.\n",
    "    - $\\neg comida(x) \\lor gustar(Juan, x)$\n",
    "    - $comida(Manzana)$\n",
    "    - $comida(Vegetales)$\n",
    "    - $\\neg comer(y, z) \\lor muerto(y) \\lor comida(z)$\n",
    "    - $comer(Ana, Mani)$\n",
    "    - $vivo(Ana)$\n",
    "    - $\\neg comer(Ana, u) \\lor comer(Harry, u)$\n",
    "    - $muerto(v)) \\lor vivo(v)$\n",
    "    - $\\neg vivo(w) \\lor \\neg muerto(w)$\n",
    "    - $gustar(Juan, Mani)$"
   ]
  },
  {
   "cell_type": "markdown",
   "metadata": {
    "slideshow": {
     "slide_type": "subslide"
    }
   },
   "source": [
    "- Eliminar los conectores conjuntivos (AND).\n",
    "    - Ya se habían eliminado al inicio\n",
    "- Renombrar las variables.\n",
    "    - No es necesario no hay dos sentencias con nombres de variables iguales"
   ]
  },
  {
   "cell_type": "markdown",
   "metadata": {
    "slideshow": {
     "slide_type": "slide"
    }
   },
   "source": [
    "## Paso 3: Negar la sentencia que se quiere probar\n",
    "\n",
    "- $\\neg comida(x) \\lor gustar(Juan, x)$\n",
    "- $comida(Manzana)$\n",
    "- $comida(Vegetales)$\n",
    "- $\\neg comer(y, z) \\lor muerto(y) \\lor comida(z)$\n",
    "- $comer(Ana, Mani)$\n",
    "- $vivo(Ana)$\n",
    "- $\\neg comer(Ana, u) \\lor comer(Harry, u)$\n",
    "- $muerto(v)) \\lor vivo(v)$\n",
    "- $\\neg vivo(w) \\lor \\neg muerto(w)$\n",
    "- $\\neg gustar(Juan, Mani)$"
   ]
  },
  {
   "attachments": {
    "EjercicioResolucion.png": {
     "image/png": "[encoded data removed]"
    }
   },
   "cell_type": "markdown",
   "metadata": {
    "slideshow": {
     "slide_type": "slide"
    }
   },
   "source": [
    "## Paso 4: Dibujar el Grafo de Resolución\n",
    "\n",
    "\n",
    "![EjercicioResolucion.png](attachment:EjercicioResolucion.png)"
   ]
  },
  {
   "cell_type": "code",
   "execution_count": null,
   "metadata": {},
   "outputs": [],
   "source": []
  }
 ],
 "metadata": {
  "celltoolbar": "Slideshow",
  "kernelspec": {
   "display_name": "Python 3",
   "language": "python",
   "name": "python3"
  },
  "language_info": {
   "codemirror_mode": {
    "name": "ipython",
    "version": 3
   },
   "file_extension": ".py",
   "mimetype": "text/x-python",
   "name": "python",
   "nbconvert_exporter": "python",
   "pygments_lexer": "ipython3",
   "version": "3.7.5"
  }
 },
 "nbformat": 4,
 "nbformat_minor": 2
}
