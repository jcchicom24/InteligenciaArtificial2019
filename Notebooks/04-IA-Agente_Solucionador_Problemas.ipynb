{
 "cells": [
  {
   "cell_type": "markdown",
   "metadata": {
    "slideshow": {
     "slide_type": "slide"
    }
   },
   "source": [
    "<center>\n",
    "    <h1>Inteligencia Artificial</h1>\n",
    "    <h1>Agentes Solucionador de Problemas</h1>\n",
    "    <h1></h1>\n",
    "    <h5>Prof. Wladimir Rodriguez</h5>\n",
    "    <h5>wladimir.rodriguez@outlook.com</h5>\n",
    "    <h5>Departamento de Computación</h5>\n",
    "</center>"
   ]
  },
  {
   "cell_type": "markdown",
   "metadata": {
    "slideshow": {
     "slide_type": "slide"
    }
   },
   "source": [
    "# Agenda\n",
    "\n",
    "- Agente Solucionador de Tareas\n",
    "- Formulación de los Problemas\n",
    "- Espacio de Estados\n",
    "- Problemas de Búsqueda\n",
    "- Búsqueda en Espacio de Estados\n",
    "- Ejemplos\n",
    "- Aplicaciones"
   ]
  },
  {
   "cell_type": "markdown",
   "metadata": {
    "slideshow": {
     "slide_type": "slide"
    }
   },
   "source": [
    "# Agentes Solucionador de Problemas\n",
    "\n",
    "\n",
    "\n",
    "<center><img src='../figuras/agente.png'/></center>"
   ]
  },
  {
   "cell_type": "markdown",
   "metadata": {
    "slideshow": {
     "slide_type": "subslide"
    }
   },
   "source": [
    "<center><img src='../figuras/agente_2.png'/></center>"
   ]
  },
  {
   "cell_type": "markdown",
   "metadata": {
    "slideshow": {
     "slide_type": "slide"
    }
   },
   "source": [
    "# Formulación del Problema\n",
    "\n",
    "- Un problema puede definirse, formalmente, por cuatro componentes:\n",
    "    - El estado inicial en el que comienza el agente\n",
    "    - Una descripción de las posibles acciones disponibles por el agente. La formulación más común utiliza una función sucesor\n",
    "    - El test objetivo(meta), el cual determina si un estado es un estado objetivo\n",
    "    - Una función costo del camino que asigna un costo numérico a cada camino"
   ]
  },
  {
   "cell_type": "markdown",
   "metadata": {
    "slideshow": {
     "slide_type": "slide"
    }
   },
   "source": [
    "# Ejemplos de Problemas\n",
    "\n",
    "- Mundo de la aspiradora\n",
    "- El 8-puzzle\n",
    "- Las 8 reinas\n",
    "- Buscar la ruta "
   ]
  },
  {
   "cell_type": "markdown",
   "metadata": {
    "slideshow": {
     "slide_type": "slide"
    }
   },
   "source": [
    "# Mundo de la aspiradora\n",
    "\n",
    "- **Estados**: el agente está en una de dos localizaciones, cada una de las cuales puede o no contener suciedad. Así, hay $2*2^2=8$ posibles estados del mundo.\n",
    "- **Estado inicial**:cualquier estado puede designarse como un estado inicial.\n",
    "- **Función sucesor**:ésta genera los estados legales que resultan al intentar las tres acciones (Izquierda, Derecha y Aspirar).\n",
    "- **Test objetivo**:comprueba si todos los cuadrados están limpios.\n",
    "- **Costo del camino**:cada costo individual es 1, así que el costo del camino es el número de pasos que lo compone."
   ]
  },
  {
   "cell_type": "markdown",
   "metadata": {
    "slideshow": {
     "slide_type": "subslide"
    }
   },
   "source": [
    "<center><img src='../figuras/vacuum2-state-space.png'/></center>"
   ]
  },
  {
   "cell_type": "markdown",
   "metadata": {
    "slideshow": {
     "slide_type": "slide"
    }
   },
   "source": [
    "# El 8-puzzle\n",
    "\n",
    "- **Estados**:la descripción de un estado especifica la localización de cada una de las ocho fichas y el blanco en cada uno de los nueve cuadrados.\n",
    "- **Estado inicial**:cualquier estado puede ser un estado inicial. Nóteseque cualquierobjetivo puede alcanzarse desde exactamente la mitad de los estados iniciales posibles.\n",
    "- **Función sucesor**:ésta genera los estados legales que resultan de aplicar las cuatro acciones (mover el blanco a la Izquierda, Derecha, Arribay Abajo). \n",
    "- **Test objetivo**: comprueba si el estado coincide con la configuración objetivo que se muestra en la siguiente figura.\n",
    "- **Costo del camino**: el costo de cada paso del camino tiene valor 1, así que el costo del camino es el número de pasos."
   ]
  },
  {
   "cell_type": "markdown",
   "metadata": {
    "slideshow": {
     "slide_type": "subslide"
    }
   },
   "source": [
    "<center><img src='../figuras/8puzzle.png'/></center>"
   ]
  },
  {
   "cell_type": "markdown",
   "metadata": {
    "slideshow": {
     "slide_type": "slide"
    }
   },
   "source": [
    "# Las 8 reinas\n",
    "\n",
    "- **Estados**: cualquier combinación de cero a ocho reinas en el tablero es un estado.\n",
    "- **Estado inicial**: ninguna reina sobre el tablero.\n",
    "- **Función sucesor**: añadir una reina a cualquier cuadrado vacío.\n",
    "- **Test objetivo**: ocho reinas sobre el tablero, ninguna es atacada.\n",
    "- **Costo del camino**: el costo de cada paso del camino tiene valor 1, así que el costo del camino es el número de pasos."
   ]
  },
  {
   "cell_type": "markdown",
   "metadata": {
    "slideshow": {
     "slide_type": "subslide"
    }
   },
   "source": [
    "<center><img src='../figuras/8_reinas.png'/></center>"
   ]
  },
  {
   "cell_type": "markdown",
   "metadata": {
    "slideshow": {
     "slide_type": "slide"
    }
   },
   "source": [
    "# Buscar una ruta\n",
    "\n",
    "- **Estados**: cada estado está representado por una localización (cuidad).\n",
    "- **Estado inicial**: especificado por el problema.\n",
    "- **Función sucesor**: devuelve los estados que resultan de tomar una carretera en particular. \n",
    "- **Test objetivo**: estamos en nuestro destino\n",
    "- **Costo del camino**: esto depende del costo en kilometros, tiempo, etc.. "
   ]
  },
  {
   "cell_type": "markdown",
   "metadata": {
    "slideshow": {
     "slide_type": "subslide"
    }
   },
   "source": [
    "<center><img src='../figuras/romania_distances.png'/></center>"
   ]
  },
  {
   "cell_type": "markdown",
   "metadata": {
    "slideshow": {
     "slide_type": "slide"
    }
   },
   "source": [
    "# Algoritmo para el Agente Solucionador de Problemas\n",
    "\n",
    "1. estado Inicial ← sensar/leer estado\n",
    "2. meta ← seleccionar/leer meta\n",
    "3. sucesor ← seleccionar/leer modelos de acción\n",
    "4. problema ← (estado inicial, meta, sucesor)\n",
    "5. solución ← búsqueda (problema)\n",
    "6. ejecutar (solución)"
   ]
  },
  {
   "cell_type": "markdown",
   "metadata": {
    "slideshow": {
     "slide_type": "subslide"
    }
   },
   "source": [
    "<center><img src='../figuras/algoritmo_solucionador_problema.png'/></center>"
   ]
  },
  {
   "cell_type": "markdown",
   "metadata": {
    "slideshow": {
     "slide_type": "slide"
    }
   },
   "source": [
    "# Ejercicio 1:\n",
    "\n",
    "En una orilla de un río hay tres misioneros y tres caníbales. Hay un bote disponible que puede albergar hasta dos personas y que les gustaría usar para cruzar el río. Si los caníbales alguna vez superan en número a los misioneros en cualquiera de las orillas del río, los misioneros serán comidos.\n",
    "¿Cómo se puede usar el bote para transportar con seguridad a todos los misioneros y caníbales a través del río?"
   ]
  },
  {
   "cell_type": "markdown",
   "metadata": {
    "slideshow": {
     "slide_type": "subslide"
    }
   },
   "source": [
    "<center><img src='../figuras/mc-search-space.png'/></center>"
   ]
  },
  {
   "cell_type": "markdown",
   "metadata": {
    "slideshow": {
     "slide_type": "slide"
    }
   },
   "source": [
    "# Ejercicio 2:\n",
    "\n",
    "Le dan dos jarras, una de 4 litros y otra de 3 litros, un grifo que tiene agua ilimitada que puede usar para llenar la jarra y el suelo sobre el que se puede verter el agua. Ninguna jarra tiene marcas de medición. ¿Cómo puede obtener exactamente 2 litros de agua en la jarra de 4 litros?"
   ]
  },
  {
   "cell_type": "markdown",
   "metadata": {
    "slideshow": {
     "slide_type": "subslide"
    }
   },
   "source": [
    "<center><img src='../figuras/Jarra_agua.png'/></center>"
   ]
  },
  {
   "cell_type": "code",
   "execution_count": null,
   "metadata": {},
   "outputs": [],
   "source": []
  }
 ],
 "metadata": {
  "celltoolbar": "Slideshow",
  "kernelspec": {
   "display_name": "Python 3",
   "language": "python",
   "name": "python3"
  },
  "language_info": {
   "codemirror_mode": {
    "name": "ipython",
    "version": 3
   },
   "file_extension": ".py",
   "mimetype": "text/x-python",
   "name": "python",
   "nbconvert_exporter": "python",
   "pygments_lexer": "ipython3",
   "version": "3.7.4"
  }
 },
 "nbformat": 4,
 "nbformat_minor": 4
}
