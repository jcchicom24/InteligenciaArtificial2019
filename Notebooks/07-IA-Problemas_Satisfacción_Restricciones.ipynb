{
 "cells": [
  {
   "cell_type": "markdown",
   "metadata": {
    "slideshow": {
     "slide_type": "slide"
    }
   },
   "source": [
    "<center>\n",
    "    <h1>Inteligencia Artificial</h1>\n",
    "    <h1>Problemas de Satisfacción de Restricciones</h1>\n",
    "    <h1></h1>\n",
    "    <h5>Prof. Wladimir Rodriguez</h5>\n",
    "    <h5>wladimir.rodriguez@outlook.com</h5>\n",
    "    <h5>Departamento de Computación</h5>\n",
    "</center>"
   ]
  },
  {
   "cell_type": "markdown",
   "metadata": {
    "slideshow": {
     "slide_type": "slide"
    }
   },
   "source": [
    "# Agenda\n",
    "\n",
    "- Introducción.\n",
    "- Problemas de satisfacción de restricciones.\n",
    "- Búsqueda con vuelta atrás para PSR\n",
    "- Búsqueda local para PSR.\n",
    "- La estructura de los problemas"
   ]
  },
  {
   "cell_type": "markdown",
   "metadata": {
    "slideshow": {
     "slide_type": "slide"
    }
   },
   "source": [
    "# Introducción\n",
    "\n",
    "- Problemas de búsqueda ciega e informada.\n",
    "    - Trata a los estados como cajas negras, sin estructura interna.\n",
    "    - El conocimiento del dominio es introducido por medio de la función heurística, la función sucesor y la prueba del estado meta.\n",
    "- Problemas de satisfacción de restricciones.\n",
    "    - Los estados y  la prueba del estado meta tienen una representación estándar.\n",
    "    - Admiten heurísticas de propósito general en vez de heurísticas especificas de problemas.\n",
    "    - La prueba de la meta revela la estructura del problema."
   ]
  },
  {
   "cell_type": "markdown",
   "metadata": {
    "slideshow": {
     "slide_type": "slide"
    }
   },
   "source": [
    "# Ejemplo: Coloreado de Mapas\n",
    "<br>\n",
    "<table><tr>\n",
    "<td> <img src=\"../figuras/mapa_australia.png\" alt=\"Drawing\" style=\"width: 400px;\"/> </td>\n",
    "<td> <img src=\"../figuras/flecha.png\" alt=\"Drawing\" style=\"width: 100px;\"/> </td>\n",
    "<td> <img src=\"../figuras/mapa_australia_color.png\" alt=\"Drawing\" style=\"width: 400px;\"/> </td>\n",
    "</tr></table>"
   ]
  },
  {
   "cell_type": "markdown",
   "metadata": {
    "slideshow": {
     "slide_type": "subslide"
    }
   },
   "source": [
    "# Ejemplo: 4_Reinas\n",
    "\n",
    "<br></br>\n",
    "![](../figuras/4_reinas.png)"
   ]
  },
  {
   "cell_type": "markdown",
   "metadata": {
    "slideshow": {
     "slide_type": "subslide"
    }
   },
   "source": [
    "# Ejemplo: Sudoku\n",
    "<br></br>\n",
    "![](../figuras/sudoku.png)"
   ]
  },
  {
   "cell_type": "markdown",
   "metadata": {
    "slideshow": {
     "slide_type": "subslide"
    }
   },
   "source": [
    "# Ejemplo: Critoaritmética\n",
    "<br></br>\n",
    "![](../figuras/criptoaritmetico.png)"
   ]
  },
  {
   "cell_type": "markdown",
   "metadata": {
    "slideshow": {
     "slide_type": "slide"
    }
   },
   "source": [
    "# Problemas Reales de PSR\n",
    "\n",
    "- Problemas de programación: por ejemplo, ¿cuándo podemos encontrarnos todos?\n",
    "- Problemas de horarios: por ejemplo, ¿qué clase se ofrece cuándo y dónde?\n",
    "- Problemas de asignación: por ejemplo, quién enseña qué clase\n",
    "- Configuración de hardware\n",
    "- Programación de transporte\n",
    "- Programación de fábrica\n",
    "- Diseño de circuitos\n",
    "- Diagnóstico de fallas\n",
    "- … ¡y muchos más!"
   ]
  },
  {
   "cell_type": "markdown",
   "metadata": {
    "slideshow": {
     "slide_type": "slide"
    }
   },
   "source": [
    "# Definición \n",
    "\n",
    "- Un conjunto de variables, $X_1, X_2, \\cdots , X_n$\n",
    "    - Cada variable $X_i$ tiene un dominio no vacío $D_i$ de valores posibles. \n",
    "- Un conjunto de restricciones, $C_1, C_2, \\cdots , C_m$; cada $C_i$:\n",
    "    - Implica un subconjunto de variables\n",
    "    - Especifica las condiciones aceptables de valores para ese subconjunto.\n",
    "- Un estado es una asignación de valores a algunas o todas las variables $\\{X_i = v_i, X_j = v_j\\}$ cambia constantemente"
   ]
  },
  {
   "cell_type": "markdown",
   "metadata": {
    "slideshow": {
     "slide_type": "subslide"
    }
   },
   "source": [
    "- Una asignación es\n",
    "    - Consistente (legal) si no viola ninguna restricción\n",
    "    - Completa si asigna valores a todas las variables\n",
    "    - Una solución si es consistente y completa"
   ]
  },
  {
   "cell_type": "markdown",
   "metadata": {
    "slideshow": {
     "slide_type": "slide"
    }
   },
   "source": [
    "# Resolución de un Problema de Satisfacción de Restricciones (PSR)\n",
    "\n",
    "- **Modelar el problema como un PSR**. El modelado expresa el problema mediante una sintaxis de PSR, es decir, mediante un conjunto de variables, dominios y restricciones del PSR.\n",
    "- **Procesar el PSR resultante**. Una vez formulado el problema como un PSR, hay dos maneras de procesar las restricciones:\n",
    "    - *Técnicas de Consistencia*: Basadas en la eliminación de valores inconsistentes de los dominios de las variables.\n",
    "    - *Algoritmos de búsqueda*: Basados en la exploración sistemática del espacio de soluciones hasta encontrar una solución o probar que no existe tal solución."
   ]
  },
  {
   "cell_type": "markdown",
   "metadata": {
    "cell_style": "split",
    "slideshow": {
     "slide_type": "slide"
    }
   },
   "source": [
    "# Modelo del Problema de Coloreado de Mapas\n",
    "\n",
    "- **Variables**: $\\{AO, TN, Q, NGS, V, T\\}$\n",
    "\n",
    "- **Dominios**: $\\{{rojo, azul, verde}\\}$\n",
    "\n",
    "- **Restricciones**: regiones vecinas con colores diferentes $\\{(rojo, verde), (rojo, azul), (verde, rojo), (verde, azul), (azul, rojo), (azul, verde)\\}$\n",
    "\n",
    "- **Soluciones**: son asignaciones que satisfacen todas las restricciones. $\\{AO=rojo, TN=verde, Q=rojo, NGS=verde, AM=azul, V=rojo, T=verde\\}$\n"
   ]
  },
  {
   "cell_type": "markdown",
   "metadata": {
    "cell_style": "split"
   },
   "source": [
    "<img src=\"../figuras/mapa_australia_color.png\" alt=\"Drawing\" style=\"width: 500px;\"/> "
   ]
  },
  {
   "cell_type": "markdown",
   "metadata": {
    "slideshow": {
     "slide_type": "slide"
    }
   },
   "source": [
    "# Grafo de Restricciones\n",
    "\n",
    "- Grafo de restricciones representa:\n",
    "    - Variables como nodos\n",
    "    - Restricciones como arcos\n"
   ]
  },
  {
   "cell_type": "markdown",
   "metadata": {
    "slideshow": {
     "slide_type": "subslide"
    }
   },
   "source": [
    "<center><img src='../figuras/grafo_restricciones.png'/></center>"
   ]
  },
  {
   "cell_type": "markdown",
   "metadata": {
    "slideshow": {
     "slide_type": "slide"
    }
   },
   "source": [
    "# Modelo del Problema de las N-Reinas"
   ]
  },
  {
   "cell_type": "markdown",
   "metadata": {
    "cell_style": "split",
    "slideshow": {
     "slide_type": "slide"
    }
   },
   "source": [
    "## Formulación 1:\n",
    "- Variables: $X_{i,j}$\n",
    "- Dominio: $\\{0,1\\}$\n",
    "- Restricciones: \n",
    "$$\\forall{i,j,k}\\hspace{2 mm} (X_{i,j},X_{i,k}) \\in \\{(0,0),(0,1),(1,0)\\}$$\n",
    "$$\\forall{i,j,k}\\hspace{2 mm} (X_{i,j},X_{k,j}) \\in \\{(0,0),(0,1),(1,0)\\}$$\n",
    "$$\\forall{i,j,k}\\hspace{2 mm} (X_{i,j},X_{i+k,j+k}) \\in \\{(0,0),(0,1),(1,0)\\}$$\n",
    "$$\\forall{i,j,k}\\hspace{2 mm} (X_{i,j},X_{i+k,j-k}) \\in \\{(0,0),(0,1),(1,0)\\}$$\n",
    "$$\\sum_{i,j}X_{i,j}=N$$"
   ]
  },
  {
   "cell_type": "markdown",
   "metadata": {
    "cell_style": "split",
    "slideshow": {
     "slide_type": "-"
    }
   },
   "source": [
    "<center><img src=\"../figuras/n_reinas.png\" alt=\"Drawing\" style=\"width: 350px;\"/></center> "
   ]
  },
  {
   "cell_type": "code",
   "execution_count": null,
   "metadata": {
    "slideshow": {
     "slide_type": "skip"
    }
   },
   "outputs": [],
   "source": []
  },
  {
   "cell_type": "markdown",
   "metadata": {
    "cell_style": "split",
    "slideshow": {
     "slide_type": "slide"
    }
   },
   "source": [
    "## Formulación 2:\n",
    "- Variables: $Q_k$\n",
    "- Dominio: $\\{1,2,3,\\cdots,N\\}$\n",
    "- Restricciones:\n",
    "    - Implicita: $\\hspace{6 mm}\\forall{i,j}\\hspace{2 mm}\\text{no_ataca}(Q_i,Q_j)$\n",
    "    - Explicita: $\\hspace{6 mm}(Q_1,Q_2)\\in\\{(1,3)(1,4),\\cdots\\}$\n",
    "    $$\\cdots \\hspace{140 mm}$$"
   ]
  },
  {
   "cell_type": "markdown",
   "metadata": {
    "cell_style": "split"
   },
   "source": [
    "<center><img src=\"../figuras/n_reinas_2.png\" alt=\"Drawing\" style=\"width: 350px;\"/></center> "
   ]
  },
  {
   "cell_type": "code",
   "execution_count": null,
   "metadata": {
    "slideshow": {
     "slide_type": "skip"
    }
   },
   "outputs": [],
   "source": []
  },
  {
   "cell_type": "markdown",
   "metadata": {
    "cell_style": "split",
    "slideshow": {
     "slide_type": "slide"
    }
   },
   "source": [
    " # Ejemplo: Criptoaritmética\n",
    " \n",
    " - Variables: $\\hspace{6 mm}\\{F,T,U,W,R,O,X_1,X_2,X_3\\}$\n",
    " - Dominio: $\\hspace{6 mm}\\{0,1,2,3,4,5,6,7,8,9\\}$\n",
    " - Restricciones:\n",
    "     - $todosDiferentes(F,T,U,W,R,O)$\n",
    "     - $O + O = R + 10*X_1$\n",
    "     - $X_1 + W + W = U + 10*X_2$\n",
    "     - $X_2 + T + T = O + 10*X_3$\n",
    "     - $X_3 = F$\n",
    "     \n",
    " "
   ]
  },
  {
   "cell_type": "markdown",
   "metadata": {
    "cell_style": "split"
   },
   "source": [
    "<center><img src=\"../figuras/two_two.png\" alt=\"Drawing\" style=\"width: 500px;\"/></center> "
   ]
  },
  {
   "cell_type": "markdown",
   "metadata": {
    "slideshow": {
     "slide_type": "skip"
    }
   },
   "source": []
  },
  {
   "cell_type": "markdown",
   "metadata": {
    "cell_style": "split",
    "slideshow": {
     "slide_type": "slide"
    }
   },
   "source": [
    "# Ejemplo: Sudoku\n",
    "\n",
    "- Variables: Cada cuadrado aun no llenado\n",
    "\n",
    "- Dominio: $\\hspace{6 mm}\\{0,1,2,3,4,5,6,7,8,9\\}$\n",
    "\n",
    "- Restricciones:\n",
    "    - todosDiferentes por cada columna\n",
    "    - todosDiferentes por cada fila\n",
    "    - TodosDiferentes por cada región "
   ]
  },
  {
   "cell_type": "markdown",
   "metadata": {
    "cell_style": "split"
   },
   "source": [
    "<center><img src=\"../figuras/sudoku_2.png\" alt=\"Drawing\" style=\"width: 500px;\"/></center> "
   ]
  },
  {
   "cell_type": "markdown",
   "metadata": {
    "slideshow": {
     "slide_type": "slide"
    }
   },
   "source": [
    "# PSR como un Problema de Búsqueda\n",
    "\n",
    "- Formulación\n",
    "    - Estado Inicial: Asignación vacía $\\{\\}$\n",
    "    - Función Sucesor\n",
    "        - Valor asignado a cada variable\n",
    "        - Sin conflicto con los valores asignados previamente\n",
    "    - Prueba del estado meta: Asignación completa\n",
    "    - Costo del Camino: Constante"
   ]
  },
  {
   "cell_type": "markdown",
   "metadata": {
    "slideshow": {
     "slide_type": "subslide"
    }
   },
   "source": [
    "- Características\n",
    "    - Para $n$ variables la solución aparece a profundidad $n$\n",
    "    - El camino a la solución es irrelevante\n",
    "    - Métodos de búsqueda\n",
    "        - Búsqueda en profundidad\n",
    "        - Búsqueda local"
   ]
  },
  {
   "cell_type": "markdown",
   "metadata": {
    "slideshow": {
     "slide_type": "slide"
    }
   },
   "source": [
    "# Variedades de PSR: Tipos de Variables\n",
    "\n",
    "- Variables discretas con dominios finitos\n",
    "    - Número de asignaciones exponencial\n",
    "        - Para $n$ variables y cardinalidad $d$ para el mayor dominio, $O(d^n)$ asignaciones.\n",
    "    - Ejemplo: Coloreado de mapas \n",
    "        - Variables: Países\n",
    "        - Dominios: Colores\n",
    "        - Restricciones: Países adyacentes deben tener diferentes colores"
   ]
  },
  {
   "cell_type": "markdown",
   "metadata": {
    "slideshow": {
     "slide_type": "subslide"
    }
   },
   "source": [
    "- Ejemplo: Ocho reinas\n",
    "    - Variables: $\\{Q_1, \\cdots , Q_8\\}$\n",
    "    - Dominios: $\\{1, 2, \\cdots, 8\\}$\n",
    "    - Restricciones: Ninguna reina atacando a otra\n",
    "- Subclase: PSR booleanos\n",
    "    - Dominio: $\\{verdadero, falso\\}$\n",
    "    - Incluye algunos problemas NP-completos; probablemente tiempo exponencial\n",
    "    - Aún así pueden resolver problemas de orden de magnitud mayor que con búsqueda ciega"
   ]
  },
  {
   "cell_type": "markdown",
   "metadata": {
    "slideshow": {
     "slide_type": "subslide"
    }
   },
   "source": [
    "- Variables discretas con dominios infinitos\n",
    "    - Dominios incluyen conjunto de enteros, conjunto de todas las cadenas de caracteres\n",
    "    - No se pueden enumerar todas las restricciones\n",
    "        - Se emplea un lenguaje de restricciones\n",
    "    - No se pueden enumerar todas las asignaciones de las variables\n",
    "        - Se emplean algoritmos especiales"
   ]
  },
  {
   "cell_type": "markdown",
   "metadata": {
    "slideshow": {
     "slide_type": "subslide"
    }
   },
   "source": [
    "- Ejemplo: Planificación de tareas\n",
    "    - Variables: Fecha de inicio de la tarea (p.e., $Tarea_1$)\n",
    "    - Dominios: Entero días de la duración de la tarea (p.e., 5 días)\n",
    "    - Restricciones: $Tarea_1$ (5 días) debe terminar antes de comenzar la $Tarea_3$ (p.e., $InicioTarea_1 + 5 \\leq InicioTarea_3$) \n",
    "    - Reduce a un problema de dominio finito mediante el atado de la duración de los trabajos (p.e., total de duración de todos los trabajos)"
   ]
  },
  {
   "cell_type": "markdown",
   "metadata": {
    "slideshow": {
     "slide_type": "subslide"
    }
   },
   "source": [
    "- Variables continuas\n",
    "\n",
    "    - Común en aplicaciones reales\n",
    "    - Muy estudiadas en investigación de operaciones\n",
    "    - Ejemplo: planificación de tiempo para usar el telescopio Hubble\n",
    "    - Subclase: Programación lineal\n",
    "        - Restricciones: inigualdades lineales formando regiones convexas\n",
    "        - Solución en tiempo polinomial de acuerdo al número de variables"
   ]
  },
  {
   "cell_type": "markdown",
   "metadata": {
    "slideshow": {
     "slide_type": "subslide"
    }
   },
   "source": [
    "- Restricciones unarias\n",
    "    - Restringen el valor de una sola variable\n",
    "    - Ejemplo de coloreado de mapas: A los de Australia del Sur no le gusta el verde ( AM ≠ verde)\n",
    "- Restricciones binarias\n",
    "    - Relaciona dos variables\n",
    "    - Ejemplo de coloreado de mapas: todos son restricciones binarias (p.e., AM ≠ NGS)\n",
    "    - PSR binarios tiene solo restricciones binarias\n",
    "        - Se pueden representar como un grafo de restricciones"
   ]
  },
  {
   "cell_type": "markdown",
   "metadata": {
    "slideshow": {
     "slide_type": "subslide"
    }
   },
   "source": [
    "- Restricciones de mayor rango\n",
    "    - Relacionan 3 o más variables\n",
    "    - Se representan por un hiper-grafo de restricciones"
   ]
  },
  {
   "cell_type": "markdown",
   "metadata": {
    "slideshow": {
     "slide_type": "subslide"
    }
   },
   "source": [
    "- Restricción absoluta\n",
    "    - Indica cuales soluciones son permitidas\n",
    "    - Violación elimina una potencial solución\n",
    "- Restricción preferida\n",
    "    - Indica cuales soluciones son preferidas\n",
    "    - Puede ser codificado como costo en las asignaciones"
   ]
  },
  {
   "cell_type": "markdown",
   "metadata": {
    "slideshow": {
     "slide_type": "slide"
    }
   },
   "source": [
    "# Búsqueda Ingenua\n",
    "\n",
    "- Cuando se formula un PSR como búsqueda, se puede aplicar cualquier algoritmo de búsqueda ciega o heurística\n",
    "- Asumiendo $n$ variables con $d$ posibles valores\n",
    "- Considere un factor de ramificación $b$ para búsqueda en anchura\n",
    "    - Profundidad 0: $b = nd$\n",
    "    - Profundidad 1: $b = (n-1)d$\n",
    "    - Profundidad 2: $b = (n-2)d$\n",
    "    - ...\n",
    "    - Profundidad n: $b = d$\n",
    "- Genera un árbol con $n!d^n$ hojas\n",
    "- Algo esta malo: existen sólo $d^n$ posibles asignaciones"
   ]
  },
  {
   "cell_type": "markdown",
   "metadata": {
    "slideshow": {
     "slide_type": "subslide"
    }
   },
   "source": [
    "- El problema es que se ignoro la conmutatividad\n",
    "- **Conmutatividad**:  Un problema es conmutativo si el orden de aplicación de un conjunto de acciones no tiene efecto en la solución\n",
    "- Todos los PSR exhiben esta propiedad\n",
    "- Cuando se asignan valores a las variables de PSR, se pueden asignar en cualquier orden y llegar a la misma asignación parcial\n",
    "- Importante\n",
    "    - Todos los algoritmos de búsqueda para el PSR generan los sucesores considerando asignaciones para solo una variables en cada nodo del árbol de búsqueda\n",
    "- Con esta restricción el número de hojas es $d^n$, como era de esperar"
   ]
  },
  {
   "cell_type": "markdown",
   "metadata": {
    "slideshow": {
     "slide_type": "slide"
    }
   },
   "source": [
    "# Búsqueda con Vuelta Atras\n",
    "\n",
    "- Búsqueda primero en profundidad que elige valores para una variable a la vez y vuelve atrás cuando una variable no tiene ningún valor legal para asignarle\n",
    "\n",
    "<center><img src=\"../figuras/vuelta_atras.png\" alt=\"Drawing\" style=\"width: 500px;\"/></center> "
   ]
  },
  {
   "cell_type": "markdown",
   "metadata": {
    "slideshow": {
     "slide_type": "subslide"
    }
   },
   "source": [
    "<center><img src=\"../figuras/algoritmo_vuelta_atras.png\" alt=\"Drawing\" /></center> "
   ]
  },
  {
   "cell_type": "markdown",
   "metadata": {
    "slideshow": {
     "slide_type": "subslide"
    }
   },
   "source": [
    "# Ejemplo: 4_reinas\n",
    "\n",
    "<center><img src=\"../figuras/backtrack_4_reinas.png\" alt=\"Drawing\" style=\"width: 1000px;\"/></center> "
   ]
  },
  {
   "cell_type": "markdown",
   "metadata": {
    "slideshow": {
     "slide_type": "slide"
    }
   },
   "source": [
    "# Mejorando Vuelta Atrás\n",
    "\n",
    "- Las ideas de propósito general dan enormes ganancias en velocidad\n",
    "\n",
    "- **Ordenamiento**:\n",
    "    - ¿Qué variable se debe asignar a continuación?\n",
    "    - ¿En qué orden deben probarse sus valores?\n",
    "\n",
    "- **Filtrado**: ¿Podemos detectar fallas inevitables temprano?\n",
    "\n",
    "- **Estructura**: ¿Podemos aprovechar la estructura del problema?"
   ]
  },
  {
   "cell_type": "markdown",
   "metadata": {
    "cell_style": "center",
    "slideshow": {
     "slide_type": "slide"
    }
   },
   "source": [
    "# Filtrado: Comprobación Hacia Adelante\n",
    "\n",
    "- El considerar restricciones antes que la selección de variables (búsqueda) puede podar dramáticamente el espacio de búsqueda.\n",
    "- Cuando una variable $X$ es asignada, remueva los valores inconsistentes de todas la variables conectadas con $X$ por una restricción\n"
   ]
  },
  {
   "cell_type": "markdown",
   "metadata": {
    "slideshow": {
     "slide_type": "fragment"
    }
   },
   "source": [
    "<center><img src=\"../figuras/comprobacion_adelante.png\" alt=\"Drawing\" style=\"width: 700px;\" /></center> "
   ]
  },
  {
   "cell_type": "markdown",
   "metadata": {
    "slideshow": {
     "slide_type": "slide"
    }
   },
   "source": [
    "- La verificación directa propaga información de variables asignadas a variables no asignadas, pero no proporciona detección temprana de todas las fallas:\n",
    "<center><img src=\"../figuras/comprobacion_adelante_2.png\" alt=\"Drawing\" style=\"width: 700px;\" /></center>\n",
    "- ¡TN y AM no pueden ser azules!\n",
    "- ¿Por qué no detectamos esto todavía?\n",
    "- Propagación de restricciones: razón de restricción a restricción"
   ]
  },
  {
   "cell_type": "markdown",
   "metadata": {
    "slideshow": {
     "slide_type": "slide"
    }
   },
   "source": [
    "# Propagación de Restricciones\n",
    "\n",
    "- La Comprobación Hacia Adelante no detecta todas las inconsistencias\n",
    "    - No mira hacia adelante lo suficiente\n",
    "    - Solo considera variables conectadas a la variable siendo asignada\n",
    "- Propagación de restricciones propaga las implicaciones de una restricción sobre una variable en las otras variables\n",
    "- Va mas allá de las restricciones inmediatas exploradas por comprobación hacia adelante\n",
    "- Se quiere hacer propagación rápida\n",
    "    - No tiene sentido hacerlo si se tarda más tiempo que en búsqueda sencilla"
   ]
  },
  {
   "cell_type": "markdown",
   "metadata": {
    "cell_style": "center",
    "slideshow": {
     "slide_type": "slide"
    }
   },
   "source": [
    "# Consistencia de Arco\n",
    "\n",
    "- Un método de propagar restricciones es asegurar la consistencia del arco\n",
    "    - Mas poderosa que comprobación hacia adelante\n",
    "    - Rápida\n",
    "- Los arcos se refieren a los arcos directos en el grafo de restricciones\n",
    "- Consideremos dos nodos en el grafo de restricciones (p.e., $AM$ y $NGS$)\n",
    "    - Un arco es consistente si, para cada valor $x$ de $AM$ existe un valor $y$ de $NGS$ que es consistente con $x$\n",
    "- Examinar la consistencia de los arcos en ambas direcciones"
   ]
  },
  {
   "cell_type": "markdown",
   "metadata": {
    "cell_style": "center",
    "slideshow": {
     "slide_type": "subslide"
    }
   },
   "source": [
    "<center><img src=\"../figuras/consistencia_arco.png\" alt=\"Drawing\"/></center>"
   ]
  },
  {
   "cell_type": "markdown",
   "metadata": {
    "slideshow": {
     "slide_type": "subslide"
    }
   },
   "source": [
    "<center><img src=\"../figuras/consistencia_arco_2.png\" alt=\"Drawing\"/></center>"
   ]
  },
  {
   "cell_type": "markdown",
   "metadata": {
    "slideshow": {
     "slide_type": "subslide"
    }
   },
   "source": [
    "- Una forma simple de propagación asegura que todos los arcos sean consistentes:\n",
    "<center><img src=\"../figuras/consistencia_arco_3.png\" alt=\"Drawing\"/></center>\n",
    "- Importante: si X pierde un valor, ¡los vecinos de X deben volver a comprobarse!\n",
    "- La consistencia del arco detecta la falla antes de la verificación hacia adelante\n",
    "- Se puede ejecutar como preprocesador o después de cada tarea"
   ]
  },
  {
   "cell_type": "markdown",
   "metadata": {
    "cell_style": "center",
    "slideshow": {
     "slide_type": "slide"
    }
   },
   "source": [
    "<center><img src=\"../figuras/algoritmo_AC-3.png\" alt=\"Drawing\"/></center>"
   ]
  },
  {
   "cell_type": "markdown",
   "metadata": {
    "slideshow": {
     "slide_type": "slide"
    }
   },
   "source": [
    "# k-Consistencia\n",
    "\n",
    "- Se pueden definir formas mas fuertes de consistencia\n",
    "- Un PSR es k-consistente si, para cualquier asignación a k-1 variables, existe una asignación consistente para la variable k\n",
    "    - 1-consistencia (consistencia de nodo): El dominio de cada nodo tiene un valor que cumple con las restricciones unarias de ese nodo\n",
    "    - 2-consistencia (consistencia de arco): Para cada par de nodos, cualquier asignación consistente a uno puede extenderse al otro\n",
    "    - 3-consistencia (consistencia de camino): Para cada $k$ nodos, cualquier asignación coherente a $k-1$ se puede extender al nodo $k$\n",
    "        - Cualquier par de variables adyacentes puede ser extendida a una tercera"
   ]
  },
  {
   "cell_type": "markdown",
   "metadata": {
    "slideshow": {
     "slide_type": "slide"
    }
   },
   "source": [
    "# Ordenamiento\n",
    "\n",
    "- Mínimos valores restantes (MRV)\n",
    "- Valor menos restringido (VMR)"
   ]
  },
  {
   "cell_type": "markdown",
   "metadata": {
    "slideshow": {
     "slide_type": "subslide"
    }
   },
   "source": [
    "- Ordenamiento de  variable: Minimos valores restantes:\n",
    "    - Elija la variable con la menor cantidad de valores legales izquierdos en su dominio\n",
    "- ¿Por qué min en lugar de max?\n",
    "- También se llama \"variable más restringida\"\n",
    "- Ordenamiento \"fallar rápido\""
   ]
  },
  {
   "cell_type": "markdown",
   "metadata": {
    "slideshow": {
     "slide_type": "subslide"
    }
   },
   "source": [
    "- Ordenamiento de valores: Valor menos restringido:\n",
    "- Después de seleccionar la variable, debe ordenar los valores a explorar\n",
    "- La Heurística Valor Menos Restringido escoge un valor que excluye el menor número de opciones de las variables en el grafo de restricciones\n",
    "- Trata de mantener el máximo de flexibilidad para las siguientes asignaciones de variables.\n",
    "        "
   ]
  },
  {
   "cell_type": "markdown",
   "metadata": {
    "slideshow": {
     "slide_type": "slide"
    }
   },
   "source": [
    "# Restricciones Especiales\n",
    "\n",
    "- Todos Diferentes\n",
    "- Como Máximo"
   ]
  },
  {
   "cell_type": "markdown",
   "metadata": {
    "slideshow": {
     "slide_type": "slide"
    }
   },
   "source": [
    "# Restricción Especial: Todas Diferentes\n",
    "\n",
    "- Algunas restricciones aparecen tan frecuentemente para ser tratadas como casos especiales\n",
    "- Restricción Todas diferentes: todas las variables deben tener diferentes valores\n",
    "    - Los problemas cripto-aritméticos tienen esta restricción\n",
    "    - Para $m$ variables, $n$ valores, Todasdif no se puede satisfacer si $m > n$"
   ]
  },
  {
   "cell_type": "markdown",
   "metadata": {
    "slideshow": {
     "slide_type": "subslide"
    }
   },
   "source": [
    "- Algoritmo\n",
    "    - Para cada variable con dominio simple\n",
    "        - Remover valor en los dominios de las otras variables\n",
    "        - Si existe un dominio vacío o más variables que valores, inconsistente\n",
    "    - Estas restricciones sencillas y de alto nivel a veces son más efectivas que consistencia de arcos en restricciones binarias equivalentes"
   ]
  },
  {
   "cell_type": "markdown",
   "metadata": {
    "slideshow": {
     "slide_type": "slide"
    }
   },
   "source": [
    "# Resticción Especial: Como Máximo\n",
    "\n",
    "- Restricción *comoMáximo*: Las variables en la restricción puede a lo sumo totalizar un valor dado.\n",
    "    - Comprobar mediante la suma del valor mínimo para cada dominio\n",
    "    - Por ejemplo $comoMáximo(10, X_1, X_2, X_3, X_4)$ donde el valor mínimo en cada dominio es $\\{3, 5, 6, 4\\}$ es inconsistente $(\\sum = 18 > 10)$\n",
    "    - Puede hacer cumplir consistencia\n",
    "        - Borrar valores máximos de cualquier dominio no consistente con los valores mínimos de otros dominios"
   ]
  },
  {
   "cell_type": "markdown",
   "metadata": {
    "slideshow": {
     "slide_type": "subslide"
    }
   },
   "source": [
    "- Para números grandes de variables\n",
    "    - Representar dominios mediante límites superiores e inferiores\n",
    "    - Usar propagación de límites para seguir restringiendo los dominios\n",
    "    - Ampliamente utilizado en problemas de restricciones en el mundo real."
   ]
  },
  {
   "cell_type": "markdown",
   "metadata": {
    "slideshow": {
     "slide_type": "slide"
    }
   },
   "source": [
    "# Estructura de los Problemas\n",
    "\n",
    "- Considere formas en la cual la estructura del grafo de restricciones del problema pueda ayudar en encontrar soluciones\n",
    "- Problemas de la vida real requieren ser descompuestos en subproblemas"
   ]
  },
  {
   "cell_type": "markdown",
   "metadata": {
    "cell_style": "split",
    "slideshow": {
     "slide_type": "slide"
    }
   },
   "source": [
    "# Subproblemas Independientes\n",
    "\n",
    "- T no esta conectado\n",
    "- Colorear T y colorear los restantes nodos son subproblemas independientes\n",
    "- Cualquier solución para T combinada con cualquier solución para los nodos restantes soluciona el problema\n",
    "- Subproblemas independientes corresponden a componentes conectados de un grafo de restricciones\n",
    "- Lamentablemente, estos problemas son raros"
   ]
  },
  {
   "cell_type": "markdown",
   "metadata": {
    "cell_style": "split"
   },
   "source": [
    "<center><img src='../figuras/grafo_restricciones_1.png' style=\"width: 500px;\"/></center>"
   ]
  },
  {
   "cell_type": "markdown",
   "metadata": {
    "slideshow": {
     "slide_type": "slide"
    }
   },
   "source": [
    "# Problemas Estructurados en Forma de Árbol\n",
    "\n",
    "- En muchos casos, los PSR son conectados\n",
    "- Un caso sencillo es cuando el grafo de restricciones es un árbol\n",
    "- Puede ser resuelto en tiempo lineal en el número de variables\n",
    "    - Ordenar variables de forma que cada padre preceda a sus hijos\n",
    "    - Trabajando “hacia atrás” aplicar consistencia de arco entre hijo y padre\n",
    "    - Trabajando “hacía adelante” asigne valores consistentes con el padre"
   ]
  },
  {
   "cell_type": "markdown",
   "metadata": {
    "slideshow": {
     "slide_type": "subslide"
    }
   },
   "source": [
    "<center><img src='../figuras/problemas_forma_arbol.png' style=\"width: 500px;\"/></center>"
   ]
  },
  {
   "cell_type": "markdown",
   "metadata": {
    "slideshow": {
     "slide_type": "slide"
    }
   },
   "source": [
    "# Reducir Grafo de Restricciones a Árboles\n",
    "\n",
    "- Es fácil resolver PSR estructurados como árboles\n",
    "- Reducir grafos de restricciones a árboles\n",
    "    - Remover nodos\n",
    "    - Colapsar nodos"
   ]
  },
  {
   "cell_type": "markdown",
   "metadata": {
    "slideshow": {
     "slide_type": "subslide"
    }
   },
   "source": [
    "- Remover nodos\n",
    "    - Remover variables de tal forma que los nodos restantes formen un árbol y asignarles valores\n",
    "        - Remover variables del ciclo de corte\n",
    "    - Remover valores inconsistentes de los dominios de las variables restantes\n",
    "        - Cualquier asignación para las variables restantes será consistente con los valores asignados inicialmente\n",
    "    -Resolver el PSR con estructura de árbol"
   ]
  },
  {
   "cell_type": "markdown",
   "metadata": {
    "slideshow": {
     "slide_type": "subslide"
    }
   },
   "source": [
    "- Colapsar nodos\n",
    "    - Construya una descomposición en árbol del grafo de restricciones en subproblemas conectados\n",
    "    - Resuelva cada subproblema independientemente\n",
    "    - Vea cada subproblema como una variable de orden superior\n",
    "        - Dominios: conjunto de todas las soluciones a los subproblemas\n",
    "        - Restricciones: requiere de acuerdos en la asignación de variables compartidas entre los subproblemas\n",
    "    - Resuelva el problema de orden superior usando un algoritmo de árboles "
   ]
  },
  {
   "cell_type": "markdown",
   "metadata": {
    "slideshow": {
     "slide_type": "subslide"
    }
   },
   "source": [
    "- Todas las variables y restricciones deben estar en la descomposición\n",
    "    - Cada variable original debe aparecer en al menos un subproblema\n",
    "    - Cada restricción original (y sus variables) debe aparecer en al menos un subproblema\n",
    "- Una variable debe tener el mismo valor en todos los subproblemas\n",
    "    - Si una variable esta en dos subproblemas, debe estar en cada subproblema a lo largo del camino conectando los subproblemas"
   ]
  },
  {
   "cell_type": "markdown",
   "metadata": {
    "slideshow": {
     "slide_type": "subslide"
    }
   },
   "source": [
    "- Ordenar: elija una variable raíz, ordene las variables para que los padres precedan a los hijos\n",
    "<center><img src='../figuras/estructura_arbol.png' style=\"width: 500px;\"/></center>\n",
    "- Eliminar hacia atrás: para $i = n: 2$, aplique $RemoverInconsistencia(Padre(X_i),X_i)$\n",
    "- Asignar hacia adelante: para $i = 1: n$, asigne $X_i$ de manera coherente con $Padre(X_i)$"
   ]
  },
  {
   "cell_type": "markdown",
   "metadata": {
    "slideshow": {
     "slide_type": "slide"
    }
   },
   "source": [
    "# PSR con estructura cercana a árbol\n",
    "\n",
    "<br></br>\n",
    "<center><img src='../figuras/casi_arbol.png' style=\"width: 800px;\"/></center>\n",
    "\n"
   ]
  },
  {
   "cell_type": "markdown",
   "metadata": {
    "slideshow": {
     "slide_type": "subslide"
    }
   },
   "source": [
    "- El algoritmo general es como sigue:\n",
    "    1. Elegir un subconjunto $S$ de $VARIABLES[psr]$ tal que el grafo de restricciones se convierta en un árbol después del quitar $S$. Llamamos a $S$ un ciclo de corte.\n",
    "    2. Para cada asignación posible a las variables en $S$ que satisface todas las restricciones sobre $S$,\n",
    "        1. quitar de los dominios de las variables restantes cualquier valor que sea inconsistente con la asignación para $S$, y\n",
    "        2. si el PSR restante tiene una solución, devolverla junto con la asignación para $S$."
   ]
  },
  {
   "cell_type": "markdown",
   "metadata": {
    "slideshow": {
     "slide_type": "slide"
    }
   },
   "source": [
    "# Acondicionamiento del Corte\n",
    "<center><img src='../figuras/acondicionamiento-corte.png' style=\"width: 500px;\"/></center>"
   ]
  },
  {
   "cell_type": "markdown",
   "metadata": {
    "slideshow": {
     "slide_type": "slide"
    }
   },
   "source": [
    "# Ejercicio de Acondicionamiento de corte\n",
    "\n",
    "<br/>\n",
    "\n",
    "<center><img src='../figuras/acondicionamiento_corte_2.png' style=\"width: 500px;\"/></center>"
   ]
  }
 ],
 "metadata": {
  "celltoolbar": "Slideshow",
  "kernelspec": {
   "display_name": "Python 3",
   "language": "python",
   "name": "python3"
  },
  "language_info": {
   "codemirror_mode": {
    "name": "ipython",
    "version": 3
   },
   "file_extension": ".py",
   "mimetype": "text/x-python",
   "name": "python",
   "nbconvert_exporter": "python",
   "pygments_lexer": "ipython3",
   "version": "3.7.5"
  }
 },
 "nbformat": 4,
 "nbformat_minor": 2
}
