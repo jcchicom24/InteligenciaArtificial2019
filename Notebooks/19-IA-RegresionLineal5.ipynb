{
 "cells": [
  {
   "cell_type": "markdown",
   "metadata": {},
   "source": [
    "<center>\n",
    "    <h1>Inteligencia Artificial</h1>\n",
    "    <h1>Regresión Lineal 5</h1>\n",
    "    <h1></h1>\n",
    "    <h5>Prof. Wladimir Rodriguez</h5>\n",
    "    <h5>wladimir.rodriguez@outlook.com</h5>\n",
    "    <h5>Departamento de Computación</h5>\n",
    "</center>"
   ]
  },
  {
   "cell_type": "markdown",
   "metadata": {},
   "source": [
    "# Regresión Lineal Regularizada II\n",
    "\n",
    "## Selección del parámetro de penalización l2 (alfa) en la Regresión Lineal Ridge\n",
    "\n",
    "## Validación Cruzada y Selección de Atributos"
   ]
  },
  {
   "cell_type": "markdown",
   "metadata": {},
   "source": [
    "Al igual que el grado polinomial, la penalización L2 es un parámetro \"mágico\" que debemos seleccionar. Podríamos utilizar el enfoque de validación como lo hicimos en anteriormente, pero ese enfoque tiene una gran desventaja: deja menos observaciones disponibles para el entrenamiento. La validación cruzada busca superar este problema utilizando todo el conjunto de entrenamiento de una manera inteligente.\n",
    "\n",
    "<img src=\"../figuras/division_datos.png\" width=\"75%\">\n",
    "\n",
    "Implementaremos una especie de validación cruzada llamada validación cruzada \"k-fold\". El método obtiene su nombre porque implica dividir el conjunto de entrenamiento en k segmentos de tamaño prácticamente igual. Similar al método del conjunto de validación, medimos el error de validación con uno de los segmentos designados como el conjunto de validación. \n",
    "\n",
    "La diferencia principal es que repetimos el proceso k veces de la siguiente manera:\n",
    "\n",
    "- Seleccione el segmento 0 como el conjunto de validación y ajuste un modelo en el resto de los datos y evalúelo con  este conjunto de validación\n",
    "- Seleccione el segmento 1 como el conjunto de validación y ajuste un modelo en el resto de los datos y evalúelo con este conjunto de validación\n",
    "- ...\n",
    "- Seleccione el segmento k-1 como el conjunto de validación y ajuste un modelo en el resto de los datos y evalúelo con este conjunto de validación\n",
    "\n",
    "![](../figuras/validacion_cruzada.png)\n",
    "\n",
    "Después de este proceso, calculamos el promedio de los k errores de validación, y lo usamos como una estimación del error de generalización. Observe que todas las observaciones se usan tanto para el entrenamiento como para la validación, a medida que iteramos sobre segmentos de datos.\n",
    "\n",
    "Para estimar bien el error de generalización, es crucial mezclar los datos de entrenamiento antes de dividirlos en segmentos. Reservamos el 10% de los datos como conjunto de prueba y barajamos el resto. (Asegúrese de usar random_state = 0 para obtener una respuesta consistente.)"
   ]
  },
  {
   "cell_type": "code",
   "execution_count": 21,
   "metadata": {},
   "outputs": [],
   "source": [
    "import math\n",
    "import random\n",
    "import numpy as np\n",
    "import pandas as pd\n",
    "from sklearn.linear_model import LinearRegression, Ridge, Lasso\n",
    "from sklearn.model_selection import train_test_split\n",
    "from sklearn.utils import shuffle\n",
    "from sklearn.metrics import mean_squared_error\n",
    "from matplotlib import pyplot as plt\n",
    "%matplotlib inline\n",
    "import warnings\n",
    "warnings.filterwarnings(\"ignore\")"
   ]
  },
  {
   "cell_type": "markdown",
   "metadata": {},
   "source": [
    "### Lectura de los datos"
   ]
  },
  {
   "cell_type": "code",
   "execution_count": 22,
   "metadata": {},
   "outputs": [],
   "source": [
    "ventas = pd.read_csv('../datos/kc_house_data.csv')\n",
    "ventas = shuffle(ventas)\n",
    "atributos = list(ventas)\n",
    "atributos.remove('price')\n",
    "atributos.remove('date')\n",
    "atributos.remove('id')"
   ]
  },
  {
   "cell_type": "markdown",
   "metadata": {},
   "source": [
    "### Dividir los datos en dos conjuntos uno de entrenamiento y validación y el otro de prueba"
   ]
  },
  {
   "cell_type": "code",
   "execution_count": 23,
   "metadata": {},
   "outputs": [
    {
     "data": {
      "text/html": [
       "<div>\n",
       "<style scoped>\n",
       "    .dataframe tbody tr th:only-of-type {\n",
       "        vertical-align: middle;\n",
       "    }\n",
       "\n",
       "    .dataframe tbody tr th {\n",
       "        vertical-align: top;\n",
       "    }\n",
       "\n",
       "    .dataframe thead th {\n",
       "        text-align: right;\n",
       "    }\n",
       "</style>\n",
       "<table border=\"1\" class=\"dataframe\">\n",
       "  <thead>\n",
       "    <tr style=\"text-align: right;\">\n",
       "      <th></th>\n",
       "      <th>id</th>\n",
       "      <th>date</th>\n",
       "      <th>price</th>\n",
       "      <th>bedrooms</th>\n",
       "      <th>bathrooms</th>\n",
       "      <th>sqft_living</th>\n",
       "      <th>sqft_lot</th>\n",
       "      <th>floors</th>\n",
       "      <th>waterfront</th>\n",
       "      <th>view</th>\n",
       "      <th>...</th>\n",
       "      <th>grade</th>\n",
       "      <th>sqft_above</th>\n",
       "      <th>sqft_basement</th>\n",
       "      <th>yr_built</th>\n",
       "      <th>yr_renovated</th>\n",
       "      <th>zipcode</th>\n",
       "      <th>lat</th>\n",
       "      <th>long</th>\n",
       "      <th>sqft_living15</th>\n",
       "      <th>sqft_lot15</th>\n",
       "    </tr>\n",
       "  </thead>\n",
       "  <tbody>\n",
       "    <tr>\n",
       "      <th>5742</th>\n",
       "      <td>1224049005</td>\n",
       "      <td>20140708T000000</td>\n",
       "      <td>1087500.0</td>\n",
       "      <td>2</td>\n",
       "      <td>2.0</td>\n",
       "      <td>2360</td>\n",
       "      <td>11340</td>\n",
       "      <td>1.5</td>\n",
       "      <td>0</td>\n",
       "      <td>0</td>\n",
       "      <td>...</td>\n",
       "      <td>9</td>\n",
       "      <td>2360</td>\n",
       "      <td>0</td>\n",
       "      <td>1997</td>\n",
       "      <td>0</td>\n",
       "      <td>98040</td>\n",
       "      <td>47.5835</td>\n",
       "      <td>-122.227</td>\n",
       "      <td>3030</td>\n",
       "      <td>11340</td>\n",
       "    </tr>\n",
       "    <tr>\n",
       "      <th>12582</th>\n",
       "      <td>7625703405</td>\n",
       "      <td>20140910T000000</td>\n",
       "      <td>431000.0</td>\n",
       "      <td>2</td>\n",
       "      <td>1.0</td>\n",
       "      <td>1000</td>\n",
       "      <td>6500</td>\n",
       "      <td>1.0</td>\n",
       "      <td>0</td>\n",
       "      <td>0</td>\n",
       "      <td>...</td>\n",
       "      <td>7</td>\n",
       "      <td>1000</td>\n",
       "      <td>0</td>\n",
       "      <td>1918</td>\n",
       "      <td>0</td>\n",
       "      <td>98136</td>\n",
       "      <td>47.5474</td>\n",
       "      <td>-122.388</td>\n",
       "      <td>1280</td>\n",
       "      <td>6500</td>\n",
       "    </tr>\n",
       "    <tr>\n",
       "      <th>13095</th>\n",
       "      <td>1231000458</td>\n",
       "      <td>20140720T000000</td>\n",
       "      <td>666570.0</td>\n",
       "      <td>4</td>\n",
       "      <td>2.0</td>\n",
       "      <td>2320</td>\n",
       "      <td>7400</td>\n",
       "      <td>1.5</td>\n",
       "      <td>0</td>\n",
       "      <td>0</td>\n",
       "      <td>...</td>\n",
       "      <td>7</td>\n",
       "      <td>1620</td>\n",
       "      <td>700</td>\n",
       "      <td>1913</td>\n",
       "      <td>0</td>\n",
       "      <td>98118</td>\n",
       "      <td>47.5558</td>\n",
       "      <td>-122.269</td>\n",
       "      <td>1740</td>\n",
       "      <td>4000</td>\n",
       "    </tr>\n",
       "    <tr>\n",
       "      <th>20262</th>\n",
       "      <td>7787920250</td>\n",
       "      <td>20150501T000000</td>\n",
       "      <td>550000.0</td>\n",
       "      <td>4</td>\n",
       "      <td>2.5</td>\n",
       "      <td>3220</td>\n",
       "      <td>9328</td>\n",
       "      <td>2.0</td>\n",
       "      <td>0</td>\n",
       "      <td>0</td>\n",
       "      <td>...</td>\n",
       "      <td>8</td>\n",
       "      <td>3220</td>\n",
       "      <td>0</td>\n",
       "      <td>2006</td>\n",
       "      <td>0</td>\n",
       "      <td>98019</td>\n",
       "      <td>47.7273</td>\n",
       "      <td>-121.958</td>\n",
       "      <td>3020</td>\n",
       "      <td>9300</td>\n",
       "    </tr>\n",
       "    <tr>\n",
       "      <th>10954</th>\n",
       "      <td>510002010</td>\n",
       "      <td>20140630T000000</td>\n",
       "      <td>875000.0</td>\n",
       "      <td>4</td>\n",
       "      <td>1.5</td>\n",
       "      <td>1800</td>\n",
       "      <td>3245</td>\n",
       "      <td>1.5</td>\n",
       "      <td>0</td>\n",
       "      <td>0</td>\n",
       "      <td>...</td>\n",
       "      <td>8</td>\n",
       "      <td>1800</td>\n",
       "      <td>0</td>\n",
       "      <td>1929</td>\n",
       "      <td>0</td>\n",
       "      <td>98103</td>\n",
       "      <td>47.6605</td>\n",
       "      <td>-122.331</td>\n",
       "      <td>1800</td>\n",
       "      <td>4275</td>\n",
       "    </tr>\n",
       "  </tbody>\n",
       "</table>\n",
       "<p>5 rows × 21 columns</p>\n",
       "</div>"
      ],
      "text/plain": [
       "               id             date      price  bedrooms  bathrooms  \\\n",
       "5742   1224049005  20140708T000000  1087500.0         2        2.0   \n",
       "12582  7625703405  20140910T000000   431000.0         2        1.0   \n",
       "13095  1231000458  20140720T000000   666570.0         4        2.0   \n",
       "20262  7787920250  20150501T000000   550000.0         4        2.5   \n",
       "10954   510002010  20140630T000000   875000.0         4        1.5   \n",
       "\n",
       "       sqft_living  sqft_lot  floors  waterfront  view  ...  grade  \\\n",
       "5742          2360     11340     1.5           0     0  ...      9   \n",
       "12582         1000      6500     1.0           0     0  ...      7   \n",
       "13095         2320      7400     1.5           0     0  ...      7   \n",
       "20262         3220      9328     2.0           0     0  ...      8   \n",
       "10954         1800      3245     1.5           0     0  ...      8   \n",
       "\n",
       "       sqft_above  sqft_basement  yr_built  yr_renovated  zipcode      lat  \\\n",
       "5742         2360              0      1997             0    98040  47.5835   \n",
       "12582        1000              0      1918             0    98136  47.5474   \n",
       "13095        1620            700      1913             0    98118  47.5558   \n",
       "20262        3220              0      2006             0    98019  47.7273   \n",
       "10954        1800              0      1929             0    98103  47.6605   \n",
       "\n",
       "          long  sqft_living15  sqft_lot15  \n",
       "5742  -122.227           3030       11340  \n",
       "12582 -122.388           1280        6500  \n",
       "13095 -122.269           1740        4000  \n",
       "20262 -121.958           3020        9300  \n",
       "10954 -122.331           1800        4275  \n",
       "\n",
       "[5 rows x 21 columns]"
      ]
     },
     "execution_count": 23,
     "metadata": {},
     "output_type": "execute_result"
    }
   ],
   "source": [
    "ventas_entre_val, ventas_prueba = train_test_split(ventas, test_size=0.1, random_state=0)\n",
    "ventas_entre_val.head()"
   ]
  },
  {
   "cell_type": "markdown",
   "metadata": {},
   "source": [
    "### Crear los segmentos del conjunto de entrenamiento y validación \n",
    "Una vez que los datos son barajados, lo dividimos en segmentos iguales. Cada segmento debe recibir `n/k` elementos, donde `n` es el número de observaciones en el conjunto de entrenamiento y `k` es el número de segmentos. Puesto que el segmento 0 comienza en el índice 0 y contiene `n/k` elementos, termina en el índice `(n/k)-1`. El segmento 1 comienza donde el segmento 0 se detuvo, en el índice `(n/k)`. Con `n/k` elementos, el segmento 1 termina en el índice `(n*2/k)-1`. Continuando de esta manera, deducimos que el segmento `i` comienza en el índice `(n*i/k)` y termina en `(n*(i+1)/k)-1`.\n",
    "Con este patrón en mente, escribimos un lazo corto que imprime los índices inicial y final de cada segmento, sólo para asegurarse de que está haciendo las divisiones correctas."
   ]
  },
  {
   "cell_type": "code",
   "execution_count": 24,
   "metadata": {},
   "outputs": [
    {
     "name": "stdout",
     "output_type": "stream",
     "text": [
      "0 (0, 1944)\n",
      "1 (1945, 3889)\n",
      "2 (3890, 5834)\n",
      "3 (5835, 7779)\n",
      "4 (7780, 9724)\n",
      "5 (9725, 11669)\n",
      "6 (11670, 13614)\n",
      "7 (13615, 15559)\n",
      "8 (15560, 17504)\n",
      "9 (17505, 19450)\n"
     ]
    }
   ],
   "source": [
    "n = len(ventas_entre_val)\n",
    "k = 10 # validación cruzada 10-fold\n",
    "\n",
    "for i in range(k):\n",
    "    inicio = (n*i)//k\n",
    "    fin = (n*(i+1))//k-1\n",
    "    print(i, (inicio, fin))"
   ]
  },
  {
   "cell_type": "markdown",
   "metadata": {},
   "source": [
    "### Definiciones de algunas funciones de utilidad"
   ]
  },
  {
   "cell_type": "code",
   "execution_count": 25,
   "metadata": {},
   "outputs": [],
   "source": [
    "def imprimir_coefficientes(modelo):    \n",
    "    # Obtener el grado del polinomio\n",
    "    grado = len(modelo.coef_)\n",
    "\n",
    "    # Obtener los parámetros aprendidos como una lista\n",
    "    w = [modelo.intercept_]\n",
    "    w += (modelo.coef_).tolist()\n",
    "    # Numpy tiene un a función para imprimir polinomios de manera elegante\n",
    "    # (La usaremos, pero necesita los parámetros en orden inverso)\n",
    "    print ('Polinomio de grado ' + str(grado) + ':')\n",
    "    w.reverse()\n",
    "    print (np.poly1d(w))"
   ]
  },
  {
   "cell_type": "markdown",
   "metadata": {},
   "source": [
    "Ahora implementaremos la validación cruzada k-fold. Definiremos una función que calcule los k errores de validación designando cada uno de los k segmentos como el conjunto de validación. Acepta como parámetros (i) `k`, (ii)` penalidad_l2`, (iii) los datos de entrenamiento, (iv) la salida (v) lista de atributos. La función devuelve el error de validación medio usando k segmentos como conjuntos de validación.\n",
    "\n",
    "* Para cada `i` en `[0, 1, ..., k-1]`:\n",
    "   * Calcular los índices de inicio y fin del segmento i y llamar 'inicio' y 'fin'\n",
    "   * Crear el conjunto de validación tomando una porción `(inicio: fin + 1)` de los datos.\n",
    "   * Crear el conjunto entrenamiento fijado añadiendo la rebanada `(fin + 1: n)` al final de la rebanada `(0: inicio)`.\n",
    "   * Entrenar un modelo lineal usando un conjunto de entrenamiento recién formado, con una `penalidad_l2` dada\n",
    "   * Calcule el error de validación usando el conjunto de validación recién creado"
   ]
  },
  {
   "cell_type": "code",
   "execution_count": 26,
   "metadata": {},
   "outputs": [],
   "source": [
    "def validacion_cruzada_k_fold(algoritmo, k, penalidad_l2, data, salida, lista_atributos):\n",
    "    n = len(data)\n",
    "    rss = 0\n",
    "    mse = 0\n",
    "    modelo = algoritmo(alpha=penalidad_l2)\n",
    "    X = data[lista_atributos]\n",
    "    y = data[salida]\n",
    "    for i in range(k):\n",
    "        inicio = (n*i)//k\n",
    "        fin = (n*(i+1))//k-1\n",
    "        X_validacion = X[inicio: fin+1]\n",
    "        y_validacion = y[inicio: fin+1]\n",
    "        X_entrenamiento = X[0:inicio]\n",
    "        y_entrenamiento = y[0:inicio]\n",
    "        ultimo_X = X[fin+1:n]\n",
    "        ultimo_y = y[fin+1:n]\n",
    "        X_entrenamiento = X_entrenamiento.append(ultimo_X)\n",
    "        y_entrenamiento = y_entrenamiento.append(ultimo_y)\n",
    "        modelo.fit(X_entrenamiento, y_entrenamiento)\n",
    "        mse += mean_squared_error(y_validacion, modelo.predict(X_validacion))\n",
    "    mse = mse / k\n",
    "    return mse"
   ]
  },
  {
   "cell_type": "markdown",
   "metadata": {},
   "source": [
    "Una vez que tenemos una función para calcular el error de validación promedio de un modelo, podemos escribir un lazo para encontrar el modelo que minimiza el error de validación promedio. Escriba un lazo que haga lo siguiente:\n",
    "Estaremos nuevamente ajustando un modelo polinomial de grado 15 usando la entrada `sqft_living`\n",
    "Con la `penalidad_l2` en `[10^1, 10^1.5, 10^2, 10^2.5, ..., 10^7]` (para obtener esto en Python, puede utilizar esta función Numpy: `np.logspace(1, 7, Num = 13)`\n",
    "Ejecutar validación cruzada de 10-fold con `penalidad_l2`\n",
    "Informe qué penalización de L2 produjo el error de validación promedio más bajo."
   ]
  },
  {
   "cell_type": "code",
   "execution_count": 27,
   "metadata": {},
   "outputs": [
    {
     "name": "stdout",
     "output_type": "stream",
     "text": [
      "[4.15359305e+10 4.15359283e+10 4.15359260e+10 4.15359236e+10\n",
      " 4.15359210e+10 4.15359184e+10 4.15359158e+10 4.15359134e+10\n",
      " 4.15359113e+10 4.15359097e+10 4.15359091e+10 4.15359100e+10\n",
      " 4.15359128e+10 4.15359187e+10 4.15359287e+10 4.15359444e+10\n",
      " 4.15359680e+10 4.15360023e+10 4.15360509e+10 4.15361186e+10]\n",
      "41535909130.490944\n"
     ]
    }
   ],
   "source": [
    "\n",
    "penalidad_l2 = np.logspace(-1, 0.1, num=20)\n",
    "mse = np.empty(len(penalidad_l2))\n",
    "data = ventas_entre_val[atributos]\n",
    "mis_atributos = list(data)\n",
    "data['price'] = ventas_entre_val['price']\n",
    "for i in range(len(penalidad_l2)):\n",
    "    mse[i] = validacion_cruzada_k_fold(Ridge, 10, penalidad_l2[i], data, 'price', atributos)\n",
    "print (mse)\n",
    "print (min(mse))\n",
    "    \n"
   ]
  },
  {
   "cell_type": "markdown",
   "metadata": {},
   "source": [
    "Graficar el error de validación con respecto al valor de la penalización"
   ]
  },
  {
   "cell_type": "code",
   "execution_count": 28,
   "metadata": {},
   "outputs": [
    {
     "name": "stdout",
     "output_type": "stream",
     "text": [
      "alfa =  0.37926901907322497\n",
      "MSE = 41535909130.490944\n"
     ]
    },
    {
     "data": {
      "image/png": "[encoded data removed]",
      "text/plain": [
       "<Figure size 432x288 with 1 Axes>"
      ]
     },
     "metadata": {
      "needs_background": "light"
     },
     "output_type": "display_data"
    }
   ],
   "source": [
    "# Graficar los valores de la penalizacion_l2 en el eje xy el error de validación cruzada en el eje y.\n",
    "# El uso de plt.xscale ('log') hará que su trazado sea más intuitivo. \n",
    "alfa = penalidad_l2[np.argmin(mse)]\n",
    "print('alfa = ', alfa )\n",
    "print('MSE =', mse[np.argmin(mse)])\n",
    "plt.plot(penalidad_l2, mse,'.')\n",
    "plt.xscale('log')"
   ]
  },
  {
   "cell_type": "markdown",
   "metadata": {},
   "source": [
    "Una vez que encuentre el mejor valor para la penalización L2 mediante la validación cruzada, es importante reentrenar un modelo final con todos los datos de entrenamiento usando este valor de `penalizacion_l2`. De esta manera, su modelo final será entrenado con el conjunto de datos completo."
   ]
  },
  {
   "cell_type": "code",
   "execution_count": 29,
   "metadata": {},
   "outputs": [
    {
     "name": "stdout",
     "output_type": "stream",
     "text": [
      "MSE = 34484087107.21842\n",
      "Polinomio de grado 18:\n",
      "         18         17             16             15         14\n",
      "-0.3837 x  + 17.42 x  - 2.164e+05 x  + 6.026e+05 x  - 603.3 x \n",
      "          13        12         11         10             9\n",
      " + 20.99 x  - 2624 x  + 38.83 x  + 72.64 x  + 9.649e+04 x\n",
      "              8            7             6        5         4         3\n",
      " + 2.644e+04 x + 5.59e+04 x + 5.995e+05 x + 6467 x + 0.114 x + 111.5 x\n",
      "              2\n",
      " + 4.193e+04 x - 3.624e+04 x + 8.55e+06\n"
     ]
    }
   ],
   "source": [
    "modeloRidge = Ridge(alpha=alfa)\n",
    "X = ventas_entre_val[atributos]\n",
    "y = ventas_entre_val['price']\n",
    "X_prueba = ventas_prueba[atributos]\n",
    "y_prueba = ventas_prueba['price']\n",
    "modeloRidge.fit(X, y)\n",
    "mse = mean_squared_error(y_prueba, modeloRidge.predict(X_prueba))\n",
    "print('MSE =', mse )\n",
    "imprimir_coefficientes(modeloRidge)"
   ]
  },
  {
   "cell_type": "markdown",
   "metadata": {},
   "source": [
    "### Valor de los coefficientes con respecto al valor de la penalización. Regresión Lineal Ridge\n",
    "\n",
    "Los valores de los coeeficientes tienden a cero a medida que se incrementa el valor de la penalización (alfa)\n",
    "\n",
    "<img src=\"../figuras/ridge_coefficientes.png\" width=\"75%\">\n",
    "\n",
    "\n",
    "Contornos de la función de penalización y el error para la Regresión Lineal Ridge\n",
    "\n",
    "<img src=\"../figuras/estimacion_ridge.png\" width=\"75%\">"
   ]
  },
  {
   "cell_type": "code",
   "execution_count": 30,
   "metadata": {},
   "outputs": [
    {
     "name": "stdout",
     "output_type": "stream",
     "text": [
      "MSE = 34488638294.703255\n",
      "Polinomio de grado 18:\n",
      "         18         17             16             15         14\n",
      "-0.3835 x  + 17.43 x  - 2.168e+05 x  + 6.033e+05 x  - 604.1 x \n",
      "          13        12        11         10             9             8\n",
      " + 20.98 x  - 2623 x  + 38.8 x  + 72.65 x  + 9.647e+04 x + 2.645e+04 x\n",
      "              7             6        5          4         3\n",
      " + 5.583e+04 x + 6.014e+05 x + 6434 x + 0.1143 x + 111.5 x\n",
      "              2\n",
      " + 4.193e+04 x - 3.623e+04 x + 8.544e+06\n"
     ]
    }
   ],
   "source": [
    "modeloLR = LinearRegression()\n",
    "modeloLR.fit(X, y)\n",
    "mse = mean_squared_error(y_prueba, modeloLR.predict(X_prueba))\n",
    "print('MSE =', mse )\n",
    "imprimir_coefficientes(modeloLR)"
   ]
  },
  {
   "cell_type": "markdown",
   "metadata": {},
   "source": [
    "## Selección de Atributos Usando Regresión Lasso"
   ]
  },
  {
   "cell_type": "code",
   "execution_count": 31,
   "metadata": {},
   "outputs": [],
   "source": [
    "def seleccion_atributos(k, penalidad_l1, data, salida, lista_atributos):\n",
    "    n = len(data)\n",
    "    mse = 0\n",
    "    modelo = Lasso(alpha=penalidad_l1)\n",
    "    X = data[lista_atributos]\n",
    "    y = data[salida]\n",
    "    for i in range(k):\n",
    "        inicio = (n*i)//k\n",
    "        fin = (n*(i+1))//k-1\n",
    "        X_validacion = X[inicio: fin+1]\n",
    "        y_validacion = y[inicio: fin+1]\n",
    "        X_entrenamiento = X[0:inicio]\n",
    "        y_entrenamiento = y[0:inicio]\n",
    "        ultimo_X = X[fin+1:n]\n",
    "        ultimo_y = y[fin+1:n]\n",
    "        X_entrenamiento = X_entrenamiento.append(ultimo_X)\n",
    "        y_entrenamiento = y_entrenamiento.append(ultimo_y)\n",
    "        modelo.fit(X_entrenamiento, y_entrenamiento)\n",
    "        mse += mean_squared_error(y_validacion, modelo.predict(X_validacion))\n",
    "    mse = mse / k\n",
    "    return mse"
   ]
  },
  {
   "cell_type": "code",
   "execution_count": 33,
   "metadata": {},
   "outputs": [
    {
     "name": "stdout",
     "output_type": "stream",
     "text": [
      "[4.15359504e+10 4.15359513e+10 4.15359528e+10 4.15359552e+10\n",
      " 4.15359588e+10 4.15359644e+10 4.15359733e+10 4.15359872e+10\n",
      " 4.15360094e+10 4.15360452e+10]\n"
     ]
    }
   ],
   "source": [
    "penalidad_l1 = np.logspace(-1, 0.7, num=10)\n",
    "mse = np.empty(len(penalidad_l1))\n",
    "data = ventas_entre_val[atributos]\n",
    "data['price'] = ventas_entre_val['price']\n",
    "for i in range(len(penalidad_l1)):\n",
    "    mse[i] = validacion_cruzada_k_fold(Lasso, 10, penalidad_l1[i], data, 'price', atributos)\n",
    "print (mse)"
   ]
  },
  {
   "cell_type": "code",
   "execution_count": 34,
   "metadata": {},
   "outputs": [
    {
     "name": "stdout",
     "output_type": "stream",
     "text": [
      "alfa =  5.011872336272722\n",
      "MSE = 41535950365.28935\n"
     ]
    },
    {
     "data": {
      "image/png": "[encoded data removed]",
      "text/plain": [
       "<Figure size 432x288 with 1 Axes>"
      ]
     },
     "metadata": {
      "needs_background": "light"
     },
     "output_type": "display_data"
    }
   ],
   "source": [
    "# Graficar los valores de la penalizacion_l1 en el eje xy el error de validación cruzada en el eje y.\n",
    "# El uso de plt.xscale ('log') hará que su trazado sea más intuitivo. \n",
    "alfa = penalidad_l1[np.argmax(mse)]\n",
    "print('alfa = ', alfa )\n",
    "print('MSE =', mse[np.argmin(mse)])\n",
    "plt.plot(penalidad_l1, mse,'.')\n",
    "plt.xscale('log')"
   ]
  },
  {
   "cell_type": "code",
   "execution_count": 35,
   "metadata": {},
   "outputs": [
    {
     "name": "stdout",
     "output_type": "stream",
     "text": [
      "MSE = 53870184064.55438\n",
      "Polinomio de grado 18:\n",
      "         18         17     16         13     12         11     10\n",
      "-0.7241 x  + 61.44 x  - 0 x  + 53.82 x  - 0 x  + 3.027 x  - 0 x \n",
      "           4         3\n",
      " + 0.0518 x + 244.2 x - 0 x - 8.54e+04\n"
     ]
    }
   ],
   "source": [
    "modeloLasso = Lasso(alpha=5000000)\n",
    "modeloLasso.fit(X, y)\n",
    "mse = mean_squared_error(y_prueba, modeloLasso.predict(X_prueba))\n",
    "print('MSE =', mse )\n",
    "imprimir_coefficientes(modeloLasso)"
   ]
  },
  {
   "cell_type": "markdown",
   "metadata": {},
   "source": [
    "### Valor de los coefficientes con respecto al valor de la penalización. Regresión Lineal Lasso\n",
    "\n",
    "Los valores de los coeeficientes se van haciendo igual a cero a medida que se incrementa el valor de la penalización (alfa)\n",
    "\n",
    "<img src=\"../figuras/lasso_coefficientes.png\" width=\"75%\">\n",
    "\n",
    "\n",
    "Contornos de la función de penalización y el error para la Regresión Lineal Lasso\n",
    "\n",
    "<img src=\"../figuras/estimacion_lasso.png\" width=\"75%\">"
   ]
  },
  {
   "cell_type": "code",
   "execution_count": null,
   "metadata": {},
   "outputs": [],
   "source": []
  }
 ],
 "metadata": {
  "anaconda-cloud": {},
  "kernelspec": {
   "display_name": "Python 3",
   "language": "python",
   "name": "python3"
  },
  "language_info": {
   "codemirror_mode": {
    "name": "ipython",
    "version": 3
   },
   "file_extension": ".py",
   "mimetype": "text/x-python",
   "name": "python",
   "nbconvert_exporter": "python",
   "pygments_lexer": "ipython3",
   "version": "3.7.6"
  }
 },
 "nbformat": 4,
 "nbformat_minor": 4
}
