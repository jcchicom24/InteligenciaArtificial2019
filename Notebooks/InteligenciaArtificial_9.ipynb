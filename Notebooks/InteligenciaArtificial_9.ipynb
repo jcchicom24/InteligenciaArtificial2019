{
 "cells": [
  {
   "cell_type": "markdown",
   "metadata": {
    "slideshow": {
     "slide_type": "slide"
    }
   },
   "source": [
    "<center>\n",
    "    <h1>Inteligencia Artificial</h1>\n",
    "    <h1>Lógica de Predicados</h1>\n",
    "    <h1></h1>\n",
    "    <h5>Prof. Wladimir Rodriguez</h5>\n",
    "    <h5>wladimir.rodriguez@outlook.com</h5>\n",
    "    <h5>Departamento de Computación</h5>\n",
    "</center>"
   ]
  },
  {
   "cell_type": "markdown",
   "metadata": {
    "slideshow": {
     "slide_type": "slide"
    }
   },
   "source": [
    "## Lógica General\n",
    "\n",
    "- Las lógicas se caracterizan por lo que ellas consideran como \"primitivas\".\n",
    "\n",
    "![](../figuras/logicas.png)"
   ]
  },
  {
   "cell_type": "markdown",
   "metadata": {
    "slideshow": {
     "slide_type": "slide"
    }
   },
   "source": [
    "## Sintaxis Básica de la Lógica de Predicados ó Lógica de Primer Orden\n",
    "\n",
    "- Un *término* es utilizado para denotar un objeto en el mundo.\n",
    "    - **constante**: LuisPerez, 2, Coro,Verde, ...\n",
    "    - **variable**:   x, y, a, b, c, …\n",
    "    - **función($term_1, …, term_n$)**: \n",
    "        - e.g. Sqrt(9), Distancia(Coro,Caracas)\n",
    "        - mapea uno o mas objetos con otro objeto\n",
    "        - se puede referir a un objeto sin nombre: e.g. PiernaIzquieradDe(Juan)\n",
    "    - representa una relación funcional definida por el usuario\n",
    "- Un *término base* es un término sin variables."
   ]
  },
  {
   "cell_type": "markdown",
   "metadata": {
    "slideshow": {
     "slide_type": "subslide"
    }
   },
   "source": [
    "- Un *átomo* es la expresión mas pequeña a la que se le puede asignar un valor de verdad.\n",
    "    - predicado(term1, …, termn):\n",
    "        - Maestro(Luis, Ana), <=(Sqrt(2),Sqrt(7))\n",
    "        - mapea uno o mas objetos a un valor de verdad\n",
    "        - representa una relación definida por el usuario\n",
    "    - $term_1 = term_2$:\n",
    "        - $Ingreso(Juan) = 200K$,  $1 = 2$\n",
    "        - representa la relación de igualdad cuando dos términos se refieren al mismo objeto"
   ]
  },
  {
   "cell_type": "markdown",
   "metadata": {
    "slideshow": {
     "slide_type": "subslide"
    }
   },
   "source": [
    "- Una *sentencia* representa un hecho en el mundo al cual le es asignado un valor de verdad.\n",
    "    - átomo\n",
    "    - sentencias complejas usando los conectores: ∧ ∨ ¬ ⇒ ⇔\n",
    "        - $Amigo(Luis,Ana) ⇒ Amigo(Ana,Luis)$\n",
    "        - $>(11,22)\\text{ } ∧ <(22,33)$\n",
    "    - sentencias complejas utilizando variables cuantificadas: $\\forall$ $\\exists$"
   ]
  },
  {
   "cell_type": "markdown",
   "metadata": {
    "slideshow": {
     "slide_type": "subslide"
    }
   },
   "source": [
    "- A las sentencias se les asigna un valor de verdad con respecto a un *modelo* y a una *interpretación*.\n",
    "\n",
    "    - El *modelo* contiene los objetos y las relaciones entre ellos.\n",
    "    - La *interpretación* específica que símbolos se refieren a:\n",
    "        - los símbolos constantes se refieren a objetos\n",
    "        - los símbolos de predicados se refieren a relaciones.\n",
    "        - los símbolos de funciones se refieren a relaciones funcionales."
   ]
  },
  {
   "cell_type": "markdown",
   "metadata": {
    "slideshow": {
     "slide_type": "slide"
    }
   },
   "source": [
    "## Semántica de la Lógica de Predicados: Asignación de Verdad\n",
    "\n",
    "- El átomo $predicado(term_1, \\cdots, term_n)$ es verdadero si y solo si los objetos referidos por $term_1,\\cdots, term_n$ están en la relación indicada por el predicado.\n",
    "- ¿Cual es el valor de verdad para F(A,L)?\n",
    "    - modelo: \n",
    "        - objetos: Ana, Juan, Maria, Luis\n",
    "        - relación: Amigo {<Ana,Maria>,<Maria,Ana>}\n",
    "    - interpretación: \n",
    "        - A significa Ana, J significa Juan, M significa Maria, L significa Luis\n",
    "        - $F(term_1,term_2)$ significa $term_1$ es amigo de $term_2$"
   ]
  },
  {
   "cell_type": "markdown",
   "metadata": {
    "slideshow": {
     "slide_type": "slide"
    }
   },
   "source": [
    "## Sintaxis de LPO: Cuantificadores\n",
    "\n",
    "### Cuantificador Universal: $\\forall<variables> <sentencia>$\n",
    "    - La sentencia se mantiene verdadera para todos los valores de $x$ en el dominio de la variable $x$.\n",
    "\n",
    "- El conector principal es normalmente ⇒ formando reglas si-entonces\n",
    "    - Todos los humanos son mamíferos.\n",
    "        - $\\forall x Humano(x) \\Rightarrow Mamifero(x)$\n",
    "    - significa si $x$ es un humano entonces $x$ es un mamífero"
   ]
  },
  {
   "cell_type": "markdown",
   "metadata": {
    "slideshow": {
     "slide_type": "subslide"
    }
   },
   "source": [
    "- $\\forall x Humano(x) \\Rightarrow Mamifero(x)$\n",
    "\n",
    "- Equivalente a la conjunción de las instanciaciones de $x$:\n",
    "    - $(Humano(Juan)\\Rightarrow Mamifero(Juan)) \\land \\\\ (Humano(Ana) \\Rightarrow Mamifero(Ana)) \\land \\\\(Humano(22)  \\Rightarrow Manifero(22)) \\land \\cdots $"
   ]
  },
  {
   "cell_type": "markdown",
   "metadata": {
    "slideshow": {
     "slide_type": "subslide"
    }
   },
   "source": [
    "- Es un error común el usar $\\land$ como conector principal.\n",
    "    - resultando en una sentencia general acerca de todo.\n",
    "\n",
    "- Por ejemplo: $\\forall x Humano(x) \\land Mamifero(x)$\n",
    "    - $(Humano(Juan)\\land Mamifero(Juan)) \\land \\\\ (Humano(Ana) \\land Mamifero(Ana)) \\land \\\\(Humano(22)  \\land Manifero(22)) \\land \\cdots $\n",
    "    - significa que todo es humano y mamífero"
   ]
  },
  {
   "cell_type": "markdown",
   "metadata": {
    "slideshow": {
     "slide_type": "slide"
    }
   },
   "source": [
    "### Cuantificador existencial: $\\exists<variables> <sentencia>$\n",
    "\n",
    "- La sentencia será verdadera para algún valor de $x$ en el dominio de la variable $x$.\n",
    "\n",
    "- Conector principal típico $\\land$\n",
    "    - Algunos humanos son viejos.\n",
    "        - $\\exists x Humano(x) \\land Viejo(x)$\n",
    "        - significa que $x$ es un humano y que $x$ es viejo"
   ]
  },
  {
   "cell_type": "markdown",
   "metadata": {
    "slideshow": {
     "slide_type": "subslide"
    }
   },
   "source": [
    "- $\\exists x Humano(x) \\land Viejo(x)$\n",
    "- Equivalente a la disyunción de instanciaciones de x:\n",
    "    - $(Humano(Juan) \\land Viejo(Juan)) \\lor \\\\ (Humano(Ana) \\land Viejo(Ana)) \\lor \\\\ (Humano(22)  \\land Viejo(22) ) \\lor \\cdots$"
   ]
  },
  {
   "cell_type": "markdown",
   "metadata": {
    "slideshow": {
     "slide_type": "subslide"
    }
   },
   "source": [
    "- Un error común es el usar $\\Rightarrow$ como conector principal.\n",
    "    - resultando en una sentencia débil\n",
    "\n",
    "- Por ejemplo: $\\exists x Humano(x) \\Rightarrow Viejo(x)$\n",
    "    - $(Humano(Juan) \\Rightarrow Viejo(Juan)) \\lor \\\\ (Humano(Ana) \\Rightarrow Viejo(Ana)) \\lor \\\\ (Humano(22)  \\Rightarrow Viejo(22) ) \\lor \\cdots$\n",
    "    - verdadero si existe cualquier cosa que no es humano"
   ]
  },
  {
   "cell_type": "markdown",
   "metadata": {
    "slideshow": {
     "slide_type": "slide"
    }
   },
   "source": [
    "### Propiedades de los cuantificadores:\n",
    "\n",
    "- $\\forall x \\forall y$ es lo mismo que $\\forall y \\forall x$\n",
    "- $\\exists x \\exists y$ es lo mismo que $\\exists y \\exists x$\n",
    "- ¿Por qué?\n",
    "    - $\\forall x \\forall y \\text{ }Querer(x,y)$ es voz activa:\n",
    "        - Todo el mundo quiere a todo el mundo\n",
    "    - $\\forall y \\forall x \\text{ }Querer(x,y)$ es voz pasiva:\n",
    "        - Todo el mundo es querido por todo el mundo"
   ]
  },
  {
   "cell_type": "markdown",
   "metadata": {
    "slideshow": {
     "slide_type": "subslide"
    }
   },
   "source": [
    "- $\\forall x \\exists y$ no es lo mismo que $\\exists y \\forall x$\n",
    "- $\\exists x \\forall y$ no es lo mismo que $\\forall y \\exists x$\n",
    "- ¿Por qué?\n",
    "    - $\\forall x \\exists y \\text{ }Querer(x,y)$ es voz activa:\n",
    "        - Todos quieren a alguien.\n",
    "    - $\\exists x \\forall y \\text{ }Querer(x,y)$ es voz pasiva:\n",
    "        - Alguien es querido por todos."
   ]
  },
  {
   "cell_type": "markdown",
   "metadata": {
    "slideshow": {
     "slide_type": "subslide"
    }
   },
   "source": [
    "- $\\forall x P(x)$ es lo mismo que $\\neg \\exists x \\neg P(x)$\n",
    "- $\\exists x P(x)$ es lo mismo que $\\neg \\forall x \\neg P(x)$\n",
    "- ¿Por qué?\n",
    "    - $\\forall x \\text{ }Gustar(x,Helado)$\n",
    "        - A todos les gusta el helado.\n",
    "    - $\\neg \\exists x \\text{ }\\neg Gustar(x,Helado)$ es  una doble negación\n",
    "        - No hay nadie que no le guste el helado."
   ]
  },
  {
   "cell_type": "markdown",
   "metadata": {
    "slideshow": {
     "slide_type": "subslide"
    }
   },
   "source": [
    "- $\\forall x P(x)$ si se niega es $\\exists x \\neg P(x)$\n",
    "- $\\exists x P(x)$ si se niega es $\\forall x \\neg P(x)$\n",
    "- ¿Por qué?\n",
    "    - $\\forall x \\text{ } Gustar(x,Helado)$\n",
    "        - A todos les gusta el helado.\n",
    "    - $\\exists x \\text{ }\\neg Gustar(x,Helado)$\n",
    "        - A alguien no le gusta el helado.\n",
    "- se debe aplicar la Ley de Morgan para instanciar completamente la sentencia"
   ]
  },
  {
   "cell_type": "markdown",
   "metadata": {
    "slideshow": {
     "slide_type": "slide"
    }
   },
   "source": [
    "## Sintaxis de LPO: Bases\n",
    "\n",
    "- Una variable libre es una variable que no esta atada a un cuantificador.\n",
    "    - $\\exists y \\text{ }Gustar(x,y)$\n",
    "        - $x$ es libre, $y$ esta atada\n",
    "\n",
    "- Una formula bien formada es una sentencia donde todas las variables están cuantificadas."
   ]
  },
  {
   "cell_type": "markdown",
   "metadata": {
    "slideshow": {
     "slide_type": "slide"
    }
   },
   "source": [
    "## Resumen\n",
    "\n",
    "- *Constantes*: Luis, 2, Coro, …\n",
    "- *Funciones*: Ingreso, Dirección, Sqrt, …\n",
    "- *Predicados*: Hermana, Maestro, $\\leq, \\cdots$\n",
    "- *Variables*: $x, y, a, b, c,\\cdots$\n",
    "- *Conectores*: $\\land \\text{ } \\lor\\text{ } \\neg \\text{ }\\Rightarrow \\text{ } \\Leftrightarrow$\n",
    "- *Igualdad*: =\n",
    "- Cuantificadores: $\\forall$ $\\exists$"
   ]
  },
  {
   "cell_type": "markdown",
   "metadata": {
    "slideshow": {
     "slide_type": "subslide"
    }
   },
   "source": [
    "- *Termino*: Constante, variable, o Función($term_1, \\cdots, term_n$)\n",
    "    - denota un objeto en el mundo\n",
    "    - término base no tiene variables atadas\n",
    "- *Atomo*: Predicado($term_1, \\cdots, term_n$), $term_1 = term_n$\n",
    "    - es la expresión mas pequeña a la que se le puede asignar un valor de verdad\n",
    "- *Sentencia*: átomo, sentencia cuantificada con variables o sentencias complejas usando conectores\n",
    "    - se le asigna un valor de verdad\n",
    "- *Formula Bien Formada (fbf)*: sentencia con todas las variables cuantificada"
   ]
  },
  {
   "cell_type": "markdown",
   "metadata": {
    "slideshow": {
     "slide_type": "slide"
    }
   },
   "source": [
    "## Ejemplos\n",
    "\n",
    "- Convertir las siguientes sentencias a LPO.\n",
    "    - *Luis es un pescado*\n",
    "        - ¿Cuáles son las constantes?: Luis\n",
    "        - ¿Cuáles son las relaciones?: es un pescado\n",
    "        - Respuesta: Pescado(Luis)\n",
    "    - *Ana y María son mujeres*\n",
    "    - *Ana y María son amigas*\n",
    "    - *Ana o María no son plantas*"
   ]
  },
  {
   "cell_type": "markdown",
   "metadata": {
    "slideshow": {
     "slide_type": "subslide"
    }
   },
   "source": [
    "- *América le compro Alaska a Rusia*\n",
    "    - ¿Cuáles son las constantes?: América, Alaska, Rusia\n",
    "    - ¿Cuáles son las relaciones?: comprar\n",
    "    - Respuesta: Comprar(America, Alaska, Rusia)\n",
    "- *Tibio es entre frío y caliente*\n",
    "- *Ana, Luisa, Juan y José fueron juntos al baile*"
   ]
  },
  {
   "cell_type": "markdown",
   "metadata": {
    "slideshow": {
     "slide_type": "subslide"
    }
   },
   "source": [
    "- *Juan colecciona de todo*\n",
    "    - ¿Cuáles son las variables?: de todo\n",
    "    - ¿Cuales son los cuantificadores?: universal\n",
    "    - Respuesta: ∀x Colecciona (Juan, x)\n",
    "        - Colecciona(Juan, Lápiz) $\\land$ Colecciona(Juan,Ana) $\\land \\cdots$\n",
    "- *Juan colecciona algo*\n",
    "- *Alguien colecciona a Juan*"
   ]
  },
  {
   "cell_type": "markdown",
   "metadata": {
    "slideshow": {
     "slide_type": "subslide"
    }
   },
   "source": [
    "- *Todos*\n",
    "    - cosas: cualquier cosa, todas las cosas, cualquiera\n",
    "    - personas: cualquiera, todo el mundo, cada uno, quienquiera\n",
    "- *Alguno (al menos uno)*\n",
    "    - cosas: algo\n",
    "    - personas: alguien, alguno\n",
    "- *Ninguno*\n",
    "    - cosas: nada\n",
    "    - personas: nadie, ninguno"
   ]
  },
  {
   "cell_type": "markdown",
   "metadata": {
    "slideshow": {
     "slide_type": "subslide"
    }
   },
   "source": [
    "- *Algo colecciona a algo*\n",
    "    - ¿Cuáles son las variables?: algo y algo\n",
    "    - ¿Cuáles son los cuantificadores?: al menos uno, existencia\n",
    "    - Respuesta: $\\exists x,y \\text{ }Colecciona(x, y)$\n",
    "- *Todo colecciona algo*\n",
    "- *Todo colecciona a todo*\n",
    "- *Algo colecciona a todo*"
   ]
  },
  {
   "cell_type": "markdown",
   "metadata": {
    "slideshow": {
     "slide_type": "subslide"
    }
   },
   "source": [
    "- *Todos los zapatos cerrados están permitidos*\n",
    "    - ¿Cómo están conectadas las ideas?\n",
    "        - ser cerrado y ser zapato implica que es permitido\n",
    "    - Respuesta: $\\forall x \\text{ }Zapato(x) \\land Cerrado(x) \\Rightarrow Permitido(x)$\n",
    "- *Ningún zapato cerrado es permitido*\n",
    "    - Respuesta: $\\neg \\exists x \\text{ }Zapato(x) \\land Cerrado(x) \\land Permitido(x)$\n",
    "- Los zapatos cerrados no están permitidos\n",
    "    - Respuesta: $\\forall x \\text{ }Zapato(x) \\land Cerrado(x) \\Rightarrow \\neg Permitido(x)$"
   ]
  },
  {
   "cell_type": "markdown",
   "metadata": {
    "slideshow": {
     "slide_type": "subslide"
    }
   },
   "source": [
    "- *Nada colecciona cualquier cosa*\n",
    "    - ¿Cuales son las variables y cuantificadores?\n",
    "        - nadie y cualquier cosa\n",
    "        - ninguno (no existencial) y todos (universal)\n",
    "    - Respuesta: $\\neg \\exists x \\forall y \\text{ }Colecciona(x, y)$\n",
    "- *Cualquiera no coleccionan algo*\n",
    "    - Respuesta: $\\forall x \\exists y \\text{ } \\neg Colecciona(x, y)$\n",
    "- *Cualquier cosa colecciona nada*"
   ]
  },
  {
   "cell_type": "markdown",
   "metadata": {
    "slideshow": {
     "slide_type": "subslide"
    }
   },
   "source": [
    "- *Cualquier buen amateur puede vencer a algún profesional*\n",
    "    - $\\forall x [(\\text{x es un buen amateur}) \\Rightarrow (\\text{x puede vencer a algún profesional})]$\n",
    "    - $\\forall x [ (Amateur(x) \\land Bueno(x)) \\Rightarrow   \\exists y(Profesional(y) Vencer(x, y))]$\n",
    "- *Algunos profesionales pueden vencer a todos los amateur*"
   ]
  },
  {
   "cell_type": "markdown",
   "metadata": {
    "slideshow": {
     "slide_type": "subslide"
    }
   },
   "source": [
    "- *Todos los coleccionistas coleccionan todas las cosa*\n",
    "    - ¿Cómo están conectadas las ideas?\n",
    "        - ser un implica coleccionar todas las cosas\n",
    "    - Respuesta: $\\forall x y\\text{ } Coleccionista(x) \\Rightarrow Colecciona(x, y)$\n",
    "- *Coleccionistas coleccionan cosas de valor*\n",
    "- *Todos los coleccionistas coleccionan todas las cosas de valor*\n",
    "- *Todos los coleccionistas coleccionan algunas cosas de valor*\n",
    "- *Algún coleccionista colecciona todas las cosas de valor*\n",
    "- *Algún coleccionista colecciona algunas cosas de valor*"
   ]
  },
  {
   "cell_type": "markdown",
   "metadata": {
    "slideshow": {
     "slide_type": "subslide"
    }
   },
   "source": [
    "- Marcos era un hombre\n",
    "- Marcos era un Pompeyano\n",
    "- Todos los Pompeyanos eran Romanos\n",
    "- César era un líder.\n",
    "- Todos los Romanos eran o leales a César o lo odiaban.\n",
    "- Todo el mundo es leal a alguien.\n",
    "- Hombre solo tratan de asesinar líderes a los cuales no son leales.\n",
    "- Marcos trato de asesinar a César\n",
    "- Algún romano odia a César."
   ]
  },
  {
   "cell_type": "markdown",
   "metadata": {
    "slideshow": {
     "slide_type": "subslide"
    }
   },
   "source": [
    "- $Hombre(Marcos)$\n",
    "- $Pompeyano(Marcos)$\n",
    "- $\\forall x \\text{ } Pompeyano(x)  \\Rightarrow Romano(x)$\n",
    "- $Líder(Cesar)$\n",
    "- $\\forall x \\text{ }Romanos(x) \\Rightarrow Leal(x, César)  \\lor Odiar(x, César)$\n",
    "- $\\forall x  \\exists y \\text{ }Leal(x,y)$\n",
    "- $\\forall x  \\forall y \\text{ }Hombre(x) \\land Líder(y) \\land Trata_asesinar(x,y) \\Rightarrow ¬Leal(x,y)$\n",
    "- $Trata_asesinar(Marcos, César)$\n",
    "- $\\exists x (romano(x) \\land odia(x, César))$"
   ]
  },
  {
   "cell_type": "markdown",
   "metadata": {
    "slideshow": {
     "slide_type": "subslide"
    }
   },
   "source": [
    "- ¿Era Marcos un Romano?\n",
    "- ¿Era Marcos leal a Cesar?\n",
    "- ¿A quien era Marcos leal?\n",
    "- ¿Era Marcos un líder?\n",
    "- ¿Será el examen fácil?"
   ]
  },
  {
   "cell_type": "markdown",
   "metadata": {
    "slideshow": {
     "slide_type": "slide"
    }
   },
   "source": [
    "## Ejercicio\n",
    "\n",
    "- Usando los predicados: Padre(x,y)  Madre(x,y)  Hermano(x,y)  Hermana(x,y)\n",
    "- Construir hechos en lógica de predicados que establezcan las siguientes relaciones:\n",
    "    - Abuelos\n",
    "    - Abuelo\n",
    "    - Abuela\n",
    "    - Tío\n",
    "    - Primo"
   ]
  },
  {
   "cell_type": "markdown",
   "metadata": {
    "slideshow": {
     "slide_type": "slide"
    }
   },
   "source": [
    "## Procedimiento de Prueba por Resolusión\n",
    "\n",
    "- La misma idea que para la Lógica Proposicional, pero con algunas complejidades:\n",
    "    - conversión a FNC es más compleja.\n",
    "    - Apareamiento de literales requiere proveer un apareamiento de variables, constantes y/o  funciones.\n",
    "        - $\\neg Patina(x) \\lor GustaHockey(x)$\n",
    "        - $\\neg GustaHockey(y)$\n",
    "- Podemos resolver esto solo si asumimos que $x$ y $y$ se refieren al mismo objeto."
   ]
  },
  {
   "cell_type": "markdown",
   "metadata": {
    "slideshow": {
     "slide_type": "slide"
    }
   },
   "source": [
    "## Lógica de Predicados y FNC\n",
    "\n",
    "- Convertir a FNC es más difícil - nos tenemos que preocupar por las variables y los cuantificadores.\n",
    "    1. Eliminar los símbolos de implicación \n",
    "    2. Mover las negaciones hasta las fórmulas atómicas \n",
    "    3. Renombrar variables\n",
    "    4. Eliminar los cuantificadores existenciales. Usando funciones Skolem\n",
    "    5. Desplazar los cuantificadores universales \n",
    "    6. Convertir los operadores AND en los más externos\n",
    "    7. Eliminar los cuantificadores universales.\n",
    "    8. Eliminar los conectores conjuntivos (AND).\n",
    "    9. Renombrar las variables."
   ]
  },
  {
   "cell_type": "markdown",
   "metadata": {
    "slideshow": {
     "slide_type": "slide"
    }
   },
   "source": [
    "## Ejemplo del Mundo de los Bloques\n",
    "\n",
    "- Acerca de los bloques conocemos tres cosas:\n",
    "    1. Que un bloque está encima de algo que no es una pirámide.\n",
    "    2. Que no existe ningún objeto que esté debajo de un bloque y, a la vez, encima del mismo.\n",
    "    3. Que no hay nada que no sea un bloque y que también sea lo mismo que el bloque.\n",
    "     \n",
    "     $\\forall x \\text{ }( bloque(x) → [\\exists y (encima(x,y)  \\land \\neg piramide(y))\\\\\n",
    "\t\t  \\land \\neg \\exists y \\text{ }(encima(x,y) ∧ encima(y,x))\\\\\n",
    "\t\t  ∧  \\forall y \\text{ }( \\neg bloque(y) \\Rightarrow \\neg igual(x,y))])$"
   ]
  },
  {
   "cell_type": "markdown",
   "metadata": {
    "slideshow": {
     "slide_type": "subslide"
    }
   },
   "source": [
    "1. Eliminar las implicaciones\n",
    "\n",
    "$\\forall x \\text{ }( \\neg bloque(x) \\lor [\\exists y (encima(x,y)  \\land \\neg piramide(y))\\\\\n",
    "\t\t  \\land \\neg \\exists y \\text{ }(encima(x,y) \\land encima(y,x))\\\\\n",
    "\t\t  ∧  \\forall y \\text{ }( bloque(y) \\lor \\neg igual(x,y))])$"
   ]
  },
  {
   "cell_type": "markdown",
   "metadata": {
    "slideshow": {
     "slide_type": "subslide"
    }
   },
   "source": [
    "2. Mover las negaciones hasta las fórmulas atómicas\n",
    "\n",
    "$\\forall x \\text{ }(\\neg bloque(x) \\lor [\\exists y (encima(x,y)  \\land \\neg piramide(y))\\\\\n",
    "\t\t  \\land \\forall y \\text{ }(\\neg encima(x,y) \\lor \\neg encima(y,x))\\\\\n",
    "\t\t  ∧  \\forall y \\text{ }( bloque(y) \\lor \\neg igual(x,y))])$"
   ]
  },
  {
   "cell_type": "markdown",
   "metadata": {
    "slideshow": {
     "slide_type": "subslide"
    }
   },
   "source": [
    "3. Renombrar las variables\n",
    "\n",
    "$\\forall x \\text{ }( \\neg bloque(x) \\lor [\\exists y (encima(x,y)  \\land \\neg piramide(y))\\\\\n",
    "\t\t  \\land \\forall z \\text{ }(\\neg encima(x,z) \\lor \\neg encima(z,x))\\\\\n",
    "\t\t  ∧  \\forall w \\text{ }( bloque(w) \\lor \\neg igual(x,w))])$"
   ]
  },
  {
   "cell_type": "markdown",
   "metadata": {
    "slideshow": {
     "slide_type": "subslide"
    }
   },
   "source": [
    "4. Eliminar cuantificadores existenciales\n",
    "\n",
    "$\\forall x \\text{ }( \\neg bloque(x) \\lor [(encima(x,g(x))  \\land \\neg piramide(h()))\\\\\n",
    "\t\t  \\land \\forall z \\text{ }(\\neg encima(x,z) \\lor \\neg encima(z,x))\\\\\n",
    "\t\t  ∧  \\forall w \\text{ }( bloque(w) \\lor \\neg igual(x,w))])$"
   ]
  },
  {
   "cell_type": "markdown",
   "metadata": {
    "slideshow": {
     "slide_type": "subslide"
    }
   },
   "source": [
    "5. Desplazar los cuatificadores universales al inicio\n",
    "\n",
    "$\\forall x \\forall z \\forall w \\text{ }(\\neg bloque(x) \\lor [(encima(x,g(x))  \\land \\neg piramide(h()))\\\\\n",
    "\t\t  \\land  \\text{ }(\\neg encima(x,z) \\lor \\neg encima(z,x))\\\\\n",
    "\t\t  ∧  \\text{ }( bloque(w) \\lor \\neg igual(x,w))])$"
   ]
  },
  {
   "cell_type": "markdown",
   "metadata": {
    "slideshow": {
     "slide_type": "subslide"
    }
   },
   "source": [
    "6. Convertir los operadores AND en los más externos\n",
    "\n",
    "    - Paso 1\n",
    "\n",
    "$\\forall x \\forall z \\forall w \\text{ }([\\neg bloque(x) \\lor(encima(x,g(x))  \\land \\neg piramide(h()))\\\\\n",
    "\t\t  \\land  \\text{ }(\\neg bloque(x) \\lor\\neg encima(x,z) \\lor \\neg encima(z,x))\\\\\n",
    "\t\t  ∧  \\text{ }(\\neg bloque(x) \\lor bloque(w) \\lor \\neg igual(x,w))])$\n",
    "          \n",
    "    - Paso 2\n",
    "    \n",
    "$\\forall x \\forall z \\forall w \\text{ }([\\neg bloque(x) \\lor(encima(x,g(x))) \\\\\n",
    "          \\land ( \\neg bloque(x) \\lor \\neg piramide(h())) \\\\\n",
    "\t\t  \\land  \\text{ }(\\neg bloque(x) \\lor\\neg encima(x,z) \\lor \\neg encima(z,x))\\\\\n",
    "\t\t  ∧  \\text{ }(\\neg bloque(x) \\lor bloque(w) \\lor \\neg igual(x,w))])$"
   ]
  },
  {
   "cell_type": "markdown",
   "metadata": {
    "slideshow": {
     "slide_type": "subslide"
    }
   },
   "source": [
    "7. Eliminar los cuantificadores universales.\n",
    "\n",
    "$(\\neg bloque(x) \\lor(encima(x,g(x))) \\\\\n",
    "\\land ( \\neg bloque(x) \\lor \\neg piramide(h())) \\\\\n",
    "\\land  \\text{ }(\\neg bloque(x) \\lor\\neg encima(x,z) \\lor \\neg encima(z,x))\\\\\n",
    "\\land \\text{ }(\\neg bloque(x) \\lor bloque(w) \\lor \\neg igual(x,w))$"
   ]
  },
  {
   "cell_type": "markdown",
   "metadata": {
    "slideshow": {
     "slide_type": "subslide"
    }
   },
   "source": [
    "8. Eliminar los conectores Y\n",
    "\n",
    "$\\neg bloque(x) \\lor(encima(x,g(x)) \\\\\n",
    "\\neg bloque(x) \\lor \\neg piramide(h()) \\\\\n",
    "\\neg bloque(x) \\lor\\neg encima(x,z) \\lor \\neg encima(z,x)\\\\\n",
    "\\neg bloque(x) \\lor bloque(w) \\lor \\neg igual(x,w)$"
   ]
  },
  {
   "cell_type": "markdown",
   "metadata": {
    "slideshow": {
     "slide_type": "subslide"
    }
   },
   "source": [
    "9. Renombrar variables y cambiar nombre a la función de Skolen a `soporte(x)`\n",
    "\n",
    "$\\neg bloque(x) \\lor(encima(x,soporte(x)) \\\\\n",
    "\\neg bloque(y) \\lor \\neg piramide(soporte(y)) \\\\\n",
    "\\neg bloque(u) \\lor\\neg encima(u,z) \\lor \\neg encima(z,u)\\\\\n",
    "\\neg bloque(v) \\lor bloque(w) \\lor \\neg igual(v,w)$"
   ]
  },
  {
   "cell_type": "markdown",
   "metadata": {
    "slideshow": {
     "slide_type": "slide"
    }
   },
   "source": [
    "## Eliminación de los Cuantificadores Existenciales\n",
    "\n",
    "- Cualquier variable que esta cuantificada existencialmente significa que estamos diciendo que existe algún valor para esa variable que hará cierta la expresión.\n",
    "- Para eliminar el cuantificador, podemos remplazar la variable con una función.\n",
    "- No sabemos cual es la función, solo sabemos de que existe."
   ]
  },
  {
   "cell_type": "markdown",
   "metadata": {
    "slideshow": {
     "slide_type": "slide"
    }
   },
   "source": [
    "## Funciones Skolem\n",
    "\n",
    "- $\\exists y \\text{ }Presidente(y)$\n",
    "- Reemplazamos $y$ con una nueva función $func$:\n",
    "    - $Presidente(func())$\n",
    "    - $func$ es llamada una función skolem.\n",
    "- En general la función debe tener el mismo número de argumentos que el número de cuantificadores universales en el alcance actual. "
   ]
  },
  {
   "cell_type": "markdown",
   "metadata": {
    "slideshow": {
     "slide_type": "slide"
    }
   },
   "source": [
    "## Ejemplo de Función de Skolem\n",
    "\n",
    "- $\\forall x \\exists y Padre(y,x)$\n",
    "    - crear una nueva función llamada $fun1$ y  reemplazar $y$ con la función.\n",
    "- $\\forall x Padre(fun1(x),x)$"
   ]
  },
  {
   "cell_type": "markdown",
   "metadata": {
    "slideshow": {
     "slide_type": "slide"
    }
   },
   "source": [
    "## Resolución en Lógica de Predicados\n",
    "\n",
    "- Tenemos que preocuparnos acerca de los argumentos de los predicados, de manera que es más difícil saber cuando 2 literales se aparean y pueden ser usados por la resolución.\n",
    "- Por ejemplo, ¿Se aparean $Padre(Luis, Ana)$ y $Padre(x,y)$ ?\n",
    "- La respuesta depende de como substituimos valores por variables."
   ]
  },
  {
   "cell_type": "markdown",
   "metadata": {
    "slideshow": {
     "slide_type": "slide"
    }
   },
   "source": [
    "## Unificación\n",
    "\n",
    "- El proceso de encontrar una substitución para los parámetros de los predicados es llamado unificación. \n",
    "- Necesitamos saber:\n",
    "    - que 2 literales pueden ser apareados.\n",
    "    - la substitución es lo que hace a los literales idénticos.\n",
    "- Existe un algoritmo sencillo llamado el algoritmo de unificación que lo hace."
   ]
  },
  {
   "cell_type": "markdown",
   "metadata": {
    "slideshow": {
     "slide_type": "slide"
    }
   },
   "source": [
    "## El Algoritmo de Unificación\n",
    "\n",
    "1. Símbolos de predicados iniciales deben coincidir.\n",
    "2. Para cada par de argumentos de predicados:\n",
    "    - constantes diferentes no pueden coincidir.\n",
    "    - una variable puede ser reemplazada por una constante.\n",
    "    - una variable puede ser reemplazada por otra variable.\n",
    "    - una variable puede ser reemplazada por una función siempre y cuando la función no contenga una instancia de la variable."
   ]
  },
  {
   "cell_type": "markdown",
   "metadata": {
    "slideshow": {
     "slide_type": "subslide"
    }
   },
   "source": [
    "- Cuando se intente aparear 2 literales, todas las substituciones deben ser hechas al literal entero.\n",
    "- Puede haber muchas substituciones que unifican 2 literales, siempre se desea el unificador más general.\u000b"
   ]
  },
  {
   "cell_type": "markdown",
   "metadata": {
    "slideshow": {
     "slide_type": "slide"
    }
   },
   "source": [
    "## Ejemplo de Unificación\n",
    "\n",
    "- $P(x)$ y $P(y$):    substitución = $(x/y)$\n",
    "- $P(x,x)$ y $P(y,z)$:      $\\text{  }(z/y)(y/x)$\n",
    "- $P(x,f(y))$ y $P(Luis,z)$:   $\\text{  }(Luis/x, f(y)/z)$\n",
    "- $P(f(x))$ y $P(x)$:           no se puede hacer!\n",
    "- $P(x) \\lor Q(Juana)$ y $P(Luis) \\lor Q(y)$:\t$\\text{  }(Luis/x, Juana/y)$"
   ]
  },
  {
   "cell_type": "markdown",
   "metadata": {
    "slideshow": {
     "slide_type": "slide"
    }
   },
   "source": [
    "## Ejemplos de Unificación y Resolución\n",
    "\n",
    "- $Padre(Luis, Ana) \\text{   }   ¬Padre(Luis,x) \\lor Madre(María,x)$ \n",
    "- $Hombre(Marcos)  \\text{   }  \\neg Hombre(x)  \\lor  Mortal(x)$\n",
    "- $Ama(padre(a),a)   \\text{   }  ¬Ama(x,y) \\lor Ama(y,x)$"
   ]
  },
  {
   "cell_type": "markdown",
   "metadata": {
    "slideshow": {
     "slide_type": "slide"
    }
   },
   "source": [
    "## Algoritmo de Resolución de la Lógica de Predicados\n",
    "\n",
    "- Mientras no exista una cláusula vacía y haya cláusulas que puedan resolverse:\n",
    "    - seleccione 2 cláusulas que puedan resolverse.\n",
    "    - resuelva las cláusulas (después de la unificación), aplique la substitución de unificación al resultado y almacénelo en la base de conocimiento."
   ]
  },
  {
   "cell_type": "markdown",
   "metadata": {
    "slideshow": {
     "slide_type": "slide"
    }
   },
   "source": [
    "## Ejemplo\n",
    "\n",
    "- $\\neg Inteligente(x)  \\lor \\neg GustarHockey(x)  \\lor RPI(x)$\n",
    "- $\\neg Canadiense(y) \\lor GustarHockey(y)$\n",
    "- $\\neg Patinar(z)  \\lor GustarHockey(z)$\n",
    "- $Inteligente(Juan)$\n",
    "- $Patinar(Juan)$"
   ]
  },
  {
   "cell_type": "markdown",
   "metadata": {
    "slideshow": {
     "slide_type": "subslide"
    }
   },
   "source": [
    "- $Hombre(Marcos)$\n",
    "- $Pompeyano(Marcos)$\n",
    "- $\\neg Pompeyano(x1) \\lor Romano(x1)$ \n",
    "- $Líder(Cesar)$\n",
    "- $\\neg Romanos(x2) \\lor Leal(x2,Cesar)  \\lor Odiar(x2,Cesar)$\n",
    "- $Leal(x3 , f(x3))$\n",
    "- $\\neg Hombre(x4)  \\lor \\neg Líder(y1) \\lor \\neg TrataAsesinar(x4,y1) \\lor  Leal(x4,y1)$\n",
    "- PROBAR: $TrataAsesinar(Marcos,Cesar)$"
   ]
  },
  {
   "cell_type": "markdown",
   "metadata": {
    "slideshow": {
     "slide_type": "slide"
    }
   },
   "source": [
    "## Ejercicio\n",
    "\n",
    "- Los miembros de un club de bridge son Juan, Luisa, Luis y Elena. \n",
    "- Juan esta casado con Luisa.\n",
    "- Luis es el hermano de Elena.\n",
    "- La pareja de cada persona casada en el club también esta en el club.\n",
    "- La última reunión del club fue en la casa de Juan.\n",
    "- ¿Fue la última reunión en la casa de Luisa?\n",
    "- ¿Esta casada Elena?"
   ]
  }
 ],
 "metadata": {
  "celltoolbar": "Slideshow",
  "kernelspec": {
   "display_name": "Python 3",
   "language": "python",
   "name": "python3"
  },
  "language_info": {
   "codemirror_mode": {
    "name": "ipython",
    "version": 3
   },
   "file_extension": ".py",
   "mimetype": "text/x-python",
   "name": "python",
   "nbconvert_exporter": "python",
   "pygments_lexer": "ipython3",
   "version": "3.7.5"
  }
 },
 "nbformat": 4,
 "nbformat_minor": 2
}
