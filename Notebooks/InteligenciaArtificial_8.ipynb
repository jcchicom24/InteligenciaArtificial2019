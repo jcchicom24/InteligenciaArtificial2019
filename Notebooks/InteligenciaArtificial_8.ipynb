{
 "cells": [
  {
   "cell_type": "markdown",
   "metadata": {
    "slideshow": {
     "slide_type": "slide"
    }
   },
   "source": [
    "<center>\n",
    "    <h1>Inteligencia Artificial</h1>\n",
    "    <h1>Representación del Conocimiento</h1>\n",
    "    <h1></h1>\n",
    "    <h5>Prof. Wladimir Rodriguez</h5>\n",
    "    <h5>wladimir.rodriguez@outlook.com</h5>\n",
    "    <h5>Departamento de Computación</h5>\n",
    "</center>"
   ]
  },
  {
   "cell_type": "markdown",
   "metadata": {
    "slideshow": {
     "slide_type": "slide"
    }
   },
   "source": [
    "# Agenda\n",
    "\n",
    "1. La Problemática de la Representación del Conocimiento.\n",
    "2. Métodos de Representación del Conocimiento.\n",
    "3. Métodos de Representación basados en la Lógica.\n",
    "4. Lógica proposicional."
   ]
  },
  {
   "cell_type": "markdown",
   "metadata": {
    "slideshow": {
     "slide_type": "subslide"
    }
   },
   "source": [
    "5. Lógica de predicados de primer orden.\n",
    "6.  Razonamiento en la lógica: sistemas de demostración.\n",
    "7.  La forma clausal de la lógica.\n",
    "8.  Demostración automática: Resolución.\n",
    "9.  La Lógica como formalismo de representación del conocimiento"
   ]
  },
  {
   "cell_type": "markdown",
   "metadata": {
    "slideshow": {
     "slide_type": "slide"
    }
   },
   "source": [
    "# Propiedades del Conocimiento\n",
    "\n",
    "- voluminoso\n",
    "- difícil de caracterizar con precisión.\n",
    "- incierto/impreciso\n",
    "- cambia constantemente"
   ]
  },
  {
   "cell_type": "markdown",
   "metadata": {
    "slideshow": {
     "slide_type": "slide"
    }
   },
   "source": [
    "# La Representación del Conocimiento debe ser Capaz\n",
    "\n",
    "- captar generalizaciones\n",
    "- ser comprensible\n",
    "- fácilmente modificable, incrementable\n",
    "- ser usada en diversas situaciones y propósitos\n",
    "- permitir diversos grados de detalle\n",
    "- captar la incertidumbre, imprecisión\n",
    "- representar distinciones importantes\n",
    "- focalizar el conocimiento relevante"
   ]
  },
  {
   "cell_type": "markdown",
   "metadata": {
    "slideshow": {
     "slide_type": "slide"
    }
   },
   "source": [
    "# Representación de Conocimiento\n",
    "\n",
    "- Una representación del conocimiento en IA es una combinación de estructuras de datos (que nos permiten representar mediante un formalismo determinado las \"verdades\" relevantes en algún dominio) asociadas con mecanismos interpretativos que nos permiten manipular el conocimiento representado a fin de crear soluciones a problemas nuevos."
   ]
  },
  {
   "cell_type": "markdown",
   "metadata": {
    "slideshow": {
     "slide_type": "subslide"
    }
   },
   "source": [
    "- Manejamos dos tipos de entidades:\n",
    "    - Hechos: verdades en un cierto mundo, lo que queremos representar\n",
    "    - Representación de los hechos en un determinado formalismo (las entidades que queremos manipular)\n",
    "- Entidades que se pueden clasificar en:\n",
    "    - El nivel del conocimiento, donde se describen los hechos\u000b",
    "(comportamiento y objetivos de cada agente)\n",
    "    - El nivel simbólico, donde se describen los objetos del nivel del conocimiento en términos de símbolos manipulables por programas (Newell)."
   ]
  },
  {
   "cell_type": "markdown",
   "metadata": {
    "slideshow": {
     "slide_type": "slide"
    }
   },
   "source": [
    "# Ontología\n",
    "\n",
    "- Conjunto de símbolos básicos con los que se compone el conocimiento, junto a las\u000b",
    "restricciones de consistencia que controlan la composición del mismo\n",
    "- Ejemplo: Un bloque no puede estar sobre sí mismo\n",
    "\n",
    "![](../figuras/bloques.pdf)"
   ]
  },
  {
   "cell_type": "markdown",
   "metadata": {
    "slideshow": {
     "slide_type": "subslide"
    }
   },
   "source": [
    "- Vocabulario para representar un dominio (Lista informal de los conceptos de un dominio - Russell):\n",
    "    - Serie de términos que representan los conceptos y relaciones que interesan del dominio.\n",
    "        - Conceptos: Bloque, Suelo \n",
    "        - Relaciones: Sobre"
   ]
  },
  {
   "cell_type": "markdown",
   "metadata": {
    "slideshow": {
     "slide_type": "subslide"
    }
   },
   "source": [
    "- Una ontología es algo análogo a un esquema de base de datos, no al contenido de la base de datos.\n",
    "- Existen diversos lenguajes para poder representar una ontología\n",
    "- La definición de una ontología como forma de representar los conceptos de interés de un determinado dominio, permite el entendimiento entre distintos programas.\n",
    "    - Ejemplo: Compras electrónicas por la red\n",
    "\n",
    "![](../figuras/compras_internet.pdf)"
   ]
  },
  {
   "cell_type": "markdown",
   "metadata": {
    "slideshow": {
     "slide_type": "slide"
    }
   },
   "source": [
    "# Sistema de Representación de Conocimiento\n",
    "\n",
    "![](../figuras/SRC.pdf)"
   ]
  },
  {
   "cell_type": "markdown",
   "metadata": {
    "slideshow": {
     "slide_type": "subslide"
    }
   },
   "source": [
    "- Hechos\n",
    "- Representación hechos\n",
    "- Relación entre hechos y representaciones\n",
    "- $\\text{Spot es un perro} \\to (1)\\text{ }perro(Spot) \\to \\forall x: perro(x) \\to tieneRabo(x) \\to tieneRabo(Spot) \\to (2) \\text{ Spot tiene rabo}$"
   ]
  },
  {
   "cell_type": "markdown",
   "metadata": {
    "slideshow": {
     "slide_type": "slide"
    }
   },
   "source": [
    "# Propiedades de un Sistema de Representación del Conocimiento\n",
    "\n",
    "- Capacidad Expresiva\n",
    "- Capacidad Deductiva\n",
    "- Eficiencia Deductiva\n",
    "- Eficiencia en la Adquisición"
   ]
  },
  {
   "cell_type": "markdown",
   "metadata": {
    "slideshow": {
     "slide_type": "slide"
    }
   },
   "source": [
    "# Tipos de Conocimiento\n",
    "\n",
    "- elementos básicos u objetos del mundo real.\n",
    "- aserciones y definiciones sobre los elementos básicos.\n",
    "- conceptos, agrupaciones o generalizaciones de elementos básicos.\n",
    "- relaciones, propiedades de los elementos y conceptos.\n",
    "- teoremas y reglas de reescritura. Reglas de producción.\n",
    "- algoritmos de resolución.\n",
    "- estrategias y heurísticas.\n",
    "- meta conocimiento."
   ]
  },
  {
   "cell_type": "markdown",
   "metadata": {
    "slideshow": {
     "slide_type": "slide"
    }
   },
   "source": [
    "# Conocimiento Relacional Simple\n",
    "\n",
    "- Similar al de BD.\n",
    "- Escasa capacidad deductiva.\n",
    "\n",
    "![](../figuras/relacional.pdf)"
   ]
  },
  {
   "cell_type": "markdown",
   "metadata": {
    "slideshow": {
     "slide_type": "slide"
    }
   },
   "source": [
    "# Conocimiento Heredable\n",
    "\n",
    "- Redes Semánticas\n",
    "- Marcos\n"
   ]
  },
  {
   "cell_type": "markdown",
   "metadata": {
    "slideshow": {
     "slide_type": "subslide"
    }
   },
   "source": [
    "![](../figuras/heredable.pdf)"
   ]
  },
  {
   "cell_type": "markdown",
   "metadata": {
    "slideshow": {
     "slide_type": "slide"
    }
   },
   "source": [
    "# Un Nodo de un Marco\n",
    "\n",
    "![](../figuras/nodo_marco.pdf)"
   ]
  },
  {
   "cell_type": "markdown",
   "metadata": {
    "slideshow": {
     "slide_type": "slide"
    }
   },
   "source": [
    "# Conocimiento Deductivo\n",
    "\n",
    "$$\\forall x: \\{ciudad(x) \\land \\exists y: \\{alguacil(x,y) \\lor z:\\{[perro(z) \\lor viveEn(x,z)]\n",
    "\\to mordido(y,z)\\}\\}\\}$$\n",
    "$$\\forall x: \\{conjunto(x) \\to \\exists y: \\exists u: \\exists v: [conjunto(y) \\land card(x,u) \\land card(y,v) \\land mayor(u,v)]\\}$$\n",
    "$$\\forall x: \\forall y: \\{\\{bloque(x) \\land bloque(y) \\land [encima(x,y) \\lor unido(x,y)] \\land  movido(y)\\} \\to movido(x)\\}$$"
   ]
  },
  {
   "cell_type": "markdown",
   "metadata": {
    "slideshow": {
     "slide_type": "slide"
    }
   },
   "source": [
    "# Reglas de Producción\n",
    "```java\n",
    "if\n",
    "    \"el paciente sufre dolor abdominal, y un murmullo abdominal es percibido por auscultación, y una masa pulsante es palpada en el abdomen\"\n",
    "then\n",
    "    \"el paciente padece una aneurisma aórtico\"\n",
    "```"
   ]
  },
  {
   "cell_type": "markdown",
   "metadata": {
    "slideshow": {
     "slide_type": "slide"
    }
   },
   "source": [
    "# Conocimiento Procedimental\n",
    "\n",
    "- Arterias\n",
    "    - subclase_de: vasos_sanguíneos\n",
    "    - pared : muscular\n",
    "    - oxigeno: rica\n",
    "    - presión_mínima: 90\n",
    "    - presión_máxima: 100\n",
    "    - presión_media: $(\\text{presión_mínima} + \\text{presión_máxima})/2$"
   ]
  },
  {
   "cell_type": "markdown",
   "metadata": {
    "slideshow": {
     "slide_type": "slide"
    }
   },
   "source": [
    "# Problemas de la Representación del Conocimiento\n",
    "\n",
    "- Existen atributos tan genéricos que aparecen en casi todos los dominios de aplicación?\n",
    "    - Instancia, es_un\n",
    "- ¿Existen relaciones relevantes entre los atributos de los objetos?\n",
    "    - Inversos\n",
    "    - Jerarquía es_un\n",
    "    - Técnicas para el razonamiento sobre los valores\n",
    "    - Atributos univaluados"
   ]
  },
  {
   "cell_type": "markdown",
   "metadata": {
    "slideshow": {
     "slide_type": "subslide"
    }
   },
   "source": [
    "- ¿A qué nivel de detalle se debe representar el conocimiento?. \n",
    "- ¿Existe algún conjunto de primitivas que permita descomponer adecuadamente el conocimiento?. \n",
    "- ¿Sería útil el uso de tales primitivas?.\n",
    "- ¿Cómo se deben representar los conjuntos de objetos?\n",
    "- Dada una base de conocimiento extensa, ¿cómo acceder al conocimiento relevante en cada momento?"
   ]
  },
  {
   "cell_type": "markdown",
   "metadata": {
    "slideshow": {
     "slide_type": "slide"
    }
   },
   "source": [
    "# El Problema del Marco (The Frame Problem)\n",
    "\n",
    "- El Problema del Marco (McCarthy y Hayes) surgió dentro del campo de la Inteligencia Artificial como el problema acerca de cómo representar, de la forma más concisa posible, el hecho de que, en una situación determinada, la mayoría de las propiedades de los objetos permanecen iguales o no son afectadas por la ejecución de una determinada acción.\n",
    "\n",
    "- El problema de marco cuestiona cómo un sistema cognitivo, que posee una enorme cantidad de información, selecciona la información relevante para la realización de la tarea en cuestión en un tiempo acotado y con recursos computacionales limitados. \n",
    "- En particular, uno de los aspectos particulares del problema de marco se centra en la pregunta de cómo, de hecho, los seres humanos realizan esta selección de información relevante"
   ]
  },
  {
   "cell_type": "markdown",
   "metadata": {
    "slideshow": {
     "slide_type": "slide"
    }
   },
   "source": [
    "# Representación del Estado\n",
    "\n",
    "- Registrar todos los hechos en cada nodo\n",
    "    - Inconveniente: muchos hechos serian representados muchas veces, y se emplearía mucho tiempo representándolos.\n",
    "    \n",
    "$$debajo (suelo, techo)$$\n",
    "- No modificar el estado inicial y registrar en cada nodo una representación de los cambios\n",
    "- Modificar la descripción del estado pero registrar en cada nodo la información necesaria para deshacer la modificación.\n",
    "- Axiomas Marco (cálculo del nuevo estado):\n",
    "$$color (x, y, s1) \\land mueve(x, s1, s2) \\to color (x, y, s2)$$"
   ]
  },
  {
   "cell_type": "markdown",
   "metadata": {
    "slideshow": {
     "slide_type": "slide"
    }
   },
   "source": [
    "# Métodos Declarativos vs. Procedimentales\n",
    "\n",
    "![](../figuras/declarativo_procedimental.pdf)"
   ]
  },
  {
   "cell_type": "markdown",
   "metadata": {
    "slideshow": {
     "slide_type": "slide"
    }
   },
   "source": [
    "# Métodos de Representación Basados en Lógica\n",
    "\n",
    "- Estructuras de representación:\n",
    "    - Representación de los hechos del mundo real mediante declaraciones escritas como fórmulas bien formadas ($fbf$), o estructuras sintácticamente correctas del lenguaje.\n",
    "- Mecanismos de interpretación:\n",
    "    - Obtención de nuevo conocimiento a partir del antiguo (reglas que permitan obtener nuevas $fbf$ a partir de las existentes)."
   ]
  },
  {
   "cell_type": "markdown",
   "metadata": {
    "slideshow": {
     "slide_type": "subslide"
    }
   },
   "source": [
    "$$LÓGICA := SINTAXIS + SEMÁNTICA$$\n",
    "\n",
    "- La lógica en sí no es más que sintaxis, semántica y teoría de la demostración. No nos dice en lo más mínimo qué es aquello que deberá expresarse ni tampoco qué vocabulario emplear para ello."
   ]
  },
  {
   "cell_type": "markdown",
   "metadata": {
    "slideshow": {
     "slide_type": "subslide"
    }
   },
   "source": [
    "- Ontología:\n",
    "    - Definiciones: asocian los nombres de las entidades en el universo de discurso con texto legible que describe lo que significan los nombres\n",
    "    $$+$$   \n",
    "    - Axiomas Formales: restringen la interpretación y el uso de esos términos."
   ]
  },
  {
   "cell_type": "markdown",
   "metadata": {
    "slideshow": {
     "slide_type": "subslide"
    }
   },
   "source": [
    "- Entidades\n",
    "    - Conceptos: predicados unarios en la Lógica de Primer Orden.\n",
    "    - Relaciones: predicados de aridad mayor en la Lógica de Primer Orden.\n",
    "    - Ejemplo: Mundo de Bloques:\n",
    "    \n",
    "$$Bloque: Bloque( x )$$\n",
    "$$Suelo: Suelo( x )$$\n"
   ]
  },
  {
   "cell_type": "markdown",
   "metadata": {
    "slideshow": {
     "slide_type": "subslide"
    }
   },
   "source": [
    "- SINTAXIS:\n",
    "    - Lenguaje: (reglas de formación de los objetos básicos)\n",
    "        - Cálculo de proposiciones.\n",
    "        - Cálculo de predicados.\n",
    "    - Estructura Deductiva: (reglas para la obtención de nuevos objetos a partir de los existentes)\n",
    "        - Sistemas Axiomáticos: (teoría de la demostración, deducción natural)\n",
    "        - Teoría interpretativa o de Modelos"
   ]
  },
  {
   "cell_type": "markdown",
   "metadata": {
    "slideshow": {
     "slide_type": "subslide"
    }
   },
   "source": [
    "- SEMÁNTICA: Significado (valor de verdad) de los objetos básicos\n",
    "    - Interpretación\n",
    "    - Validez\n",
    "    - Propiedades: consistencia, completitud, decidibilidad, corrección."
   ]
  },
  {
   "cell_type": "markdown",
   "metadata": {
    "slideshow": {
     "slide_type": "slide"
    }
   },
   "source": [
    "# Lógica Proposicional\n",
    "\n",
    "- Proposiciones lógicas\n",
    "- Fórmulas bien formadas\n",
    "- Evaluación de fórmulas\n",
    "- Conceptos de validez e inconsistencia"
   ]
  },
  {
   "cell_type": "markdown",
   "metadata": {
    "slideshow": {
     "slide_type": "slide"
    }
   },
   "source": [
    "# Cálculo Proposicional\n",
    "\n",
    "- Sistema Axiomático\n",
    "- Proposiciones\n",
    "- Inferencia"
   ]
  },
  {
   "cell_type": "markdown",
   "metadata": {
    "slideshow": {
     "slide_type": "subslide"
    }
   },
   "source": [
    "- Son Proposiciones\n",
    "    - Hay vida en la tierra\n",
    "    - Una piedra no puede volar\n",
    "    - Todos los hombres de Ecuador son solteros\n",
    "    - Chile es la capital del mundo "
   ]
  },
  {
   "cell_type": "markdown",
   "metadata": {
    "slideshow": {
     "slide_type": "subslide"
    }
   },
   "source": [
    "- No son Proposiciones\n",
    "    - ¿De veras?\n",
    "    - Teclea exit\n",
    "    - Por favor hagan la tarea de satisfactibilidad!\n",
    "    - Arriba California"
   ]
  },
  {
   "cell_type": "markdown",
   "metadata": {
    "slideshow": {
     "slide_type": "slide"
    }
   },
   "source": [
    "# Argumentos\n",
    "\n",
    "- Argentina está en Africa o Argentina está en Asia\n",
    "- Argentina no está en Asia\n",
    "- Por consecuencia, Argentina está en Africa"
   ]
  },
  {
   "cell_type": "markdown",
   "metadata": {
    "slideshow": {
     "slide_type": "slide"
    }
   },
   "source": [
    "# Proposiciones Compuestas\n",
    "\n",
    "- La nieve es blanca y la novia de Luis ve la novela de las nueve.\n",
    "- El carro de Pedro tiene el volante negro o yo necesito lentes."
   ]
  },
  {
   "cell_type": "markdown",
   "metadata": {
    "slideshow": {
     "slide_type": "slide"
    }
   },
   "source": [
    "# Notación\n",
    "\n",
    "- Proposiciones: Con letras mayúsculas\n",
    "    - $P$ =  La nieve es Blanca\n",
    "    - $Q$ = El carro de Pedro tiene el volante negro\n",
    "    - $R$ = Yo necesito Lentes\n",
    "    - $S$ = La novia de Luis ve la novela a las\u000b",
    "nueve"
   ]
  },
  {
   "cell_type": "markdown",
   "metadata": {
    "slideshow": {
     "slide_type": "subslide"
    }
   },
   "source": [
    "- Conectores Lógicos\n",
    "    - Conjunción ∧, &, y\n",
    "    - Disyunción ∨, |, o\n",
    "    - Negación $\\neg, \\sim, no$\n",
    "    - Implicación $\\Rightarrow$\n",
    "    - Equivalencia $\\Leftrightarrow$"
   ]
  },
  {
   "cell_type": "markdown",
   "metadata": {
    "slideshow": {
     "slide_type": "slide"
    }
   },
   "source": [
    "# Ejemplos\n",
    "\n",
    "- La nieve es blanca y la novia de Luis ve\u000b",
    "la novela de las nueve.\n",
    "    - Con notación =   $P \\wedge S$\n",
    "- El carro de Pedro tiene el volante negro o yo necesito lentes.\n",
    "    - Con notación =   $Q \\vee R$"
   ]
  },
  {
   "cell_type": "markdown",
   "metadata": {
    "slideshow": {
     "slide_type": "slide"
    }
   },
   "source": [
    "# Precedencia de Conectores\n",
    "\n",
    "- Tabla de precedencia\n",
    "    - Paréntesis\n",
    "    - Negación\n",
    "    - Conjunción\n",
    "    - Disyunción\n",
    "    - Implicación\n",
    "    - Equivalencia"
   ]
  },
  {
   "cell_type": "markdown",
   "metadata": {
    "slideshow": {
     "slide_type": "slide"
    }
   },
   "source": [
    "# Precedencia: \n",
    "\n",
    "## Ejemplo 1\n",
    "\n",
    "$$\\neg A \\wedge B \\vee \\neg C \\Rightarrow R \\wedge \\neg C$$\n",
    "- El conector $\\Rightarrow$ tiene menor precedencia\n",
    "$$\\{\\neg A \\wedge B \\vee \\neg C\\} \\Rightarrow \\{R \\wedge \\neg C\\}$$\n",
    "- $\\vee$  tiene menor precedencia\n",
    "$$\\{(\\neg A \\wedge B) \\vee \\neg C\\} \\Rightarrow \\{R \\wedge \\neg C\\}$$"
   ]
  },
  {
   "cell_type": "markdown",
   "metadata": {
    "slideshow": {
     "slide_type": "subslide"
    }
   },
   "source": [
    "## Ejemplo 2\n",
    "\n",
    "$$\\neg A \\wedge \\neg B \\vee \\neg C \\Rightarrow B \\wedge \\neg C \\Rightarrow D \\Leftrightarrow E \\Rightarrow \\neg F$$\n",
    "1. $\\Leftrightarrow$  tiene menor precedencia\n",
    "$$[\\neg A \\wedge \\neg B \\vee \\neg C \\Rightarrow B \\wedge \\neg C \\Rightarrow D] \\Leftrightarrow [E \\Rightarrow \\neg F]$$\n",
    "2. $\\Rightarrow$\n",
    "$$[\\{\\neg A \\wedge \\neg B \\vee \\neg C \\Rightarrow B \\wedge \\neg C\\} \\Rightarrow D] \\Leftrightarrow [E \\Rightarrow \\neg F]$$\n",
    "3. $\\Rightarrow$\n",
    "$$[\\{\\{\\neg A \\wedge \\neg B \\vee \\neg C\\} \\Rightarrow B \\wedge \\neg C\\} \\Rightarrow D] \\Leftrightarrow [E \\Rightarrow \\neg F]$$\n",
    "4. $\\vee$\n",
    "$$[\\{\\{(\\neg A \\wedge \\neg B) \\vee \\neg C\\} \\Rightarrow B \\wedge \\neg C\\} \\Rightarrow D] \\Leftrightarrow [E \\Rightarrow \\neg F]$$"
   ]
  },
  {
   "cell_type": "markdown",
   "metadata": {
    "slideshow": {
     "slide_type": "slide"
    }
   },
   "source": [
    "# Fórmula Bien Formada\n",
    "\n",
    "Aquella expresión lógica que representa una proposición simple o compuesta, la cual esta bien escrita de acuerdo a\u000b",
    "determinada sintaxis se llama una fórmula bien formada (fbf)."
   ]
  },
  {
   "cell_type": "markdown",
   "metadata": {
    "slideshow": {
     "slide_type": "slide"
    }
   },
   "source": [
    "# Construcción de Fórmula Bien Formadas\n",
    "\n",
    "1. Un átomo es una fórmula bien formada.\n",
    "2. Si $G$ es una $fbf$ entonces $\\neg G$ también.\n",
    "3. Si $G$, $H$ son $fbf$ entonces también lo son:\n",
    "$$G \\wedge H, \\hspace{6 mm}  G \\vee H, \\hspace{6 mm}  G \\Rightarrow H , \\hspace{6 mm} G \\Leftrightarrow H$$\n",
    "4. Todas las $fbf$ se forman aplicando: $1$, $2$ y $3$."
   ]
  },
  {
   "cell_type": "markdown",
   "metadata": {
    "slideshow": {
     "slide_type": "slide"
    }
   },
   "source": [
    "# Tautología y Validez\n",
    "\n",
    "- Una proposición $A$ es una Tautología o una formula válida si es verdadera en todas las posibles interpretaciones.\n",
    "\n",
    "![](../figuras/tautologia.pdf)"
   ]
  },
  {
   "cell_type": "markdown",
   "metadata": {
    "slideshow": {
     "slide_type": "slide"
    }
   },
   "source": [
    "# Interpretación\n",
    "\n",
    "- **Interpretación**: Asignación de valores de verdad para las proposiciones de una expresión.\n",
    "- La notación para fórmula válida:  $\\models A$\n",
    "- Ejemplo:    $P \\vee \\neg P$"
   ]
  },
  {
   "cell_type": "markdown",
   "metadata": {
    "slideshow": {
     "slide_type": "slide"
    }
   },
   "source": [
    "# Contradicción e Inconsistencia\n",
    "\n",
    "- Una fórmula $A$ es una contradicción o es inconsistente si es falsa en todas sus interpretaciones.\n",
    "- Ejemplo: La fórmula $A \\wedge \\neg A$ es inconsistente o contradictoria.\n",
    "\n",
    "![](../figuras/contradiccion.pdf)"
   ]
  },
  {
   "cell_type": "markdown",
   "metadata": {
    "slideshow": {
     "slide_type": "slide"
    }
   },
   "source": [
    "# Fórmulas Consistentes e Invalidas\n",
    "\n",
    "- Las fórmulas consistentes son aquellas para las cuales se tiene por lo menos una interpretación para la cual la fórmula es verdadera.\n",
    "- Una fórmula inválida es aquélla que es falsa en al menos una interpretación."
   ]
  },
  {
   "cell_type": "markdown",
   "metadata": {
    "slideshow": {
     "slide_type": "slide"
    }
   },
   "source": [
    "# Observaciones\n",
    "\n",
    "- Una fórmula es válida si y solo si su negación es inconsistente.\n",
    "- Una fórmula es inconsistente si y solo si su negación es válida.\n",
    "- Una fórmula es inválida si y solo si existe por lo menos una interpretación sobre la cual la fórmula es falsa."
   ]
  },
  {
   "cell_type": "markdown",
   "metadata": {
    "slideshow": {
     "slide_type": "subslide"
    }
   },
   "source": [
    "- Una fórmula es consistente si y solo si existe por lo menos una interpretación sobre la cual la fórmula es verdadera.\n",
    "- Si una fórmula es válida, entonces es consistente, pero no viceversa.\n",
    "- Si una fórmula es inconsistente, entonces es inválida, pero no viceversa."
   ]
  },
  {
   "cell_type": "markdown",
   "metadata": {
    "slideshow": {
     "slide_type": "slide"
    }
   },
   "source": [
    "# Fórmulas Equivalentes\n",
    "\n",
    "- Dos fórmulas  $F$ y $G$ son equivalentes, denotado por $F \\Leftrightarrow G$, si y solo si los valores de verdad de $F$ y $G$ son los mismos bajo cualquier interpretación de $F$ y $G$\n",
    "- Ejemplo\n",
    "    - $P \\Rightarrow Q$    es equivalente a    $\\neg P \\vee Q$"
   ]
  },
  {
   "cell_type": "markdown",
   "metadata": {
    "slideshow": {
     "slide_type": "slide"
    }
   },
   "source": [
    "# Forma Normal Conjuntiva\n",
    "\n",
    "- Una fórmula $F$ es una forma normal conjuntiva ($FNC$) si y solo si $F$ tiene la forma:\n",
    "    - $F_1 \\wedge F_2 \\wedge F_3 \\wedge \\cdots \\wedge  F_n$\n",
    "    - donde $n \\geq 1$ y cada $F_i$ es una disyunción deliterales.\n",
    "    - Ejemplo:  $(P \\vee Q \\vee R) \\wedge (P \\vee Q)$"
   ]
  },
  {
   "cell_type": "markdown",
   "metadata": {
    "slideshow": {
     "slide_type": "slide"
    }
   },
   "source": [
    "# Forma Normal Disyuntiva\n",
    "\n",
    "- Una fórmula $F$ es una forma normal disyuntiva ($FND$) si y solo si $F$ tiene la forma:\n",
    "    - $F_1 \\vee F_2 \\vee F_3 \\vee \\cdots \\vee  F_n$\n",
    "    - donde $n \\geq 1$ y cada $F_i$ es una conjunción deliterales.\n",
    "    - Ejemplo:  $(P \\wedge Q \\wedge R) \\vee (P \\wedge Q)$"
   ]
  },
  {
   "cell_type": "markdown",
   "metadata": {
    "slideshow": {
     "slide_type": "slide"
    }
   },
   "source": [
    "# Implicación\n",
    "\n",
    "- La relación Causa-Efecto se expresa como una Implicación\n",
    "\n",
    "![](../figuras/implicacion.pdf)"
   ]
  },
  {
   "cell_type": "markdown",
   "metadata": {
    "slideshow": {
     "slide_type": "slide"
    }
   },
   "source": [
    "# Implicación: Tabla de Verdad\n",
    "\n",
    "![](../figuras/implicacion_tv.pdf)"
   ]
  },
  {
   "cell_type": "markdown",
   "metadata": {
    "slideshow": {
     "slide_type": "slide"
    }
   },
   "source": [
    "# Implicación Material\n",
    "\n",
    "- En lógica proposicional, la implicación material es una regla de reemplazo válida que permite que una declaración condicional sea sustituida por una disyunción si y solo si el antecedente es negado. La regla establece que $P \\Rightarrow Q$ es lógicamente equivalente a $\\neg P \\vee Q$ y puede sustituir a otra en demostraciones lógicas.\n",
    "\n",
    "- $P \\Rightarrow Q \\Leftrightarrow \\neg P \\vee Q$\n",
    "\n",
    "- Las paradojas de la implicación material son un conjunto de fórmulas de la lógica proposicional, reconocidas como verdades lógicas, pero que golpean al sentido común como cuestionables, o incluso absurdas."
   ]
  },
  {
   "cell_type": "markdown",
   "metadata": {
    "slideshow": {
     "slide_type": "subslide"
    }
   },
   "source": [
    "### Ejemplos\n",
    "\n",
    "- Si el sol ha brillado todo el día entonces $2+7 > 4$\n",
    "- Sí yo obtengo un libro, entonces yo leeré esta noche\n",
    "- Si yo obtengo el libro de texto, entonces este cuarto es rojo\n",
    "- Sí las conejos son azules entonces la tierra es cuadrada\n",
    "\n",
    "La causalidad puede o no estar en el antecedente de la implicación."
   ]
  },
  {
   "cell_type": "markdown",
   "metadata": {
    "slideshow": {
     "slide_type": "slide"
    }
   },
   "source": [
    "# Ejemplo: \n",
    "\n",
    "### Planteamiento\n",
    "\n",
    "- Si el cobre se sumerge en ácido sulfúrico, entonces el cobre se disuelve\n",
    "- Con notación:\n",
    "    - $A$ = el cobre se sumerge en ácido sulfúrico\n",
    "    - $B$ = el cobre se disuelve\n",
    "- Se expresará  $A \\Rightarrow B$"
   ]
  },
  {
   "cell_type": "markdown",
   "metadata": {
    "slideshow": {
     "slide_type": "subslide"
    }
   },
   "source": [
    "### Evaluación\n",
    "\n",
    "- Sin discusión: Si el cobre se sumerge en ácido sulfúrico entonces se disolverá.\n",
    "- Como consecuencia cuando $A$ y $B$ son verdaderos, $A \\Rightarrow B$ también lo es."
   ]
  },
  {
   "cell_type": "markdown",
   "metadata": {},
   "source": [
    "- Si el cobre se sumerge en ácido sulfúrico, entonces el cobre se disuelve.\n",
    "- Siempre es falsa cuando $A$ es verdadera y $B$ es falsa.\n",
    "- Es decir:  $A \\wedge \\neg B$ es verdadera\n",
    "- En esta expresión el signo negativo representa falso y su ausencia representa verdadero"
   ]
  },
  {
   "cell_type": "markdown",
   "metadata": {},
   "source": [
    "- $A \\Rightarrow B$ siempre falsa cuando $A \\wedge \\neg B$ es verdadera.\n",
    "- $A \\Rightarrow B$ siempre verdadera cuando $\\neg(A \\wedge \\neg B)$ es verdadera.\n",
    "- $A \\Rightarrow B$ siempre verdadera cuando $\\neg A \\vee B$ es verdadera."
   ]
  },
  {
   "cell_type": "markdown",
   "metadata": {
    "slideshow": {
     "slide_type": "slide"
    }
   },
   "source": [
    "# Consecuencias lógicas\n",
    "\n",
    "- Dadas las fórmulas $F_1, \\cdots , F_n$ y una fórmula $G$, se dice que $G$ es una consecuencia lógica ($G$ sigue lógicamente) de  $F_1, \\cdots , F_n$, si y solo si para cualquier interpretación $I$, en la cual $F_1, \\cdots , F_n$ es verdadera, $G$ también lo es"
   ]
  },
  {
   "cell_type": "markdown",
   "metadata": {
    "slideshow": {
     "slide_type": "slide"
    }
   },
   "source": [
    "# Métodos de prueba\n",
    "\n",
    "### Teorema 1: Método directo\n",
    "\n",
    "- Dadas las fórmulas $F_1, F_2, \\cdots , F_n$ y una fórmula $G$, $G$ es una consecuencia lógica de $F_1, F_2, \\cdots , F_n$, si y solo si:\n",
    "    - $(F_1 \\wedge F_2 \\wedge \\cdots \\wedge F_n) \\Rightarrow G$ es válida."
   ]
  },
  {
   "cell_type": "markdown",
   "metadata": {
    "slideshow": {
     "slide_type": "subslide"
    }
   },
   "source": [
    "### Teorema 2: Método indirecto\n",
    "\n",
    "- Dadas las fórmulas $F_1, F_2, \\cdots , F_n$ y una fórmula $G$, $G$ es una consecuencia lógica de $F_1, F_2, \\cdots , F_n$, si y solo si:\n",
    "    - $(F_1 \\wedge F_2 \\wedge \\cdots \\wedge F_n) \\Rightarrow \\neg G$ es válida."
   ]
  },
  {
   "cell_type": "markdown",
   "metadata": {
    "slideshow": {
     "slide_type": "slide"
    }
   },
   "source": [
    "# Demostración y Deducción\n",
    "\n",
    "- Demostración: Es una sucesión de fórmulas $P_1, P_2, \\cdots, P_n$ tales que cada $P_i$ es:\n",
    "    - Un axioma.\n",
    "    - Una fórmula obtenida a partir de las anteriores.\n",
    "- Y, el último elemento $(P_n)$ es la fórmula que se desea demostrar."
   ]
  },
  {
   "cell_type": "markdown",
   "metadata": {
    "slideshow": {
     "slide_type": "slide"
    }
   },
   "source": [
    "# Reglas de Inferencia\n",
    "\n",
    "- Permiten la deducción de nuevas proposiciones a partir de otras dadas.\n",
    "- Así se relaciona el hecho de que una nueva proposición sea verdadera, a partir de la veracidad de las proposiciones originales."
   ]
  },
  {
   "cell_type": "markdown",
   "metadata": {
    "slideshow": {
     "slide_type": "subslide"
    }
   },
   "source": [
    "![](../figuras/reglas_inferencia.pdf)"
   ]
  },
  {
   "cell_type": "markdown",
   "metadata": {
    "slideshow": {
     "slide_type": "slide"
    }
   },
   "source": [
    "# Inferencia por Resolución\n",
    "\n",
    "- Resolución es una regla de inferencia utilizada sobre cierto tipo de proposiciones lógicas y es especialmente utilizada para los demostradores automatizados de teoremas. Utilizando resolución se puede construir un demostrador que sea completo (por contradicción) y correcto.\n",
    "\n",
    "- Resolución solamente funciona cuando se escriben las proposiciones en términos de premisas que constan solamente de disyunciones de literales. Puesto que toda proposición lógica se puede escribir en términos de disyunciones, conjunciones y negaciones lo anterior no supone una limitación del método más allá de transformar proposiciones lógicas. Las proposiciones escritas en esta forma se les denomina cláusulas."
   ]
  },
  {
   "cell_type": "markdown",
   "metadata": {
    "slideshow": {
     "slide_type": "subslide"
    }
   },
   "source": [
    "- Premisa 1: $x \\vee y$,  \n",
    "- Premisa 2: $\\neg y  \\vee z$\n",
    "- Conclusión: $x  \\vee z$"
   ]
  },
  {
   "cell_type": "markdown",
   "metadata": {
    "slideshow": {
     "slide_type": "slide"
    }
   },
   "source": [
    "# Mecanismo de Prueba\n",
    "\n",
    "- Dado \n",
    "    - Una base de conocimiento representada como un conjunto de sentencias proposicionales.\n",
    "    - Una meta definida como una sentencia proposicional\n",
    "    - Una lista de reglas de inferencia\n",
    "- Podemos escribir un programa para que aplique una y otra ves las reglas inferencia a la base de conocimiento en la esperanza de derivar la meta."
   ]
  },
  {
   "cell_type": "markdown",
   "metadata": {
    "slideshow": {
     "slide_type": "subslide"
    }
   },
   "source": [
    "# Ejemplo:\n",
    "\n",
    "- Lloverá O habrá un examen.\n",
    "- David es Darth Vader O no lloverá.\n",
    "- David no es Darth Vader.\n",
    "- ¿Habrá un examen?"
   ]
  },
  {
   "cell_type": "markdown",
   "metadata": {
    "slideshow": {
     "slide_type": "subslide"
    }
   },
   "source": [
    "# Solución\n",
    "\n",
    "- $Lluvia = a$ , $Examen = b$, $DavidEsVader = c$\n",
    "- Base de Conocimiento (todas son ciertas):\n",
    "    - $a \\vee b$,      $\\hspace{6 mm}c \\vee \\neg a$,      $\\hspace{6 mm}\\neg c$\n",
    "- Por Resolución sabemos que b ∨ c es cierta.\n",
    "- Por Resolución Unidad sabemos que b es cierta."
   ]
  },
  {
   "cell_type": "markdown",
   "metadata": {
    "slideshow": {
     "slide_type": "slide"
    }
   },
   "source": [
    "# Desarrollando un Procedimiento de Prueba\n",
    "\n",
    "- Derivando (o refutando) una meta a partir de una colección de hechos lógicos corresponde a un árbol de búsqueda muy grande.\n",
    "- Un número grande de reglas de inferencia pueden ser utilizadas.\n",
    "- La selección de cual regla aplicar y cuando no es trivial."
   ]
  },
  {
   "cell_type": "markdown",
   "metadata": {
    "slideshow": {
     "slide_type": "slide"
    }
   },
   "source": [
    "# Resolución y Forma Normal Conjuntiva\n",
    "\n",
    "- Resolución es una regla de inferencia sencilla que puede operar eficientemente sobre una forma especial de sentencias.\n",
    "- Esta forma especial es llamada forma clausal o forma normal conjuntiva (FNC), y tiene estas propiedades:\n",
    "- Cada sentencia es una disyunción ($o$) de literales\n",
    "- Todas las sentencias están implícitamente conjuntadas ($y$)"
   ]
  },
  {
   "cell_type": "markdown",
   "metadata": {
    "slideshow": {
     "slide_type": "slide"
    }
   },
   "source": [
    "# Lógica Proposicional y Forma Normal Conjuntiva\n",
    "\n",
    "- Cualquier sentencia de lógica proposicional puede ser convertida a FNC. Necesitamos  remover todos los conectores diferentes a $O$ (sin modificar el significado de la sentencia)"
   ]
  },
  {
   "cell_type": "markdown",
   "metadata": {
    "slideshow": {
     "slide_type": "slide"
    }
   },
   "source": [
    "# Convirtiendo a Forma Normal Conjuntiva\n",
    "\n",
    "- Eliminar implicaciones y equivalencias.\n",
    "- Reducir el alcance de todas las negaciones a un solo término.\n",
    "- Usar las leyes asociativa y distributiva para convertir a una conjunción de disyunciones.\n",
    "- Crear una sentencia separada para cada conjunción."
   ]
  },
  {
   "cell_type": "markdown",
   "metadata": {
    "slideshow": {
     "slide_type": "subslide"
    }
   },
   "source": [
    "## Paso 1:\n",
    "\n",
    "- Eliminación de Implicaciones y Equivalencias:\n",
    "- $x \\Rightarrow y$   se convierte    $\\neg x \\vee y$\n",
    "- $x \\Leftrightarrow y$ se convierte $( \\neg x \\vee y) \\wedge ( \\neg y \\vee x)$"
   ]
  },
  {
   "cell_type": "markdown",
   "metadata": {
    "slideshow": {
     "slide_type": "subslide"
    }
   },
   "source": [
    "## Paso 2:\n",
    "\n",
    "- Reducir el Alcance de las Negaciones\n",
    "- $( \\neg \\neg x)$ se convierte $x$\n",
    "- $\\neg(x \\vee y)$  se convierte $( \\neg y \\wedge \\neg x)$\n",
    "- $\\neg(x \\wedge y)$  se convierte $( \\neg y \\vee \\neg x)$"
   ]
  },
  {
   "cell_type": "markdown",
   "metadata": {
    "slideshow": {
     "slide_type": "subslide"
    }
   },
   "source": [
    "## Paso 3:\n",
    "\n",
    "- Convertir a una conjunción de disyunciones\n",
    "- Propiedad Asociativa : $(A \\vee B) \\vee C = A \\vee (B \\vee C)$ \n",
    "- Propiedad Distributiva : $(A \\wedge B) \\vee C = (A \\vee C) \\wedge (B \\vee C)$ "
   ]
  },
  {
   "cell_type": "markdown",
   "metadata": {
    "slideshow": {
     "slide_type": "slide"
    }
   },
   "source": [
    "# Usando Resolución para Probar\n",
    "\n",
    "- Convertir todas las sentencias proposicionales que están en la de base conocimiento a FNC.\n",
    "- Agregar la contradicción de la meta a la de base conocimiento (in FNC).\n",
    "- Usar resolución como una regla de inferencia para probar que la combinación de hechos no pueden ser todos ciertos."
   ]
  },
  {
   "cell_type": "markdown",
   "metadata": {
    "slideshow": {
     "slide_type": "slide"
    }
   },
   "source": [
    "# Prueba por Contradicción\n",
    "\n",
    "- Asumimos que todos los hechos originales son $CIERTOS$\n",
    "- Agregamos un nuevo hecho (la contradicción de la sentencia que tratamos de probar es $CIERTA$)\n",
    "- Si podemos inferir que $FALSO$ es $CIERTO$ sabemos que la base de conocimientos esta corrompida.\n",
    "- La única cosa que podría no ser $CIERTA$ es la negación de la meta que agregamos, por lo que debe ser $FALSA$. Por lo tanto la meta es $CIERTA$"
   ]
  },
  {
   "cell_type": "markdown",
   "metadata": {
    "slideshow": {
     "slide_type": "slide"
    }
   },
   "source": [
    "# Ejemplo:\n",
    "\n",
    "- Base de Conocimiento :\n",
    "    - $P$\n",
    "    - $(P \\wedge Q) \\Rightarrow R$\n",
    "    - $(S  \\vee T) \\Rightarrow Q$\n",
    "    - $T$\n",
    "- Meta:\n",
    "    - $R$"
   ]
  },
  {
   "cell_type": "markdown",
   "metadata": {
    "slideshow": {
     "slide_type": "subslide"
    }
   },
   "source": [
    "## Conversión a FNC\n",
    "\n",
    "![](../figuras/fnc.pdf)"
   ]
  },
  {
   "cell_type": "markdown",
   "metadata": {
    "slideshow": {
     "slide_type": "subslide"
    }
   },
   "source": [
    "## Agregar la Contradicción de la Meta\n",
    "\n",
    "- La meta es $R$, por lo que agregamos  $\\neg R$ a la lista de hechos, el nuevo conjunto es:\n",
    "    1. $P$\n",
    "    2. $\\neg P  \\vee \\neg Q \\vee R$\n",
    "    3. $\\neg S  \\vee  Q$\n",
    "    4. $\\neg T  \\vee  Q$\n",
    "    5. $T$\n",
    "    6. $\\neg R$"
   ]
  },
  {
   "cell_type": "markdown",
   "metadata": {
    "slideshow": {
     "slide_type": "subslide"
    }
   },
   "source": [
    "## Aplicando Resolución\n",
    "\n",
    "- Hecho 2 puede ser resuelto con hecho 6, generando un nuevo hecho:\n",
    "\n",
    "![](../figuras/resolucion.pdf)"
   ]
  },
  {
   "cell_type": "markdown",
   "metadata": {
    "slideshow": {
     "slide_type": "subslide"
    }
   },
   "source": [
    "## Solución:\n",
    "\n",
    "![](../figuras/resolucion_2.pdf)"
   ]
  },
  {
   "cell_type": "markdown",
   "metadata": {
    "slideshow": {
     "slide_type": "slide"
    }
   },
   "source": [
    "## Vista más intuitiva del mismo ejemplo\n",
    "\n",
    "- $P$:  Juan es inteligente\n",
    "- $Q$: Juan le gusta el hockey\n",
    "- $R$: Juan va a RPI\n",
    "- $S$: Juan es Canadiense\n",
    "- $T$: Juan patina."
   ]
  },
  {
   "cell_type": "markdown",
   "metadata": {
    "slideshow": {
     "slide_type": "subslide"
    }
   },
   "source": [
    "## Sentencias Originales\n",
    "\n",
    "- Juan es inteligente\n",
    "- Si Juan es inteligente y Juan le gusta hockey, Juan va a RPI\n",
    "- Si Juan es Canadiense o Juan patina, Juan le gusta hockey.\n",
    "- Juan patina."
   ]
  },
  {
   "cell_type": "markdown",
   "metadata": {
    "slideshow": {
     "slide_type": "subslide"
    }
   },
   "source": [
    "## Después de la conversión a FNC\n",
    "\n",
    "- Hecho 2: Juan no es inteligente, o Juan no le gusta hockey, o Juan va a RPI.\n",
    "- Hecho 3: Juan no es Canadiense o Juan le gusta hockey.\n",
    "- Hecho 4: Juan no patina, o Juan le gusta hockey."
   ]
  },
  {
   "cell_type": "markdown",
   "metadata": {
    "slideshow": {
     "slide_type": "subslide"
    }
   },
   "source": [
    "## Solución\n",
    "\n",
    "![](../figuras/resolucion_3.pdf)"
   ]
  },
  {
   "cell_type": "markdown",
   "metadata": {
    "slideshow": {
     "slide_type": "slide"
    }
   },
   "source": [
    "# Límites de la Lógica Proposicional\n",
    "\n",
    "- El poder expresivo de la lógica proposicional es limitado. Se asume que todo puede ser expresado por hechos simples.\n",
    "- Es mucho más fácil modelar el mundo real usando propiedades y relaciones.\n",
    "- La Lógica de Predicados provee estas capacidades más formalmente y es usada en muchos dominios de IA para representar conocimiento."
   ]
  },
  {
   "cell_type": "markdown",
   "metadata": {
    "slideshow": {
     "slide_type": "slide"
    }
   },
   "source": [
    "# Ejercicio 1:\n",
    "\n",
    "- En otra ocasión el inspector fue solicitado por el director de la Escuela local para resolver la misteriosa rotura de los cristales. Los sospechosos eran Zipi, Zape, Pedrín y Luisito. Las pistas eran:\n",
    "    1. Se sabía a ciencia cierta que el culpable (o culpables) estaba entre estos cuatro “elementos”.\n",
    "    2. Pedrín era definitivamente inocente.\n",
    "    3. Si Zipi era culpable, entonces tenía un único cómplice\n",
    "    4. Si Zape era culpable, entonces tenía dos y sólo dos cómplices.\n",
    "- El director de la escuela estaba especialmente interesado en saber si Luisito era culpable o no. \t"
   ]
  },
  {
   "cell_type": "markdown",
   "metadata": {
    "slideshow": {
     "slide_type": "slide"
    }
   },
   "source": [
    "# Ejercicio 2:\n",
    "\n",
    "- Dado el siguiente problema:\n",
    "    1. Si Maki es culpable y Popi inocente, entonces El Pira es culpable.\n",
    "    2. El Pira nunca trabaja solo.\n",
    "    3. Maki no trabaja con El Pirata.\n",
    "    4. Se sabe que al menos uno de estos tres personajes es el culpable, y que nadie distinto a ellos intervino\n",
    "- Es posible afirmar usando calculo de proposiciones y resolución: \n",
    "    - Popeye es culpable "
   ]
  }
 ],
 "metadata": {
  "celltoolbar": "Slideshow",
  "kernelspec": {
   "display_name": "Python 3",
   "language": "python",
   "name": "python3"
  },
  "language_info": {
   "codemirror_mode": {
    "name": "ipython",
    "version": 3
   },
   "file_extension": ".py",
   "mimetype": "text/x-python",
   "name": "python",
   "nbconvert_exporter": "python",
   "pygments_lexer": "ipython3",
   "version": "3.7.5"
  }
 },
 "nbformat": 4,
 "nbformat_minor": 4
}
