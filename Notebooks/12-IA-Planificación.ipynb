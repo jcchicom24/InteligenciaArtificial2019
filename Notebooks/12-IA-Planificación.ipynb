{
 "cells": [
  {
   "cell_type": "markdown",
   "metadata": {
    "slideshow": {
     "slide_type": "slide"
    }
   },
   "source": [
    "<center>\n",
    "    <h1>Inteligencia Artificial</h1>\n",
    "    <h1>Planificación</h1>\n",
    "    <h1></h1>\n",
    "    <h5>Prof. Wladimir Rodriguez</h5>\n",
    "    <h5>wladimir.rodriguez@outlook.com</h5>\n",
    "    <h5>Departamento de Computación</h5>\n",
    "</center>"
   ]
  },
  {
   "cell_type": "markdown",
   "metadata": {
    "slideshow": {
     "slide_type": "slide"
    }
   },
   "source": [
    "## El Problema de Planificación\n",
    "\n",
    "- Conseguir una secuencia de acciones que cumplan con una meta dada, cuando se ejecutan desde un estado del mundo inicial. Esto es, dados\n",
    "    - un conjunto de descripciones de operadores (definiendo las acciones primitivas posibles del agente)\n",
    "    - una descripción del estado inicial, y\n",
    "    - una descripción o predicado del estado meta\n",
    "- Calcular un plan, el cual es:\n",
    "    - una secuencia de instancias de operadores, tal que ejecutandolos desde el estado inicial, cambiaran al mundo a un estado que satisfaga la descripción del estado meta\n",
    "- Las metas son usualmente especificadas como un a conjunción de metas a ser alcanzadas"
   ]
  },
  {
   "cell_type": "markdown",
   "metadata": {
    "slideshow": {
     "slide_type": "slide"
    }
   },
   "source": [
    "## Inteligencia\n",
    "\n",
    "- La planificación es una capacidad fundamental de los sistemas inteligentes. Específicamente:\n",
    "    - La habilidad de planificar eventos futuros.\n",
    "    - La habilidad para razonar (hacer planes) dentro de un ambiente cambiante. \n",
    "    - La habilidad de descomponer problemas complejos en unidades manejables."
   ]
  },
  {
   "cell_type": "markdown",
   "metadata": {
    "slideshow": {
     "slide_type": "slide"
    }
   },
   "source": [
    "## Planificación\n",
    "\n",
    "- Para algunos problemas la noción de planificación es la misma que una búsqueda de la solución.\n",
    "    - Ejemplo: 8-puzzle\n",
    "- En otros dominios la distinción entre búsqueda y planificación es clara:\n",
    "    - Aquellos en donde el universo no es predecible.\n",
    "    - Cuando los pasos no pueden ser deshechos. (retroceso)."
   ]
  },
  {
   "cell_type": "markdown",
   "metadata": {
    "slideshow": {
     "slide_type": "slide"
    }
   },
   "source": [
    "## Clasificación vs. Síntesis\n",
    "\n",
    "- Los problemas de planificación pueden ser:\n",
    "    - *Problemas de Clasificación*: simplemente decidir cual de muchas posibles acciones tomar.\n",
    "    - *Problemas de Síntesis*: generar toda la solución antes de tomar cualquier acción. El resultado final es un plan formal que puede ser útil en situaciones futuras (Tales como cuando se va a tomar el próximo paso)."
   ]
  },
  {
   "cell_type": "markdown",
   "metadata": {
    "slideshow": {
     "slide_type": "slide"
    }
   },
   "source": [
    "## Los Problemas Interesantes (difíciles)\n",
    "\n",
    "- Problemas de Síntesis.  \n",
    "- El ambiente esta cambiando, por lo que los planes deben ser constantemente cambiados.\n",
    "    - La eficiencia computacional es importante - necesitamos encontrar maneras de:\n",
    "        - restringir el espacio de búsqueda (buscar procedimientos de búsqueda que tomen ventaja de la naturaleza del problema)\n",
    "        - representar soluciones parciales de manera de reusarlas. "
   ]
  },
  {
   "cell_type": "markdown",
   "metadata": {
    "slideshow": {
     "slide_type": "slide"
    }
   },
   "source": [
    "## Ejemplo - Navegación de un Robot\n",
    "\n",
    "- La meta es que un robot se mueva de un cuarto a otro sin chocar con obstáculos.\n",
    "- Esto es bastante fácil si asumimos:\n",
    "    - El robot tiene conocimiento de todos los cuartos y obstáculos. \n",
    "    - Nada cambia (el conocimiento es el predictor perfecto)"
   ]
  },
  {
   "cell_type": "markdown",
   "metadata": {
    "slideshow": {
     "slide_type": "slide"
    }
   },
   "source": [
    "## Planificación en un Ambiente Estático\n",
    "\n",
    "- Si nada cambia:\n",
    "    - Crear una base de datos lógica que describa todo acerca del ambiente.\n",
    "    - Utilizar una prueba constructiva (resolución, almacenar los pasos de la resolución) para construir un plan..\n",
    "- Ya sabemos como hacer esto."
   ]
  },
  {
   "cell_type": "markdown",
   "metadata": {
    "slideshow": {
     "slide_type": "slide"
    }
   },
   "source": [
    "## Planificación Realistica de un  Robot\n",
    "\n",
    "- ¿Que pasa si alguien mueve una silla? \n",
    "- ¿Que pasa si un niño se acuesta delante del robot?\n",
    "- ¿Que pasa si alguien trata de para el robot y el robot es forzado a matarlo, y el cuerpo esta ahora bloqueando la vía?"
   ]
  },
  {
   "cell_type": "markdown",
   "metadata": {
    "slideshow": {
     "slide_type": "slide"
    }
   },
   "source": [
    "## Sistemas Reactivos\n",
    "\n",
    "- El plan es - no se moleste en hacer un plan, ya que alguien lo va a dañar.\n",
    "- Desarrolle una **submeta**, y tome acciones para lograr la **submeta**. \n",
    "- Observe el resultado, y divise una nueva meta.\n",
    "- Continúe haciendolo hasta que alcance la meta."
   ]
  },
  {
   "cell_type": "markdown",
   "metadata": {
    "slideshow": {
     "slide_type": "subslide"
    }
   },
   "source": [
    "- Trabajan bien para muchos tipos de tareas sencillas por ejemplo: termostato.\n",
    "- Frecuentemente se requiere de una combinación de reacción y verdadera planificación:\n",
    "- No se puede esperar por el mejor plan antes de tomar una decisión.\n",
    "- Tomar una acción realmente mala puede llevar al desastre."
   ]
  },
  {
   "cell_type": "markdown",
   "metadata": {
    "slideshow": {
     "slide_type": "slide"
    }
   },
   "source": [
    "## Planificación Activa en un Ambiente Dinámico\n",
    "\n",
    "- Enfoque sencillo:\n",
    "\n",
    "```\n",
    "Haga mientras no meta:\n",
    "    Desarrolle un plan completo como si el ambiente no fuera a cambiar. \n",
    "    Tome el primer paso del plan (dirigido hacia la meta).\n",
    "    Reevaluar el ambiente (actualice los hechos basados en la nueva situación).\n",
    "```"
   ]
  },
  {
   "cell_type": "markdown",
   "metadata": {
    "slideshow": {
     "slide_type": "slide"
    }
   },
   "source": [
    "## Planificación Simple vs. Sistemas Reactivos\n",
    "\n",
    "- Un sistema Reactivo no hace un plan completo, a cada paso solo tratar de acercarse a la meta.\n",
    "- Un sistema de planificación genera un plan completo, y entonces toma el primer paso del plan. \n",
    "- Planificación verdadera involucra el mirar hacia delante, lo que puede resultar en un camino mucho mas corto."
   ]
  },
  {
   "cell_type": "markdown",
   "metadata": {
    "slideshow": {
     "slide_type": "slide"
    }
   },
   "source": [
    "## Desventajas del Enfoque Simple\n",
    "\n",
    "- Debe hacer todo de nuevo en cada paso..\n",
    "    - No hace uso de las computaciones previas.\n",
    "    - No tiene la capacidad de reconocer situaciones “similares” y de reusar planes anteriores (o subplanes)."
   ]
  },
  {
   "cell_type": "markdown",
   "metadata": {
    "slideshow": {
     "slide_type": "slide"
    }
   },
   "source": [
    "## Otros Enfoques\n",
    "\n",
    "- La idea general es el hacer uso de las calculaciones anteriores:\n",
    "    - si originalmente hicimos un plan completo y ahora nos encontramos con que algo cambio - quizás  gran parte del plan original es aun valido.\n",
    "- Necesitamos desarrollar alguna forma de representar planes. \n",
    "- Necesitamos algoritmos para cambiar planes."
   ]
  },
  {
   "cell_type": "markdown",
   "metadata": {
    "slideshow": {
     "slide_type": "slide"
    }
   },
   "source": [
    "## Planificación & Descomposición\n",
    "\n",
    "- Problemas que son descomponibles o parcialmente descomponibles pueden ser resueltos por un sistema que:\n",
    "    - Pueda resolver cada subproblema independientemente.\n",
    "    - Sepa cuales subproblemas no son independientes.\n",
    "    - Pueda revisar las soluciones a los subproblemas cuando algo no vaya de acuerdo al plan.\n",
    "- Este es el enfoque en el cual estamos interesados."
   ]
  },
  {
   "cell_type": "markdown",
   "metadata": {
    "slideshow": {
     "slide_type": "slide"
    }
   },
   "source": [
    "## Ejemplo\n",
    "\n",
    "- El Robot desarrolla un plan para ir a otro cuarto. El plan involucra:\n",
    "    - Moverse alrededor del sofá.\n",
    "    - Moverse desde el sofá hasta la puerta.\n",
    "    - Abrir la puerta.\n",
    "    - Salir por la puerta."
   ]
  },
  {
   "cell_type": "markdown",
   "metadata": {
    "slideshow": {
     "slide_type": "slide"
    }
   },
   "source": [
    "## Representación del Estado\n",
    "\n",
    "- Este tipo de problemas por lo general incluyen descripciones muy complejas de estados..\n",
    "- Puede no ser posible crear una copia completa de toda la información de cada estado considerado durante la búsqueda.\n",
    "- Estados sucesores pueden ser descritos por los cambios hechos por un operador.\n",
    "- Necesitamos almacenar estos cambios de manera de poder retroceder."
   ]
  },
  {
   "cell_type": "markdown",
   "metadata": {
    "slideshow": {
     "slide_type": "slide"
    }
   },
   "source": [
    "## Espacio de Estados del Robot\n",
    "\n",
    "- Posición de todos los obstáculos, paredes, puertas, cuartos, etc.\n",
    "- Posición del robot.\n",
    "- Velocidad y dirección del movimiento del robot.\n",
    "- Posición de todos los componentes del robot (brazos, sensores, etc.)"
   ]
  },
  {
   "cell_type": "markdown",
   "metadata": {
    "slideshow": {
     "slide_type": "slide"
    }
   },
   "source": [
    "## ¿Qué hacer cuando algo pasa?\n",
    "\n",
    "- Creamos un plan que incluya la solución de un número de subproblemas.\n",
    "- Si después de ejecutar la solución al subproblema 1, algo ocurre.\n",
    "- Necesitamos saber que otros subproblemas están afectados, y revisar cada una de sus soluciones.\n",
    "- Lo importante es que no queremos comenzar de cero."
   ]
  },
  {
   "cell_type": "markdown",
   "metadata": {
    "slideshow": {
     "slide_type": "slide"
    }
   },
   "source": [
    "## Planificando un conjunto de soluciones.\n",
    "\n",
    "- Algunas veces no es posible crear un número de planes, cada uno que trate con un específico obstáculo que pueda ocurrir.\n",
    "- Cuando algo sale mal, ya tenemos un plan de contingencia listo.\n",
    "- Frecuentemente esto no es posible o práctico. (el conocimiento requerido puede no estar disponible o ser muy grande)."
   ]
  },
  {
   "cell_type": "markdown",
   "metadata": {
    "slideshow": {
     "slide_type": "slide"
    }
   },
   "source": [
    "## Dependencia de las Subtareas\n",
    "\n",
    "- El plan incluye información que describe las dependencias entre todas las subtareas.\n",
    "- Utilizando esta información la revisión del plan es llamada retroceso dirigido por las dependencias.\n",
    "- Generalmente es mas fácil determinar estas dependencias si el proceso de planificación trabaja desde la meta hacia atrás."
   ]
  },
  {
   "cell_type": "markdown",
   "metadata": {
    "slideshow": {
     "slide_type": "slide"
    }
   },
   "source": [
    "## Mundo de los Bloques\n",
    "\n",
    "![](../figuras/mundo_bloques_1.png)"
   ]
  },
  {
   "cell_type": "markdown",
   "metadata": {
    "slideshow": {
     "slide_type": "subslide"
    }
   },
   "source": [
    "### Predicados usados para describir estados:\n",
    "\n",
    "```\n",
    "SOBRE(A,B)    Bloque A está sobre bloque B\n",
    "EN_LA_MESA(A) Bloque A está sobre la mesa\n",
    "LIBRE(A)\t  No hay nada sobre el bloque A\n",
    "AGARRADO(A)   El robot está agarrando el bloque A\n",
    "BRAZO_VACIO   El brazo del robot esta vacío\n",
    "```"
   ]
  },
  {
   "cell_type": "markdown",
   "metadata": {
    "slideshow": {
     "slide_type": "subslide"
    }
   },
   "source": [
    "### Operaciones del Mundo de los Bloques\n",
    "\n",
    "```\n",
    "Quitar(A,B)  Quitar bloque A de encima del bloque B.\n",
    "Poner(A,B)   Poner bloque A sobre el bloque B.\n",
    "Agarrar(A)   Levantar bloque A.\n",
    "Bajar(A)     Poner bloque A sobre la mesa.\n",
    "Vaporizar(A) Vaporizar bloque A con un laser.\n",
    "```"
   ]
  },
  {
   "cell_type": "markdown",
   "metadata": {
    "slideshow": {
     "slide_type": "subslide"
    }
   },
   "source": [
    "### Ejemplo de las Restricciones de las Operaciones\n",
    "\n",
    "```\n",
    "Quitar(A,B):\n",
    "\tBRAZO_VACIO   El brazo debe estar vacío\n",
    "\tLIBRE(A)      Nada encima de A\n",
    "\tSOBRE(A,B).   A debe estar sobre B\n",
    "```"
   ]
  },
  {
   "cell_type": "markdown",
   "metadata": {
    "slideshow": {
     "slide_type": "subslide"
    }
   },
   "source": [
    "### Algunos Axiomas del Mundo de los Bloques\n",
    "\n",
    "$$\\exists x \\; AGARRADO(x) \\Rightarrow \\neg BRAZO\\_VACIO$$\n",
    "\n",
    "$$\\forall x \\; EN\\_LA\\_MESA(x) \\Rightarrow \\neg \\exists y \\; SOBRE(x, y)$$\n",
    "\n",
    "$$\\forall x \\neg \\exists y \\; SOBRE(x, y) \\Rightarrow LIBRE(x)$$"
   ]
  },
  {
   "cell_type": "markdown",
   "metadata": {
    "slideshow": {
     "slide_type": "slide"
    }
   },
   "source": [
    "### Razonamiento en el Mundo de los Bloques\n",
    "\n",
    "- La representación del estado es un conjunto de predicados que son validos para ese estado.\n",
    "- Cada predicado se refiere a un objeto (situación) del estado:\n",
    "\n",
    "![](../figuras/mundo_bloques_2.png)\n"
   ]
  },
  {
   "cell_type": "markdown",
   "metadata": {
    "slideshow": {
     "slide_type": "subslide"
    }
   },
   "source": [
    "### Mundo de los Bloques & Resolución\n",
    "\n",
    "- El efecto de cada operador esta codificado en lógica de predicados:\n",
    "\n",
    "$$LIBRE(x,s) \\land SOBRE(x,y,s) \\Rightarrow \\\\\n",
    "\t AGARRAR(x, Hacer(Quitar(x,y),s)) \\land \\\\\n",
    "\t LIBRE(y, Hacer(Quitar(x,y),s))$$\n",
    "\n",
    "- `Hacer` es una función que especifica el estado resultante después de la aplicación de un operador."
   ]
  },
  {
   "cell_type": "markdown",
   "metadata": {
    "slideshow": {
     "slide_type": "subslide"
    }
   },
   "source": [
    "![](../figuras/mundo_bloques_3.png)"
   ]
  },
  {
   "cell_type": "markdown",
   "metadata": {},
   "source": [
    "$$estado_1 = Hacer(Quitar(B,A), estado_0)$$\n",
    "\n",
    "![](../figuras/mundo_bloques_4.png)"
   ]
  },
  {
   "cell_type": "markdown",
   "metadata": {
    "slideshow": {
     "slide_type": "subslide"
    }
   },
   "source": [
    "- ¿Es $EN\\_LA\\_MESA(A, estado_1)$ cierto ?\n",
    "- El operador `Quitar` que produce el estado 1 no dice nada acerca de lo que no fue cambiado.\n",
    "- Necesitamos agregar algunos *axiomas marco* que especifique que no cambio cuando cada aperador es aplicado.  \n",
    "\n",
    "$$EN\\_LA\\_MESA(z,s) \\Rightarrow EN\\_LA\\_MESA(z, Hacer(Quitar(x,y),s))$$"
   ]
  },
  {
   "cell_type": "markdown",
   "metadata": {
    "slideshow": {
     "slide_type": "slide"
    }
   },
   "source": [
    "## Usando Resolución\n",
    "\n",
    "- En general, necesitamos agregar muchos axiomas marco para estar seguros que toda la información del estado puede ser derivada.\n",
    "- Si especificamos todos los necesarios axiomas, Resolución es el único mecanismo que necesitamos. \n",
    "- No siempre es posible especificar todos los axiomas necesarios."
   ]
  },
  {
   "cell_type": "markdown",
   "metadata": {
    "slideshow": {
     "slide_type": "slide"
    }
   },
   "source": [
    "## Enfoque Híbrido\n",
    "\n",
    "- Para cada operador:\n",
    "    - **precondiciones**: predicados que deben ser ciertos antes que el operador pueda ser aplicado (restricciones).\n",
    "    - **agregados**: predicados que el operador convierte a cierto.\n",
    "    - **eliminados**: predicados que el operador convierte a falso.\n",
    "- Lo no especificado se asume que no cambia. "
   ]
  },
  {
   "cell_type": "markdown",
   "metadata": {
    "slideshow": {
     "slide_type": "subslide"
    }
   },
   "source": [
    "```\n",
    "Poner(x,y)\n",
    "    Precondiciones:    LIBRE(y) ∧ AGARRADO(x)\n",
    "    Agregados:         BRAZO_VACIO ∧ SOBRE(x,y)\n",
    "    Eliminados:        LIBRE(y) ∧ AGARRADO(x)\n",
    "\n",
    "Quitar(x,y)\n",
    "    Precondiciones: \t\n",
    "    Agregados: \t\n",
    "    Eliminados: \n",
    "```"
   ]
  },
  {
   "cell_type": "markdown",
   "metadata": {
    "slideshow": {
     "slide_type": "slide"
    }
   },
   "source": [
    "## Ejemplo: Enfoque Híbrido\n",
    "\n",
    "![](../figuras/mundo_bloques_5.png)"
   ]
  },
  {
   "cell_type": "markdown",
   "metadata": {
    "slideshow": {
     "slide_type": "slide"
    }
   },
   "source": [
    "## Los Algoritmos de Planificación con Pila de Metas\n",
    "\n",
    "Los algoritmos de planificación con pila de metas funcionan con una `Pila`. Comienza empujando las metas insatisfechas a la `Pila`. Luego, empuja las submetas individuales dentro de la `Pila` y saca un elemento de la `Pila`. Al sacar un elemento de la `Pila`, el elemento podría ser un predicado que describa una situación sobre nuestro mundo o podría ser una acción que se puede aplicar a nuestro mundo en consideración. Entonces, en función del tipo de elemento que estamos sacando de la `Pila`, se debe tomar una decisión. Si es un predicado. Luego lo compara con la descripción del mundo actual, si está satisfecho o ya está presente en nuestra situación actual, entonces no hay nada que hacer porque ya es cierto. Por el contrario, si el Predicado no es verdadero, entonces tenemos que seleccionar y meter la acción relevante que satisfaga el predicado a la `Pila`.\n",
    "\n",
    "Entonces, después de empujar la acción relevante en la `Pila`, su precondicione también debe ser empujada a la `Pila`. Para aplicar una operación, se debe cumplir su condición previa. En otras palabras, la situación actual del mundo debería ser lo suficientemente adecuada como para aplicar una operación. Para eso, las condiciones previas se introducen en la `Pila` una vez que se activa una acción."
   ]
  },
  {
   "cell_type": "markdown",
   "metadata": {
    "slideshow": {
     "slide_type": "subslide"
    }
   },
   "source": [
    "## Algoritmo:\n",
    "\n",
    "- Dividir el problema en subproblemas. \n",
    "- Para cada subproblema:\n",
    "    - Poner una descripción de la submeta en la pila.\n",
    "- Mientras no fin\n",
    "    - Obtener submeta de la pila.\n",
    "    - Encontrar una secuencia de operadores que logren la submeta. Aplicar los operadores al estado actual."
   ]
  },
  {
   "cell_type": "markdown",
   "metadata": {
    "slideshow": {
     "slide_type": "slide"
    }
   },
   "source": [
    "![](../figuras/mundo_bloques_6.png)"
   ]
  },
  {
   "cell_type": "markdown",
   "metadata": {
    "slideshow": {
     "slide_type": "subslide"
    }
   },
   "source": [
    "El primer paso es meter la meta a la `Pila`.\n",
    "\n",
    "![](../figuras/pila_metas_1.png)"
   ]
  },
  {
   "cell_type": "markdown",
   "metadata": {
    "slideshow": {
     "slide_type": "subslide"
    }
   },
   "source": [
    "Luego empuje los predicados individuales de la meta a la `Pila`.\n",
    "\n",
    "![](../figuras/pila_metas_2.png)"
   ]
  },
  {
   "cell_type": "markdown",
   "metadata": {
    "slideshow": {
     "slide_type": "subslide"
    }
   },
   "source": [
    "Ahora saca un elemento de la pila\n",
    "\n",
    "![](../figuras/pila_metas_3.png)"
   ]
  },
  {
   "cell_type": "markdown",
   "metadata": {
    "slideshow": {
     "slide_type": "subslide"
    }
   },
   "source": [
    "El elemento sacado se indica con un tachado en el diagrama anterior. El elemento es SOBRE(B, D), que es un predicado y no es cierto en nuestro mundo actual. Por lo tanto, el siguiente paso es METER la acción relevante que podría lograr la submeta SOBRE(B, D) en la pila.\n",
    "\n",
    "![](../figuras/pila_metas_4.png)"
   ]
  },
  {
   "cell_type": "markdown",
   "metadata": {
    "slideshow": {
     "slide_type": "subslide"
    }
   },
   "source": [
    "Ahora meter las precondiciones de la acción `Poner(B, D)` en la pila.\n",
    "\n",
    "![](../figuras/pila_metas_5.png)"
   ]
  },
  {
   "cell_type": "markdown",
   "metadata": {
    "slideshow": {
     "slide_type": "subslide"
    }
   },
   "source": [
    "Ahora, llegando al punto, tenemos que hacer que la condiciones previas se haga realidad para poder aplicar la acción. Aquí tenemos que tener en cuenta algo interesante sobre las condiciones previas de que se puede insertar en la pila en cualquier orden, pero en ciertas situaciones tenemos que hacer alguna excepción y eso se ve claramente en el diagrama anterior. El AGARRADO(B) se mete primero y LIBRE(D) se mete a continuación, lo que indica que la meta secundaria AGARRADO debe realizarse en segundo lugar en comparación con la LIBRE. Debido a que estamos considerando el mundo de bloques con un robot de un solo brazo y todo lo que hacemos habitualmente aquí depende del brazo robótico si primero logramos AGARRADO(B), entonces tenemos que deshacer la submeja para lograr alguna otra submeta. Por lo tanto, si nuestro objetivo compuesto tiene una meta secundaria AGARRADO(x), consígala al final."
   ]
  },
  {
   "cell_type": "markdown",
   "metadata": {
    "slideshow": {
     "slide_type": "subslide"
    }
   },
   "source": [
    "Sacar un elemento de la pila.\n",
    "\n",
    "![](../figuras/pila_metas_6.png)"
   ]
  },
  {
   "cell_type": "markdown",
   "metadata": {
    "slideshow": {
     "slide_type": "subslide"
    }
   },
   "source": [
    "Después de sacar, vemos que LIBRE(D) es cierto en el modelo mundial actual, por lo que no tenemos que hacer nada.  \n",
    "Sacar un elemento de la pila.\n",
    "\n",
    "![](../figuras/pila_metas_7.png)"
   ]
  },
  {
   "cell_type": "markdown",
   "metadata": {
    "slideshow": {
     "slide_type": "subslide"
    }
   },
   "source": [
    "Meter Quitar(B, C) a la pila\n",
    "\n",
    "![](../figuras/pila_metas_8.png)"
   ]
  },
  {
   "cell_type": "markdown",
   "metadata": {
    "slideshow": {
     "slide_type": "subslide"
    }
   },
   "source": [
    "Ahora empujar las precondiciones previas de Quitar(B, C) en la pila.\n",
    "\n",
    "![](../figuras/pila_metas_9.png)"
   ]
  },
  {
   "cell_type": "markdown",
   "metadata": {
    "slideshow": {
     "slide_type": "subslide"
    }
   },
   "source": [
    "Sacar de la pila. Tenga en cuenta aquí que al sacar podríamos ver que SOBRE(B, C), LIBRE(B) Y BRAZO_VACIO son verdaderas en nuestro mundo actual. Así que no hagas nada.\n",
    "\n",
    "![](../figuras/pila_metas_10.png)"
   ]
  },
  {
   "cell_type": "markdown",
   "metadata": {
    "slideshow": {
     "slide_type": "subslide"
    }
   },
   "source": [
    "Ahora vuelve a sacar de la pila.\n",
    "\n",
    "![](../figuras/pila_metas_11.png)"
   ]
  },
  {
   "cell_type": "markdown",
   "metadata": {
    "slideshow": {
     "slide_type": "subslide"
    }
   },
   "source": [
    "Cuando hagamos eso, obtendremos una acción, así que simplemente aplique la acción al mundo actual y agregue esa acción a la lista del plan.\n",
    "\n",
    "Plan = {Quitar(B, C)}\n",
    "\n",
    "![](../figuras/mundo_bloques_7.png)"
   ]
  },
  {
   "cell_type": "markdown",
   "metadata": {
    "slideshow": {
     "slide_type": "subslide"
    }
   },
   "source": [
    "Sacar de muevo de la pila. Ahora es Poner(B, D), que es una acción, así que aplica eso al estado actual y agrégalo al PLAN.\n",
    "\n",
    "PLAN = {Quitar(B, C), Poner(B, D)}\n",
    "\n",
    "![](../figuras/pila_metas_12.png)"
   ]
  },
  {
   "cell_type": "markdown",
   "metadata": {},
   "source": [
    "![](../figuras/mundo_bloques_8.png)"
   ]
  },
  {
   "cell_type": "markdown",
   "metadata": {},
   "source": [
    "Ahora la pila se verá como la que se muestra a continuación y nuestro mundo actual es como el de arriba.\n",
    "\n",
    "![](../figuras/pila_metas_13.png)"
   ]
  },
  {
   "cell_type": "markdown",
   "metadata": {},
   "source": [
    "Sacar de la pila. El elemento emergente es un predicado y no es cierto en nuestro mundo actual, así que empuje la acción relevante a la pila.\n",
    "\n",
    "![](../figuras/pila_metas_14.png)"
   ]
  },
  {
   "cell_type": "markdown",
   "metadata": {},
   "source": [
    "Poner(C, A) está ahora a la pila y ahora meter a pila las condiciones previas de la acción dentro de la pila.\n",
    "\n",
    "![](../figuras/pila_metas_15.png)"
   ]
  },
  {
   "cell_type": "markdown",
   "metadata": {},
   "source": [
    "Ahora sacar de la pila. Obtendremos LIBRE(A) y es cierto en nuestro mundo actual, así que no haga nada.\n",
    "\n",
    "El siguiente elemento que aparece es AGARRADO(C), lo cual no es cierto, así que inserta la acción relevante en la pila.\n",
    "\n",
    "![](../figuras/pila_metas_16.png)"
   ]
  },
  {
   "cell_type": "markdown",
   "metadata": {},
   "source": [
    "Para lograr AGARRADO(C) tenemos que empujar la acción AGARRAR(C) y sus precondiciones individuales en la pila.\n",
    "\n",
    "![](../figuras/pila_metas_17.png)"
   ]
  },
  {
   "cell_type": "markdown",
   "metadata": {},
   "source": [
    "Ahora sacando de la pila obtendremos EN_LA_MESA(C), lo cual es cierto en nuestro mundo actual. A continuación aparece LIBRE(C) y eso también es cierto. Luego aparece Agarrar(C), que es una acción, así que aplíquela al mundo actual y agréguela al PLAN. El modelo mundial y la pila se verán a continuación,\n",
    "\n",
    "![](../figuras/pila_metas_18.png)"
   ]
  },
  {
   "cell_type": "markdown",
   "metadata": {},
   "source": [
    "PLAN = {Quitar(B, C), Poner(B, D), Agarrar(C)}\n",
    "\n",
    "![](../figuras/mundo_bloques_9.png)"
   ]
  },
  {
   "cell_type": "markdown",
   "metadata": {},
   "source": [
    "Sacar de la pila, obtendremos Poner(C, A), que es una acción, aplíquela al mundo e insértela en el PLAN.\n",
    "\n",
    "![](../figuras/pila_metas_19.png)"
   ]
  },
  {
   "cell_type": "markdown",
   "metadata": {},
   "source": [
    "PLAN = {Quitar(B, C), Poner(B, D), Agarrar(C), Poner(C, A)}\n",
    "\n",
    "![](../figuras/mundo_bloques_10.png)"
   ]
  },
  {
   "cell_type": "markdown",
   "metadata": {},
   "source": [
    "Finalmente, cuando saquemos el próximo elemento, obtendremos las dos submetas, las cuales son cierto y nuestro PLAN contendrá todas las acciones necesarias para lograr el objetivo.\n",
    "\n",
    "![](../figuras/pila_metas_20.png)"
   ]
  },
  {
   "cell_type": "markdown",
   "metadata": {
    "slideshow": {
     "slide_type": "slide"
    }
   },
   "source": [
    "## Retroceso\n",
    "\n",
    "- Dividir una meta en submetas y ponerlas en la pila es una forma de planificación.\n",
    "- Cuando la solución de una submeta daña el próximo paso, necesitamos retroceder.\n",
    "- El retroceso no se hace explícito, pero esta implícito en el proceso\n",
    "cada submeta tomada de la pila es resuelta relativa al estado actual. "
   ]
  },
  {
   "cell_type": "markdown",
   "metadata": {
    "slideshow": {
     "slide_type": "slide"
    }
   },
   "source": [
    "## La Solución\n",
    "\n",
    "- La solución es la secuencia de operadores que fueron aplicados.\n",
    "- Ya que conocemos lo que hace cada operador (listas agregados y eliminados) es posible reducir una secuencia de operadores.\n",
    "\n",
    "- Ejemplo: $Poner(A,B), \\; Quitar(A,B) \\Rightarrow \\{\\}$"
   ]
  },
  {
   "cell_type": "markdown",
   "metadata": {
    "slideshow": {
     "slide_type": "slide"
    }
   },
   "source": [
    "## Planificación No lineal \n",
    "\n",
    "- Algunas veces necesitamos atacar múltiples submetas al mismo tiempo. \n",
    "- Desarrollar un plan que pueda hacer esto es llamado planificación nolineal. \n",
    "- Usando las listas de precondiciones, agregados y eliminados hace posible determinar el efecto de las soluciones (operadores) intercaladas."
   ]
  },
  {
   "cell_type": "markdown",
   "metadata": {
    "slideshow": {
     "slide_type": "slide"
    }
   },
   "source": [
    "## Planificación Jerárquica\n",
    "\n",
    "1. Primero trate de establecer un plan general.\n",
    "2. Refine cada paso del plan.\n",
    "3. Refine cada refinamiento (otra y otra vez …)"
   ]
  },
  {
   "cell_type": "markdown",
   "metadata": {
    "slideshow": {
     "slide_type": "slide"
    }
   },
   "source": [
    "## Planificación Jerárquica \n",
    "\n",
    "- Dos Enfoques:\n",
    "    - Operadores Macro - construya operadores complejos a partir de los operadores simples.\n",
    "\n",
    "    - Asigne peso a las precondiciones. Inicialmente solo se preocupe de satisfacer las precondiciones importantes (pero resuelva el problema completo). Entonces preocúpese por las precondiciones menos importantes."
   ]
  }
 ],
 "metadata": {
  "celltoolbar": "Slideshow",
  "kernelspec": {
   "display_name": "Python 3",
   "language": "python",
   "name": "python3"
  },
  "language_info": {
   "codemirror_mode": {
    "name": "ipython",
    "version": 3
   },
   "file_extension": ".py",
   "mimetype": "text/x-python",
   "name": "python",
   "nbconvert_exporter": "python",
   "pygments_lexer": "ipython3",
   "version": "3.7.6"
  }
 },
 "nbformat": 4,
 "nbformat_minor": 2
}
