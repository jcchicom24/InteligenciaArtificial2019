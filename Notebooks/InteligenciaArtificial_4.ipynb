{
 "cells": [
  {
   "cell_type": "markdown",
   "metadata": {
    "slideshow": {
     "slide_type": "slide"
    }
   },
   "source": [
    "<center>\n",
    "    <h1>Inteligencia Artificial</h1>\n",
    "    <h1>Busqueda No Informada</h1>\n",
    "    <h1></h1>\n",
    "    <h5>Prof. Wladimir Rodriguez</h5>\n",
    "    <h5>wladimir.rodriguez@outlook.com</h5>\n",
    "    <h5>Departamento de Computación</h5>\n",
    "</center>"
   ]
  },
  {
   "cell_type": "markdown",
   "metadata": {
    "slideshow": {
     "slide_type": "slide"
    }
   },
   "source": [
    "# Agenda\n",
    "\n",
    "- Agente Solucionador de Tareas\n",
    "- Búsqueda en Espacio de Estados\n",
    "- Conceptos Básicos de Búsqueda\n",
    "- Algoritmo de Búsqueda No Informada (Ciega)\n",
    "- Búsqueda a lo Ancho\n",
    "- Búsqueda en Profundidad\n",
    "- Búsqueda en Profundidad Iterativa\n",
    "- Búsqueda de Costo Uniforme"
   ]
  },
  {
   "cell_type": "markdown",
   "metadata": {
    "slideshow": {
     "slide_type": "slide"
    }
   },
   "source": [
    "# Agente Solucionador de Problemas\n",
    "\n",
    "1. estado Inicial ← sensar/leer estado\n",
    "2. meta ← seleccionar/leer meta\n",
    "3. sucesor ← seleccionar/leer modelos de acción\n",
    "4. problema ← (estado inicial, meta, sucesor)\n",
    "5. solución ← búsqueda (problema)\n",
    "6. ejecutar (solución)"
   ]
  },
  {
   "cell_type": "markdown",
   "metadata": {
    "slideshow": {
     "slide_type": "slide"
    }
   },
   "source": [
    "# Búsqueda en Espacio de Estados\n",
    "\n",
    "<center><img src='../figuras/espacio_estados.png'/></center>"
   ]
  },
  {
   "cell_type": "markdown",
   "metadata": {
    "slideshow": {
     "slide_type": "slide"
    }
   },
   "source": [
    "# Conceptos Básicos de Búsqueda\n",
    "\n",
    "- Árbol de Búsqueda\n",
    "- Nodo de Búsqueda\n",
    "- Expansión de Nodos\n",
    "- **Estrategia de Búsqueda**: Permite determinar para cada paso cual nodo expandir"
   ]
  },
  {
   "cell_type": "markdown",
   "metadata": {
    "slideshow": {
     "slide_type": "slide"
    }
   },
   "source": [
    "# Diferencia entre Nodos de Búsqueda y Estados\n",
    "<br>\n",
    "<br>\n",
    "<center><img src='../figuras/espacio_estado_1.png'/></center>"
   ]
  },
  {
   "cell_type": "markdown",
   "metadata": {
    "slideshow": {
     "slide_type": "subslide"
    }
   },
   "source": [
    "<center><img src='../figuras/espacio_estado_2.png'/></center>"
   ]
  },
  {
   "cell_type": "markdown",
   "metadata": {
    "slideshow": {
     "slide_type": "subslide"
    }
   },
   "source": [
    "<center><img src='../figuras/espacio_estado_3.png'/></center>"
   ]
  },
  {
   "cell_type": "markdown",
   "metadata": {
    "slideshow": {
     "slide_type": "subslide"
    }
   },
   "source": [
    "### El árbol de búsqueda puede ser infinito, aun si el espacio de estado es finito"
   ]
  },
  {
   "cell_type": "markdown",
   "metadata": {
    "slideshow": {
     "slide_type": "slide"
    }
   },
   "source": [
    "# Algoritmo de Búsqueda\n",
    "\n",
    "- Idea Básica:\n",
    "    - Fuera del mundo real, simular una exploración del espacio de estados...\n",
    "    - ...generando sucesores de los estados ya explorados (a eso se le llama EXPANDIR estados)\n",
    "\n",
    "<center><img src='../figuras/busqueda_generalizada.png' width=\"60%\"/></center>"
   ]
  },
  {
   "cell_type": "markdown",
   "metadata": {
    "slideshow": {
     "slide_type": "slide"
    }
   },
   "source": [
    "- Un estado es una representación de una configuración física\n",
    "- Un nodo es una estructura de datos parte de un árbol de búsqueda en incluye:\n",
    "    - padres, hijos, profundidad y costo del paso\n",
    "- Los estados CARECEN de esas cosas\n",
    "- La función Expandir crea nuevos nodos, llenado varios campos y usando la función sucesor  del problema para crear esos estados"
   ]
  },
  {
   "cell_type": "markdown",
   "metadata": {
    "slideshow": {
     "slide_type": "slide"
    }
   },
   "source": [
    "# Nodo vs. estado\n",
    "<br>\n",
    "<br>\n",
    "<center><img src='../figuras/nodo_estado.png' width='70%'/></center>"
   ]
  },
  {
   "cell_type": "markdown",
   "metadata": {
    "slideshow": {
     "slide_type": "slide"
    }
   },
   "source": [
    "# Criterios de Evaluación\n",
    "\n",
    "- ¿Está garantizado encontrar una solución?\n",
    "- ¿Existen condiciones bajo las cuales la búsqueda no terminara?\n",
    "- ¿Es la solución encontrada siempre óptima?\n",
    "- ¿Qué tan eficiente es la búsqueda en términos de tiempo y uso de memoria?\n",
    "- ¿Qué características debe tener el espacio de estados para que se pueda aplicar la técnica?"
   ]
  },
  {
   "cell_type": "markdown",
   "metadata": {
    "slideshow": {
     "slide_type": "slide"
    }
   },
   "source": [
    "# Algoritmos de Búsqueda No Informados\n",
    "\n",
    "- Búsqueda a lo Ancho\n",
    "- Búsqueda en Profundidad\n",
    "- Búsqueda en Profundidad Iterativa\n",
    "- Búsqueda de Costo Uniforme"
   ]
  },
  {
   "cell_type": "markdown",
   "metadata": {
    "slideshow": {
     "slide_type": "slide"
    }
   },
   "source": [
    "# Búsqueda a lo Ancho\n",
    "\n",
    "- Expandir todos los nodos del siguiente nivel antes de proceder con niveles mas profundos.\n",
    "- Garantiza el encontrar una solución si esta existe\n",
    "- A medida que se incrementa el número de nodos sucesores, se requiere de más tiempo y memoria"
   ]
  },
  {
   "cell_type": "markdown",
   "metadata": {
    "slideshow": {
     "slide_type": "slide"
    }
   },
   "source": [
    "# Algoritmo de Búsqueda a lo Ancho\n",
    "\n",
    "- Cheque todos los nodos hijos de un nivel antes de expandir el árbol un nivel más profundo, búsqueda por nivel.\n"
   ]
  },
  {
   "cell_type": "markdown",
   "metadata": {
    "slideshow": {
     "slide_type": "subslide"
    }
   },
   "source": [
    "```python\n",
    "    seleccion = cola.append(nodo_inicial)\n",
    "    if seleccion == meta:\n",
    "        return\n",
    "    cola_append(expandir(seleccion)\n",
    "    while 1:\n",
    "        if len(cola) == 0:\n",
    "            return \"No hay solución'\n",
    "        else:\n",
    "            seleccion = cola.pop(0)\n",
    "        if seleccion == meta:\n",
    "            return\n",
    "        else:\n",
    "            cola.append(expandir(seleccion)\n",
    "```"
   ]
  },
  {
   "cell_type": "markdown",
   "metadata": {
    "slideshow": {
     "slide_type": "slide"
    }
   },
   "source": [
    "<center><img src='../figuras/busqueda_ancho.png'/></center>"
   ]
  },
  {
   "cell_type": "markdown",
   "metadata": {
    "slideshow": {
     "slide_type": "slide"
    }
   },
   "source": [
    "$Lista = A\\hspace{5 pc}$    $TamañoLista = 1\\hspace{5 pc}$    $NodosExpandidos=0$\n",
    "<br>\n",
    "<center><img src='../figuras/busqueda_ancho_1.png'/></center>"
   ]
  },
  {
   "cell_type": "markdown",
   "metadata": {
    "slideshow": {
     "slide_type": "slide"
    }
   },
   "source": [
    "$Lista = B,C,D,E,F\\hspace{1 pc}$    $TamañoLista = 5\\hspace{5 pc}$    $NodosExpandidos=1$\n",
    "<br>\n",
    "<center><img src='../figuras/busqueda_ancho_2.png'/></center>"
   ]
  },
  {
   "cell_type": "markdown",
   "metadata": {
    "slideshow": {
     "slide_type": "slide"
    }
   },
   "source": [
    "$Lista = C,D,E,F,G,H\\hspace{1 pc}$    $TamañoLista = 6\\hspace{5 pc}$    $NodosExpandidos=2$\n",
    "<center><img src='../figuras/busqueda_ancho_3.png'/></center>"
   ]
  },
  {
   "cell_type": "markdown",
   "metadata": {
    "slideshow": {
     "slide_type": "slide"
    }
   },
   "source": [
    "$Lista = D,E,F,G,H,I,J\\hspace{5 pc}$    $TamañoLista = 7\\hspace{5 pc}$    $NodosExpandidos=3$\n",
    "<br>\n",
    "<center><img src='../figuras/busqueda_ancho_4.png'/></center>"
   ]
  },
  {
   "cell_type": "markdown",
   "metadata": {
    "slideshow": {
     "slide_type": "slide"
    }
   },
   "source": [
    "$Lista = E,F,G,H,I,J,K,L\\hspace{5 pc}$    $TamañoLista = 8\\hspace{5 pc}$    $NodosExpandidos=4$\n",
    "<br>\n",
    "<center><img src='../figuras/busqueda_ancho_5.png'/></center>"
   ]
  },
  {
   "cell_type": "markdown",
   "metadata": {
    "slideshow": {
     "slide_type": "slide"
    }
   },
   "source": [
    "$Lista = F,G,H,I,J,K,L,M,N\\hspace{5 pc}$    $TamañoLista = 9\\hspace{5 pc}$    $NodosExpandidos=5$\n",
    "<br>\n",
    "<center><img src='../figuras/busqueda_ancho_6.png'/></center>"
   ]
  },
  {
   "cell_type": "markdown",
   "metadata": {
    "slideshow": {
     "slide_type": "slide"
    }
   },
   "source": [
    "$Lista = G,H,I,J,K,L,M,N,O,P\\hspace{5 pc}$    $TamañoLista = 10\\hspace{5 pc}$    $NodosExpandidos=6$\n",
    "<br>\n",
    "<center><img src='../figuras/busqueda_ancho_7.png'/></center>"
   ]
  },
  {
   "cell_type": "markdown",
   "metadata": {
    "slideshow": {
     "slide_type": "slide"
    }
   },
   "source": [
    "$Lista = H,I,J,K,L,M,N,O,P,Q\\hspace{5 pc}$    $TamañoLista = 10\\hspace{5 pc}$    $NodosExpandidos=7$\n",
    "<br>\n",
    "<center><img src='../figuras/busqueda_ancho_8.png'/></center>"
   ]
  },
  {
   "cell_type": "markdown",
   "metadata": {
    "slideshow": {
     "slide_type": "slide"
    }
   },
   "source": [
    "$Lista = I,J,K,L,M,N,O,P,Q,R\\hspace{5 pc}$    $TamañoLista = 10\\hspace{5 pc}$    $NodosExpandidos=8$\n",
    "<br>\n",
    "<center><img src='../figuras/busqueda_ancho_9.png'/></center>"
   ]
  },
  {
   "cell_type": "markdown",
   "metadata": {
    "slideshow": {
     "slide_type": "slide"
    }
   },
   "source": [
    "$Lista = J,K,L,M,N,O,P,Q,R,S\\hspace{5 pc}$    $TamañoLista = 10\\hspace{5 pc}$    $NodosExpandidos=9$\n",
    "<br>\n",
    "<center><img src='../figuras/busqueda_ancho_10.png'/></center>"
   ]
  },
  {
   "cell_type": "markdown",
   "metadata": {
    "slideshow": {
     "slide_type": "slide"
    }
   },
   "source": [
    "$Lista = K,L,M,N,O,P,Q,R,S,T\\hspace{5 pc}$    $TamañoLista = 10\\hspace{5 pc}$    $NodosExpandidos=10$\n",
    "<br>\n",
    "<center><img src='../figuras/busqueda_ancho_11.png'/></center>"
   ]
  },
  {
   "cell_type": "markdown",
   "metadata": {
    "slideshow": {
     "slide_type": "slide"
    }
   },
   "source": [
    "$Lista = L,M,N,O,P,Q,R,S,T,U\\hspace{5 pc}$    $TamañoLista = 10\\hspace{5 pc}$    $NodosExpandidos=11$\n",
    "<br>\n",
    "<center><img src='../figuras/busqueda_ancho_12.png'/></center>"
   ]
  },
  {
   "cell_type": "markdown",
   "metadata": {
    "slideshow": {
     "slide_type": "slide"
    }
   },
   "source": [
    "$Lista = \\hspace{5 pc}$    $TamañoLista = 0\\hspace{5 pc}$    $NodosExpandidos=12$\n",
    "<br>\n",
    "<center><img src='../figuras/busqueda_ancho_13.png'/></center>"
   ]
  },
  {
   "cell_type": "markdown",
   "metadata": {
    "slideshow": {
     "slide_type": "slide"
    }
   },
   "source": [
    "# Propiedades de la Búsqueda a lo Ancho\n",
    "\n",
    "- ¿Completa?\n",
    "    - Sí, mientras $b$ sea finito\n",
    "- ¿Complejidad temporal? \n",
    "    - $1 + b + b^2 + b^3 + . . . + b^d = O(b^d)$\n",
    "- ¿Complejidad espacial?\n",
    "    - $O(b^d)$  (todos los nodos en memoria)\n",
    "- ¿Óptima?                                                                              \n",
    "    - Sí (con costo unitario por paso), subóptima en general\n",
    "- FIFO"
   ]
  },
  {
   "cell_type": "markdown",
   "metadata": {
    "slideshow": {
     "slide_type": "slide"
    }
   },
   "source": [
    "# Algoritmo de Búsqueda en Profundidad\n",
    "\n",
    "- El mismo que para la búsqueda a lo ancho, excepto que los sucesores son agregados al inicio de la lista. Búsqueda en profundidad utiliza una pila (LIFO), mientras que la búsqueda a lo ancho utiliza una cola (FIFO)\n",
    "\n",
    "\n"
   ]
  },
  {
   "cell_type": "markdown",
   "metadata": {
    "slideshow": {
     "slide_type": "subslide"
    }
   },
   "source": [
    "```python\n",
    "    seleccion = pila.append(nodo_inicial)\n",
    "    if seleccion == meta:\n",
    "        return\n",
    "    pila.push(expandir(seleccion)\n",
    "    while 1:\n",
    "        if len(pila) == 0:\n",
    "            return \"No hay solución'\n",
    "        else:\n",
    "            seleccion = pila.pop()\n",
    "        if seleccion == meta:\n",
    "            return\n",
    "        else:\n",
    "            pila.push(expandir(seleccion)       \n",
    "```"
   ]
  },
  {
   "cell_type": "markdown",
   "metadata": {
    "slideshow": {
     "slide_type": "subslide"
    }
   },
   "source": [
    "<center><img src='../figuras/busqueda_ancho.png'/></center>"
   ]
  },
  {
   "cell_type": "markdown",
   "metadata": {
    "slideshow": {
     "slide_type": "subslide"
    }
   },
   "source": [
    "$Pila = A\\hspace{5 pc}$    $TamañoPila = 1\\hspace{5 pc}$    $NodosExpandidos=0$\n",
    "<br>\n",
    "<center><img src='../figuras/busqueda_ancho_1.png'/></center>"
   ]
  },
  {
   "cell_type": "markdown",
   "metadata": {
    "slideshow": {
     "slide_type": "subslide"
    }
   },
   "source": [
    "$Pila = B,C,D,E,F\\hspace{1 pc}$    $TamañoPila = 5\\hspace{5 pc}$    $NodosExpandidos=1$\n",
    "<br>\n",
    "<center><img src='../figuras/busqueda_ancho_2.png'/></center>"
   ]
  },
  {
   "cell_type": "markdown",
   "metadata": {
    "slideshow": {
     "slide_type": "subslide"
    }
   },
   "source": [
    "$Pila = G,H,C,D,E,F\\hspace{1 pc}$    $TamañoPila = 6\\hspace{5 pc}$    $NodosExpandidos=2$\n",
    "<center><img src='../figuras/busqueda_ancho_3.png'/></center>"
   ]
  },
  {
   "cell_type": "markdown",
   "metadata": {
    "slideshow": {
     "slide_type": "subslide"
    }
   },
   "source": [
    "$Pila = Q,H,C,D,E,F\\hspace{1 pc}$    $TamañoPila = 6\\hspace{5 pc}$    $NodosExpandidos=3$\n",
    "<center><img src='../figuras/busqueda_profundidad_4.png'/></center>"
   ]
  },
  {
   "cell_type": "markdown",
   "metadata": {
    "slideshow": {
     "slide_type": "subslide"
    }
   },
   "source": [
    "$Pila = H,C,D,E,F\\hspace{1 pc}$    $TamañoPila = 5\\hspace{5 pc}$    $NodosExpandidos=4$\n",
    "<center><img src='../figuras/busqueda_profundidad_5.png'/></center>"
   ]
  },
  {
   "cell_type": "markdown",
   "metadata": {
    "slideshow": {
     "slide_type": "subslide"
    }
   },
   "source": [
    "$Pila = R,C,D,E,F\\hspace{1 pc}$    $TamañoPila = 5\\hspace{5 pc}$    $NodosExpandidos=5$\n",
    "<center><img src='../figuras/busqueda_profundidad_6.png'/></center>"
   ]
  },
  {
   "cell_type": "markdown",
   "metadata": {
    "slideshow": {
     "slide_type": "subslide"
    }
   },
   "source": [
    "$Pila = C,D,E,F\\hspace{1 pc}$    $TamañoPila = 4\\hspace{5 pc}$    $NodosExpandidos=6$\n",
    "<center><img src='../figuras/busqueda_profundidad_7.png'/></center>"
   ]
  },
  {
   "cell_type": "markdown",
   "metadata": {
    "slideshow": {
     "slide_type": "subslide"
    }
   },
   "source": [
    "$Pila = I,J,D,E,F\\hspace{1 pc}$    $TamañoPila = 5\\hspace{5 pc}$    $NodosExpandidos=7$\n",
    "<center><img src='../figuras/busqueda_profundidad_8.png'/></center>"
   ]
  },
  {
   "cell_type": "markdown",
   "metadata": {
    "slideshow": {
     "slide_type": "subslide"
    }
   },
   "source": [
    "$Pila = S,J,D,E,F\\hspace{1 pc}$    $TamañoPila = 5\\hspace{5 pc}$    $NodosExpandidos=8$\n",
    "<center><img src='../figuras/busqueda_profundidad_9.png'/></center>"
   ]
  },
  {
   "cell_type": "markdown",
   "metadata": {
    "slideshow": {
     "slide_type": "subslide"
    }
   },
   "source": [
    "$Pila = J,D,E,F\\hspace{1 pc}$    $TamañoPila= 4\\hspace{5 pc}$    $NodosExpandidos=9$\n",
    "<center><img src='../figuras/busqueda_profundidad_10.png'/></center>"
   ]
  },
  {
   "cell_type": "markdown",
   "metadata": {
    "slideshow": {
     "slide_type": "subslide"
    }
   },
   "source": [
    "$Pila = T,D,E,F\\hspace{1 pc}$    $TamañoPila = 4\\hspace{5 pc}$    $NodosExpandidos=10$\n",
    "<center><img src='../figuras/busqueda_profundidad_11.png'/></center>"
   ]
  },
  {
   "cell_type": "markdown",
   "metadata": {
    "slideshow": {
     "slide_type": "subslide"
    }
   },
   "source": [
    "$Pila = D,E,F\\hspace{1 pc}$    $TamañoPila = 3\\hspace{5 pc}$    $NodosExpandidos=11$\n",
    "<center><img src='../figuras/busqueda_profundidad_12.png'/></center>"
   ]
  },
  {
   "cell_type": "markdown",
   "metadata": {
    "slideshow": {
     "slide_type": "subslide"
    }
   },
   "source": [
    "$Pila = K,L,E,F\\hspace{1 pc}$    $TamañoPila = 4\\hspace{5 pc}$    $NodosExpandidos=12$\n",
    "<center><img src='../figuras/busqueda_profundidad_13.png'/></center>"
   ]
  },
  {
   "cell_type": "markdown",
   "metadata": {
    "slideshow": {
     "slide_type": "subslide"
    }
   },
   "source": [
    "$Pila = U,L,E,F\\hspace{1 pc}$    $TamañoPila = 4\\hspace{5 pc}$    $NodosExpandidos=13$\n",
    "<center><img src='../figuras/busqueda_profundidad_14.png'/></center>"
   ]
  },
  {
   "cell_type": "markdown",
   "metadata": {
    "slideshow": {
     "slide_type": "subslide"
    }
   },
   "source": [
    "$Pila = L,E,F\\hspace{1 pc}$    $TamañoPila = 3\\hspace{5 pc}$    $NodosExpandidos=14$\n",
    "<center><img src='../figuras/busqueda_profundidad_15.png'/></center>"
   ]
  },
  {
   "cell_type": "markdown",
   "metadata": {
    "slideshow": {
     "slide_type": "subslide"
    }
   },
   "source": [
    "$Pila = \\phi\\hspace{1 pc}$    $TamañoPila = 0\\hspace{5 pc}$    $NodosExpandidos=15$\n",
    "<center><img src='../figuras/busqueda_profundidad_16.png'/></center>"
   ]
  },
  {
   "cell_type": "markdown",
   "metadata": {
    "slideshow": {
     "slide_type": "slide"
    }
   },
   "source": [
    "# Propiedades de la Búsqueda en Profundidad\n",
    "\n",
    "- ¿Completa?\n",
    "    - No; falla en espacio de infinita profundidad o con lazos\n",
    "- ¿Complejidad temporal?\n",
    "    - $O(b^m)$: terrible si $m$ es mucho mayor que $d$\n",
    "- ¿Complejidad espacial?\n",
    "    - $O(bm)$  (i.e., espacio lineal)\n",
    "- ¿Óptima?\n",
    "    - No\n",
    "- LIFO"
   ]
  },
  {
   "cell_type": "markdown",
   "metadata": {
    "slideshow": {
     "slide_type": "slide"
    }
   },
   "source": [
    "# Búsqueda en Profundidad Iterativa\n",
    "\n",
    "- Combina aspectos de la búsqueda a lo ancho y en profundidad.\n",
    "- Conduce búsqueda en profundidad dentro de una profundidad limitada, donde la profundidad se incremente iterativamente\n",
    "- Es óptima y garantiza el encontrar la solución al igual que la búsqueda a lo ancho pero con requerimientos menores de memoria.\n",
    "- Los nodos pueden ser expandidos muchas veces al incrementar el límite de profundidad."
   ]
  },
  {
   "cell_type": "markdown",
   "metadata": {
    "slideshow": {
     "slide_type": "subslide"
    }
   },
   "source": [
    "<center><img src='../figuras/busqueda_profundidad_iterativa.png' width='60%'/></center>"
   ]
  },
  {
   "cell_type": "markdown",
   "metadata": {
    "slideshow": {
     "slide_type": "slide"
    }
   },
   "source": [
    "# Propiedades de la Búsqueda en Profundidad Iterativa\n",
    "\n",
    "- ¿Completa?\n",
    "    - Sí\n",
    "- ¿Complejidad temporal?\n",
    "    - $O(b^d)$\n",
    "- ¿Complejidad espacial?\n",
    "    - $O(b^d)$  (todos los nodos en memoria)\n",
    "- ¿Óptima?\n",
    "    - Si, mientras el costo de cada paso sea unitario\u000b"
   ]
  },
  {
   "cell_type": "markdown",
   "metadata": {
    "slideshow": {
     "slide_type": "slide"
    }
   },
   "source": [
    "# Búsqueda de Costo Uniforme\n",
    "\n",
    "- Variación de a lo ancho para CAMINO MAS BARATO\n",
    "- Cada cambio de estado tiene asociado un COSTO\n",
    "- Garantiza encontrar la solución de costo menor siempre y cuando el costo nunca disminuya a lo largo del camino\n",
    "- Siempre se expande el nodo de menor costo"
   ]
  },
  {
   "cell_type": "markdown",
   "metadata": {
    "slideshow": {
     "slide_type": "slide"
    }
   },
   "source": [
    "# Búsqueda de Costo Uniforme\n",
    "<br>\n",
    "<center><img src='../figuras/costo_uniforme.png' width='70%'/></center>"
   ]
  },
  {
   "cell_type": "markdown",
   "metadata": {
    "slideshow": {
     "slide_type": "subslide"
    }
   },
   "source": [
    "$Cola = I\\hspace{5 pc}$    $TamañoCola = 1\\hspace{5 pc}$    $NodosExpandidos=0$\n",
    "<br>\n",
    "<center><img src='../figuras/costo_uniforme_1.png' width='70%'/></center>"
   ]
  },
  {
   "cell_type": "markdown",
   "metadata": {
    "slideshow": {
     "slide_type": "subslide"
    }
   },
   "source": [
    "$Cola = {A:1},{B:5},{C:15}\\hspace{5 pc}$    $TamañoCola = 1\\hspace{5 pc}$    $NodosExpandidos=1$\n",
    "<br>\n",
    "<center><img src='../figuras/costo_uniforme_2.png' width='70%''/></center>"
   ]
  },
  {
   "cell_type": "markdown",
   "metadata": {
    "slideshow": {
     "slide_type": "subslide"
    }
   },
   "source": [
    "$Cola = {B:5},{M:11},{C:15}\\hspace{5 pc}$    $TamañoCola = 3\\hspace{5 pc}$    $NodosExpandidos=2$\n",
    "<br>\n",
    "<center><img src='../figuras/costo_uniforme_3.png' width='70%'/></center>"
   ]
  },
  {
   "cell_type": "markdown",
   "metadata": {
    "slideshow": {
     "slide_type": "subslide"
    }
   },
   "source": [
    "$Cola = {M:10},{M:11},{C:15}\\hspace{5 pc}$    $TamañoCola = 3\\hspace{5 pc}$    $NodosExpandidos=3$\n",
    "<br>\n",
    "<center><img src='../figuras/costo_uniforme_4.png' width='70%'/></center>"
   ]
  },
  {
   "cell_type": "markdown",
   "metadata": {
    "slideshow": {
     "slide_type": "subslide"
    }
   },
   "source": [
    "$Cola = \\phi\\hspace{5 pc}$    $TamañoCola = 0\\hspace{5 pc}$    $NodosExpandidos=4$\n",
    "<br>\n",
    "<center><img src='../figuras/costo_uniforme_5.png' width='70%'/></center>"
   ]
  },
  {
   "cell_type": "markdown",
   "metadata": {
    "slideshow": {
     "slide_type": "slide"
    }
   },
   "source": [
    "# Propiedades de la Búsqueda de Costo Uniforme\n",
    "\n",
    "- ¿Completa?\n",
    "    - Sí,  mientras $b$ sea finita\n",
    "- ¿Complejidad temporal?\n",
    "    - Número de nodos con $g(n) ≤ costo$ de la solución óptima\n",
    "- ¿Complejidad espacial?\n",
    "    - Número de nodos con $g(n) ≤  costo$ de la solución óptima\n",
    "- ¿Óptima?\n",
    "    - Sí, mientras el costo de ruta no disminuya siguiendo cualquier ruta o sea que $g(Successor(n)) ≥  g(n)$,  para todo $n$"
   ]
  },
  {
   "cell_type": "markdown",
   "metadata": {
    "slideshow": {
     "slide_type": "slide"
    }
   },
   "source": [
    "# Búsqueda Bidireccional\n",
    "<br>\n",
    "<center><img src='../figuras/busqueda_bidireccional.png'/></center>"
   ]
  },
  {
   "cell_type": "markdown",
   "metadata": {
    "slideshow": {
     "slide_type": "slide"
    }
   },
   "source": [
    "# Problemas con estados repetidos\n",
    "\n",
    "- La búsqueda en árbol ignora lo que sucede si los nodos se visitan repetidamente: \n",
    "    - por ejemplo, si las acciones conducen a estados ya visitados\n",
    "    - Considere la planificación de rutas en una cuadrícula\n",
    "- Los estados repetidos pueden conducir a una sobrecarga grande (exponencial)\n"
   ]
  },
  {
   "cell_type": "markdown",
   "metadata": {
    "slideshow": {
     "slide_type": "subslide"
    }
   },
   "source": [
    "<center><img src='../figuras/ribbon+grid.png'/></center>\n",
    "\n",
    "- (a) Espacio de estado con $d + 1$ estados, donde $d$ es la profundidad\n",
    "- (b) El árbol de búsqueda correspondiente que tiene nodos $2^d$ correspondiente a los dos posibles caminos!\n",
    "- (c) Posibles caminos que conducen a $A$"
   ]
  },
  {
   "cell_type": "markdown",
   "metadata": {
    "slideshow": {
     "slide_type": "slide"
    }
   },
   "source": [
    "# Resumen\n",
    "\n",
    "- Arbol de Búsqueda $\\ne$ Espacio de Estados\n",
    "- Estrategias de Búsqueda: A lo Ancho, En Profundidad y variantes\n",
    "- Evaluación de las Estrategias: Completitud, optimalidad, complejidad espacial y temporal\n",
    "- Evitar estados repetido"
   ]
  },
  {
   "cell_type": "markdown",
   "metadata": {
    "slideshow": {
     "slide_type": "slide"
    }
   },
   "source": [
    "# Ejercicios de Búsqueda Ciega\n",
    "\n",
    "- Para los siguientes grafo indique en que orden visitaran los nodos el algoritmo de **búsqueda en profundidad** y el algoritmo de **búsqueda a lo ancho** \n",
    "\n",
    "![](../figuras/grafo_ejercicio_busqueda.png)"
   ]
  },
  {
   "cell_type": "markdown",
   "metadata": {},
   "source": [
    "![](../figuras/grafo_ejercicio_busqueda_2.png)"
   ]
  },
  {
   "cell_type": "markdown",
   "metadata": {},
   "source": [
    "# Ejercicio Búsqueda de Costo Uniforme\n",
    "\n",
    "![](../figuras/grafo_costo_unitario.png)"
   ]
  },
  {
   "cell_type": "markdown",
   "metadata": {},
   "source": [
    "![](../figuras/grafo_costo_unitario_2.png)"
   ]
  }
 ],
 "metadata": {
  "celltoolbar": "Slideshow",
  "kernelspec": {
   "display_name": "Python 3",
   "language": "python",
   "name": "python3"
  },
  "language_info": {
   "codemirror_mode": {
    "name": "ipython",
    "version": 3
   },
   "file_extension": ".py",
   "mimetype": "text/x-python",
   "name": "python",
   "nbconvert_exporter": "python",
   "pygments_lexer": "ipython3",
   "version": "3.7.4"
  }
 },
 "nbformat": 4,
 "nbformat_minor": 2
}
