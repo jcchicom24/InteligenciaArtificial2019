{
 "cells": [
  {
   "cell_type": "markdown",
   "metadata": {
    "slideshow": {
     "slide_type": "slide"
    }
   },
   "source": [
    "<center>\n",
    "    <h1>Inteligencia Artificial</h1>\n",
    "    <h1>Búsqueda Informada ó Heurística</h1>\n",
    "    <h1></h1>\n",
    "    <h5>Prof. Wladimir Rodriguez</h5>\n",
    "    <h5>wladimir.rodriguez@outlook.com</h5>\n",
    "    <h5>Departamento de Computación</h5>\n",
    "</center>"
   ]
  },
  {
   "cell_type": "markdown",
   "metadata": {
    "slideshow": {
     "slide_type": "slide"
    }
   },
   "source": [
    "# Búsqueda Informada ó Heurística\n",
    "\n",
    "- Usan algún método para controlar o guiar la búsqueda\n",
    "- ¿Para que son utilizadas las heurísticas?\n",
    "    - Para ordenar la búsqueda (búsqueda plausible) ver primero los nodos mas prometedores\n",
    "    - Para controlar el ancho de la búsqueda probar más en profundidad que a lo ancho\n",
    "- Tipos de Heurística:\n",
    "    - Dirigidas por las metas conociendo que es lo que se quiere alcanzar\n"
   ]
  },
  {
   "cell_type": "markdown",
   "metadata": {
    "slideshow": {
     "slide_type": "slide"
    }
   },
   "source": [
    "# Heureka! ---Arquímedes\n",
    "\n",
    "- \"Una regla de oro, simplificación o conjetura educada que reduce o limita la búsqueda de soluciones en dominios que son difíciles y poco conocidos\".\n",
    "- El conocimiento heurístico es útil, pero no necesariamente correcto.\n",
    "- Los algoritmos heurísticos utilizan el conocimiento heurístico para resolver un problema.\n",
    "- Una función heurística $h(n)$ toma un estado $n$ y devuelve una estimación de la distancia desde $n$ hasta la meta."
   ]
  },
  {
   "cell_type": "markdown",
   "metadata": {
    "slideshow": {
     "slide_type": "slide"
    }
   },
   "source": [
    "# Búsqueda el Mejor Primero\n",
    "\n",
    "- Selecciona de la lista de nodos para su expansión el “mejor nodo”\n",
    "- Requiere de una función de evaluación f la cual determinara numéricamente que tan “bueno” es un nodo dado. (asumir que valores mayores de f indican un mejor nodo).\n",
    "- Garantía de encontrar una solución debido a que todos los nodos sucesores de un nodo son agregados tal como en la búsqueda a lo ancho. Sin embargo, no garantiza una respuesta óptima a menos que la función de evaluación sea escogida correctamente."
   ]
  },
  {
   "cell_type": "markdown",
   "metadata": {
    "slideshow": {
     "slide_type": "subslide"
    }
   },
   "source": [
    "- También conocida como búsqueda avara, cuando $f(n)$ es una función heurística $h(n)$ usada para estimar el costo para alcanzar la meta desde el nodo actual. Mientras que $f$ no es necesariamente dirigida a la meta, $h$ si lo es.\n",
    "- Para el 8-puzzle, $f(n)$ podría ser el número de piezas en la posición correcta. A mayor número de piezas correctas en algún estado, mejor será el nodo que representa ese estado.\n",
    "- También podría ser la distancia “manhattan” para que todas las piezas estén en la posición correcta."
   ]
  },
  {
   "cell_type": "markdown",
   "metadata": {
    "slideshow": {
     "slide_type": "subslide"
    }
   },
   "source": [
    "<center><img src='../figuras/8puzzle.png'/></center>"
   ]
  },
  {
   "cell_type": "markdown",
   "metadata": {
    "slideshow": {
     "slide_type": "subslide"
    }
   },
   "source": [
    "- Mejoras:\n",
    "    - Computar $f$ para cada sucesor en el momento de la expansión, y almacenarlo con el nodo. Esto significa que $f$ es computada solamente una vez por nodo.\n",
    "    - Ordenar la lista para agregar los sucesores en la posición adecuada. Esto implica no tener que seleccionar el mínimo cada vez."
   ]
  },
  {
   "cell_type": "markdown",
   "metadata": {
    "slideshow": {
     "slide_type": "slide"
    }
   },
   "source": [
    "# Ejemplo"
   ]
  },
  {
   "cell_type": "markdown",
   "metadata": {
    "slideshow": {
     "slide_type": "subslide"
    }
   },
   "source": [
    "![](../figuras/busqueda_avara.png)"
   ]
  },
  {
   "cell_type": "markdown",
   "metadata": {
    "slideshow": {
     "slide_type": "subslide"
    }
   },
   "source": [
    "![](../figuras/greedy-progress.png)"
   ]
  },
  {
   "cell_type": "markdown",
   "metadata": {
    "slideshow": {
     "slide_type": "slide"
    }
   },
   "source": [
    "# Búsqueda Avara\n",
    "\n",
    "- Es una búsqueda “mejor el primero” con $f(nodo)=h(nodo)$. \n",
    "    - Función heurística $(h)$\n",
    "- $h(nodo)$ = coste estimado del camino más corto desde un nodo hasta el objetivo.\n",
    "- Todas las funciones heurísticas deben cumplir al menos: \n",
    "    - $h(n)\\geq0$, para todo nodo n\n",
    "    - $h(n)=0$, si “n” es un nodo objetivo"
   ]
  },
  {
   "cell_type": "markdown",
   "metadata": {
    "slideshow": {
     "slide_type": "slide"
    }
   },
   "source": [
    "# Navegación del Robot\n",
    "\n",
    "\n",
    "\n",
    "![](../figuras/navegacion_robot_1.png)"
   ]
  },
  {
   "cell_type": "markdown",
   "metadata": {
    "slideshow": {
     "slide_type": "subslide"
    }
   },
   "source": [
    "# $$f(N) = h(N), \\text{con } h(N) = \\text{distancia Manhattan a la meta}$$\n",
    "\n",
    "![](../figuras/navegacion_robot_2.png)"
   ]
  },
  {
   "cell_type": "markdown",
   "metadata": {
    "slideshow": {
     "slide_type": "subslide"
    }
   },
   "source": [
    "![](../figuras/navegacion_robot_3.png)"
   ]
  },
  {
   "cell_type": "markdown",
   "metadata": {},
   "source": [
    "# Propiedades Búsqueda Avara\n",
    "\n",
    "- ¿Completa?\n",
    "    - No, puede quedar atrapado en bucles \n",
    "- ¿Complejidad temporal? \n",
    "    - $O(b^d)$ En el peor de los casos (Como búsqueda a lo ancho)\n",
    "- ¿Complejidad espacial?\n",
    "    - $O(b^d)$  cola de prioridad, en el peor de los casos: mantiene todos los nodos (no expandidos) en la memoria\n",
    "- ¿Óptima?                                                                              \n",
    "    - No"
   ]
  },
  {
   "cell_type": "markdown",
   "metadata": {
    "slideshow": {
     "slide_type": "slide"
    }
   },
   "source": [
    "# Búsqueda más Informada\n",
    "\n",
    "- La meta no es minimizar la distancia desde el último nodo en el camino hasta la meta, lo que queremos es minimizar el largo global del camino a la meta. \n",
    "- Dado $g(N)$ como el costo del mejor camino encontrado hasta el momento entre el nodo inicial y $N$\n",
    " $$f(N) = g(N) + h(N)$$"
   ]
  },
  {
   "cell_type": "markdown",
   "metadata": {
    "slideshow": {
     "slide_type": "subslide"
    }
   },
   "source": [
    "![](../figuras/navegacion_robot_4.png)"
   ]
  },
  {
   "cell_type": "markdown",
   "metadata": {
    "slideshow": {
     "slide_type": "slide"
    }
   },
   "source": [
    "# BUSQUEDA A*\n",
    "\n",
    "- Búsqueda óptima para solución óptima\n",
    "- Parecida a el mejor primero, con:\n",
    "$$f(n) = g(n) + h(n)$$\n",
    "- donde:\n",
    "$$g(n) = \\text{costo mínimo del camino desde el nodo inicial al nodo }n$$\n",
    "$$f(n) = \\text{costo mínimo estimado desde el nodo }n \\text{ al nodo meta}$$\n"
   ]
  },
  {
   "cell_type": "markdown",
   "metadata": {
    "slideshow": {
     "slide_type": "subslide"
    }
   },
   "source": [
    "![](../figuras/a_estrella.png)\n",
    "- $f, g, h$ son aproximaciones a los verdaderos valores de $f^*, g^*, h^*$, respectivamente.\n",
    "\n",
    "- Requiere conocer el costo de cada uno de los movimientos, tal como en el costo uniforme, para calcular g.\n",
    "\n",
    "- Requiere de una función de evaluación heurística para juzgar que tan difícil es llegar desde el nodo actual al nodo final."
   ]
  },
  {
   "cell_type": "markdown",
   "metadata": {
    "slideshow": {
     "slide_type": "slide"
    }
   },
   "source": [
    "# Notas sobre $g$\n",
    "\n",
    "- $g$ se calcula a partir del costo actual del camino recorrido hasta ese momento.\n",
    "- $g$ se conoce exactamente mediante la suma de todos costo del camino desde el inicip hasta el nodo actual (como en el costo uniforme)\n",
    "- Si el espacio de búsqueda es un árbol, $g = g^*$, debido a que solo hay un camino desde el nodo inicial al nodo actual.\n",
    "- En general, el espacio de búsqueda será un grafo. En este caso, $g \\geq g^*$, esto es, $g$ nunca puede ser menor que el costo del camino óptimo. Solo puede sobreestimar el costo.\n",
    "- $g$ puede ser = $g^*$ en un grafo si es escogida apropiadamente."
   ]
  },
  {
   "cell_type": "markdown",
   "metadata": {
    "slideshow": {
     "slide_type": "slide"
    }
   },
   "source": [
    "# Notas sobre $h$\n",
    "\n",
    "- $h$ es una información heurística que representa una aproximación a que tan difícil es llegar desde el nodo actual hasta el nodo meta.\n",
    "- Para que el algoritmo $A^*$ encuentre la solución de costo mínimo:\n",
    "    - $h(n) \\text{ debe ser } \\geq 0$.\n",
    "    - $h(n) \\text{ debe ser } \\geq h^*(n)$, esto es, $h$ nunca debe sobreestimar el costo actual para alcanzar la meta desde el nodo actual.\n",
    "- Esto es conocido como la CONDICION DE ADSIBILIDAD.\n",
    "- (Si un algoritmo garantiza encontrar un camino solución de costo mínimo (si existe), entonces el es ADMISIBLE.)"
   ]
  },
  {
   "cell_type": "markdown",
   "metadata": {
    "slideshow": {
     "slide_type": "subslide"
    }
   },
   "source": [
    "- Si $h = h^*$ (heurística perfecta), nunca se expandirán nodos innecesarios.\n",
    "- Si $h = 0$, entonces $A^*$ se reduce al algoritmo de búsqueda ciega de costo uniforme.\n",
    "- Meta: hacer $h$ tan cercana como sea posible a $h^*$ sin sobreestimar $h$.\n",
    "    - Si $h^* \\geq h_1(n) > h_2(n)$,\n",
    "    - $h_1$  es más “informada” que $h_2$.\n",
    "- La condición de admisibilidad podría ser relajada para lograr mayor eficiencia, pero aunque se encontrará una solución esta puede ser no óptima."
   ]
  },
  {
   "cell_type": "markdown",
   "metadata": {
    "slideshow": {
     "slide_type": "slide"
    }
   },
   "source": [
    "# Ejemplo A*\n",
    "\n",
    "- Usar la menor distancia Euclidiana en línea recta como heurística para $h$ (admisible).\n",
    "\n",
    "![](../figuras/distancia_linea_recta.png)"
   ]
  },
  {
   "cell_type": "markdown",
   "metadata": {
    "slideshow": {
     "slide_type": "subslide"
    }
   },
   "source": [
    "![](../figuras/astar-progress.png)"
   ]
  },
  {
   "cell_type": "markdown",
   "metadata": {},
   "source": [
    "![](../figuras/ruta_optima.png)"
   ]
  },
  {
   "cell_type": "markdown",
   "metadata": {
    "slideshow": {
     "slide_type": "subslide"
    }
   },
   "source": [
    "Mapa de Rumania mostrando los contornos a $f  = 380, f = 400 \\text{ y } f = 420$, con Arad como estado inicial. Nota: Nodos dentro de un contorno dado tienen costos de  $f$  menor que el valor del contorno.\n",
    "![](../figuras/contornos_mapa_rumania.png)"
   ]
  },
  {
   "cell_type": "markdown",
   "metadata": {
    "slideshow": {
     "slide_type": "slide"
    }
   },
   "source": [
    "# Ejercicios $A^*$\n",
    "\n",
    "![](../figuras/ejercicio_a_estrella.png)"
   ]
  },
  {
   "cell_type": "markdown",
   "metadata": {
    "slideshow": {
     "slide_type": "slide"
    }
   },
   "source": [
    "![](../figuras/ejercicio_a_estrella_2.png)"
   ]
  }
 ],
 "metadata": {
  "celltoolbar": "Slideshow",
  "kernelspec": {
   "display_name": "Python 3",
   "language": "python",
   "name": "python3"
  },
  "language_info": {
   "codemirror_mode": {
    "name": "ipython",
    "version": 3
   },
   "file_extension": ".py",
   "mimetype": "text/x-python",
   "name": "python",
   "nbconvert_exporter": "python",
   "pygments_lexer": "ipython3",
   "version": "3.7.6"
  }
 },
 "nbformat": 4,
 "nbformat_minor": 2
}
