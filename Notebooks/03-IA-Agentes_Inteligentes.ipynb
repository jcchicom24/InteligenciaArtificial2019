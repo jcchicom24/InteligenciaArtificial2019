{
 "cells": [
  {
   "cell_type": "markdown",
   "metadata": {
    "slideshow": {
     "slide_type": "slide"
    }
   },
   "source": [
    "<center>\n",
    "    <h1>Inteligencia Artificial</h1>\n",
    "    <h1>Agentes Inteligentes</h1>\n",
    "    <h1></h1>\n",
    "    <h5>Prof. Wladimir Rodriguez</h5>\n",
    "    <h5>wladimir.rodriguez@outlook.com</h5>\n",
    "    <h5>Departamento de Computación</h5>\n",
    "</center>"
   ]
  },
  {
   "cell_type": "markdown",
   "metadata": {
    "slideshow": {
     "slide_type": "slide"
    }
   },
   "source": [
    "# Agenda\n",
    "\n",
    "- Introducción\n",
    "- ¿Qué es un Agente Inteligente?\n",
    "- Estructura de los Agentes Inteligentes\n",
    "    - Agentes de Reflejo Simple\n",
    "    - Agentes Bien Informados\n",
    "    - Agentes Basados en Metas\n",
    "    - Agentes Basados en Utilidad\n",
    "- Ambientes"
   ]
  },
  {
   "cell_type": "markdown",
   "metadata": {
    "slideshow": {
     "slide_type": "slide"
    }
   },
   "source": [
    "# Agente Inteligente\n",
    "\n",
    "<center>\n",
    "<img src='../figuras/agente_inteligente.png' width='75%'/>\n",
    "</center>    "
   ]
  },
  {
   "cell_type": "markdown",
   "metadata": {
    "slideshow": {
     "slide_type": "slide"
    }
   },
   "source": [
    "# Agente Humano\n",
    "\n",
    "- Sensores: Ojos (visión), orejas (oído), piel (tacto), lengua (gusto), nariz (olfato), sistema neuromuscular (propriocepción)\n",
    "- Percepciones: \n",
    "    - Al más bajo nivel – señales eléctricas\n",
    "    - Después del preprocesamiento – objetos en el campo visual (posición, texturas, colores, …), flujos auditivos (tono, volumen, dirección),\n",
    "- Eféctores: Brazos, dedos, ojos, lengua, ...\n",
    "- Acciones: alzar el brazo, voltear, caminar, ..."
   ]
  },
  {
   "cell_type": "markdown",
   "metadata": {
    "slideshow": {
     "slide_type": "slide"
    }
   },
   "source": [
    "# Introducción\n",
    "\n",
    "<center><img src='../figuras/agente.png/'></center>"
   ]
  },
  {
   "cell_type": "markdown",
   "metadata": {
    "slideshow": {
     "slide_type": "slide"
    }
   },
   "source": [
    "# Ambiente Aspiradora\n",
    "\n",
    "- **Percepciones**: Localización y contenido, por ejemplo [A, Sucio]\n",
    "- **Acciones**: Izquierda, Derecha, Aspirar, Hacer_Nada\n",
    "\n",
    "<center><img src='../figuras/aspiradora.png'/></center>"
   ]
  },
  {
   "cell_type": "markdown",
   "metadata": {
    "slideshow": {
     "slide_type": "slide"
    }
   },
   "source": [
    "# Agente Aspiradora\n",
    "\n",
    "<center><img src='../figuras/agente_aspiradora.png' /><center>"
   ]
  },
  {
   "cell_type": "markdown",
   "metadata": {
    "slideshow": {
     "slide_type": "slide"
    }
   },
   "source": [
    "# ¿Qué tan bueno es un Agente?\n",
    "\n",
    "- Se necesita una medida de desempeño:\n",
    "    - Objetiva / Subjetiva\n",
    "    - Cuantitativa / Cualitativa\n",
    "    - Tiempo de Evaluación (durante o después)\n",
    "    - Mejor / Peor / Promedio\n",
    "- La racionalidad de un agente depende de:\n",
    "    - Rendimiento\n",
    "    - Percepciones recibidas\n",
    "    - Conocimiento interno del agente"
   ]
  },
  {
   "cell_type": "markdown",
   "metadata": {
    "slideshow": {
     "slide_type": "subslide"
    }
   },
   "source": [
    "- Un agente racional ideal:\n",
    "    - Para todos los casos de posibles secuencias de percepciones, un agente racional deberá emprender todas aquellas acciones que favorezcan obtener el máximo de su medida de rendimiento, basandose en las evidencias aportadas por la secuencia de percepciones y en todo el conocimiento incorporado en tal agente"
   ]
  },
  {
   "cell_type": "markdown",
   "metadata": {
    "slideshow": {
     "slide_type": "slide"
    }
   },
   "source": [
    "# Mapeo Percepciones/Acciones\n",
    "\n",
    "- Un mapeo especifica la acción que un agente debe tomar en respuesta a una secuencia de percepciones.\n",
    "    - Puede ser en forma de tabla\n",
    "        - Planes universales\n",
    "        - Casos (indexados)\n",
    "    - Pueden ser en forma de funciones\n",
    "        - Comportamiento estimulo / respuesta\n",
    "        - Algoritmos de varios tipos."
   ]
  },
  {
   "cell_type": "markdown",
   "metadata": {
    "slideshow": {
     "slide_type": "slide"
    }
   },
   "source": [
    "# Tipos de Agentes\n",
    "\n",
    "<center><img src='../figuras/tipo_agente.png'/></center>"
   ]
  },
  {
   "cell_type": "markdown",
   "metadata": {
    "slideshow": {
     "slide_type": "slide"
    }
   },
   "source": [
    "# Ambiente\n",
    "\n",
    "- Totalmente observable vs. parcialmente observable\n",
    "    - Sensores detectan toda la información\n",
    "- Determinista vs. estocástico\n",
    "    - El siguiente estado depende sólo del anterior y de la acción actual\n",
    "- Episódico vs. secuencial\n",
    "    - Existen episodios con percepciones y acciones"
   ]
  },
  {
   "cell_type": "markdown",
   "metadata": {
    "slideshow": {
     "slide_type": "subslide"
    }
   },
   "source": [
    "- Estático vs dinámico\n",
    "    - El ambiente no cambia mientras el agente delibera\n",
    "- Discreto vs continuo\n",
    "    - Existe un número limitado de percepciones y acciones\n",
    "- Agente individual vs. multiagente"
   ]
  },
  {
   "cell_type": "markdown",
   "metadata": {
    "slideshow": {
     "slide_type": "slide"
    }
   },
   "source": [
    "# Características de los Ambientes\n",
    "\n",
    "<center><img src='../figuras/caracteristicas_ambiente.png'/></center>"
   ]
  },
  {
   "cell_type": "markdown",
   "metadata": {
    "slideshow": {
     "slide_type": "slide"
    }
   },
   "source": [
    "# ¿Qué es un Agente Inteligente?\n",
    "\n",
    "- Un agente inteligente es cualquier cosa que pueda\n",
    "    - percibir un mundo perceptual en que esté anidado (“ambiente”) mediante SENSORES y \n",
    "    - actuar sobre ese mundo mediante EFECTORES (o  actuadores)\n",
    "        - sinónimo de ambiente es “espacio de problema”\n",
    "        - sinónimo de agente inteligente es “operador que transforma un input en output dentro del espacio de problema”"
   ]
  },
  {
   "cell_type": "markdown",
   "metadata": {
    "slideshow": {
     "slide_type": "subslide"
    }
   },
   "source": [
    "- META de la Inteligencia Artificial $\\Rightarrow$ Diseñar un agente inteligente/racional que opere o actúe adecuadamente en sus ambientes.\n",
    "    - Discusión sobre “adecuadamente”\n",
    "        - Fijar alguna medida del buen éxito\n",
    "        - Tener en cuenta el PRL  Principio de Racionalidad Limitada de Herbert Simon, la cual plantea que las personas tomamos decisiones de forma parcialmente irracional a causa de nuestras limitaciones cognitivas, de información y de tiempo"
   ]
  },
  {
   "cell_type": "markdown",
   "metadata": {
    "slideshow": {
     "slide_type": "slide"
    }
   },
   "source": [
    "# ¿Qué es un Agente Racional?\n",
    "\n",
    "- Piensa racionalmente\n",
    "    - Captura de un proceso racional correcto\n",
    "    - Proceso “ Irrefutable”\n",
    "    - Metodología\n",
    "        - Desarrollar un modelo formal - LÓGICA FORMAL - que siempre conduzca a la respuesta correcta\n",
    "        - Implementar ese modelo\n",
    "    - Cómo sabemos si lo hicimos bien\n",
    "        - cuando podemos probar que el razonamiento programado fue correcto"
   ]
  },
  {
   "cell_type": "markdown",
   "metadata": {
    "slideshow": {
     "slide_type": "subslide"
    }
   },
   "source": [
    "- Actuante racionalmente\n",
    "    - Actuar de forma de lograr las metas deseadas \n",
    "    - “El enfoque del agente racional” - a ser encarado en esta disciplina.\n",
    "    - Imagine usted mismo como se hacen las decisiones correctas \n",
    "        - a veces pensando racionalmente\n",
    "        - otras teniendo reflejos racionales"
   ]
  },
  {
   "cell_type": "markdown",
   "metadata": {
    "slideshow": {
     "slide_type": "slide"
    }
   },
   "source": [
    "# Agente Basado en Tablas\n",
    "\n",
    "- Dada una percepción, simplemente buscar la respuesta.\n",
    "- Parece simple, pero existen algunos problemas:\n",
    "    - Combinatoria:  problemas reales requieren de tablas muy grandes\n",
    "    - Tablas son difíciles de crear\n",
    "<center><img src='../figuras/programa_agente.png'/></center>"
   ]
  },
  {
   "cell_type": "markdown",
   "metadata": {
    "slideshow": {
     "slide_type": "slide"
    }
   },
   "source": [
    "# Tipos de Agentes\n",
    "\n",
    "- Agentes reactivos simples.\n",
    "- Agentes reactivos basados en modelos.\n",
    "- Agentes basados en objetivos.\n",
    "- Agentes basados en utilidad.\n",
    "- Agentes que aorenden"
   ]
  },
  {
   "cell_type": "markdown",
   "metadata": {
    "slideshow": {
     "slide_type": "slide"
    }
   },
   "source": [
    "# Agentes reactivos simples\n",
    "\n",
    "- Estos agentes seleccionan las acciones sobre la base de las percepciones actuales, ignorando el resto de las percepciones históricas\n",
    "- Las reglas condición / acción tienen la forma\n",
    "    - SI condición ENTONCES acción\n",
    "- Aparear regla con la percepción a partir de un conjunto completo de reglas\u000b",
    "ENTONCES especificar acción a tomar.\n",
    "- Peligro puede ser de poco alcance."
   ]
  },
  {
   "cell_type": "markdown",
   "metadata": {
    "slideshow": {
     "slide_type": "subslide"
    }
   },
   "source": [
    "<center><img src='../figuras/agente_reactivo.png'/></center>"
   ]
  },
  {
   "cell_type": "markdown",
   "metadata": {
    "slideshow": {
     "slide_type": "subslide"
    }
   },
   "source": [
    "<center><img src='../figuras/agente_reactivo_programa.png'/></center>"
   ]
  },
  {
   "cell_type": "markdown",
   "metadata": {
    "slideshow": {
     "slide_type": "slide"
    }
   },
   "source": [
    "# Agente Reactivo con Estado\n",
    "\n",
    "- Incluye memoria extendiendo el horizonte de tiempo del agente.\n",
    "- Peligro: la información almacenada puede no ser valida.\n",
    "- Un agente reactivo con un estado interno. Opera encontrando una regla cuya condición coincida con la situación actual y luego procede a efectuar la acción que corresponda a la regla"
   ]
  },
  {
   "cell_type": "markdown",
   "metadata": {
    "slideshow": {
     "slide_type": "subslide"
    }
   },
   "source": [
    "<center><img src='../figuras/agente_modelo.png'/></center>"
   ]
  },
  {
   "cell_type": "markdown",
   "metadata": {
    "slideshow": {
     "slide_type": "subslide"
    }
   },
   "source": [
    "<center><img src='../figuras/agente_reactivo_estado_programa.png'/></center>"
   ]
  },
  {
   "cell_type": "markdown",
   "metadata": {
    "slideshow": {
     "slide_type": "slide"
    }
   },
   "source": [
    "# Agente Basado en Metas\n",
    "\n",
    "- Metas\n",
    "    - Ayudan al agente a decidir las acciones correctas.\n",
    "    - Información sobre la meta ayuda al agente a describir situaciones deseables.\n",
    "    - Si la meta no es inmediata a una acción es necesario realizar algún proceso de búsqueda y planeación."
   ]
  },
  {
   "cell_type": "markdown",
   "metadata": {
    "slideshow": {
     "slide_type": "subslide"
    }
   },
   "source": [
    "- La toma de decisiones no es tan directa como en un agente reactivo.\n",
    "- Considera la forma en que cambiará el mundo.\n",
    "- Es más flexible para adaptarse\n",
    "- Ejemplo: Agente que conduce"
   ]
  },
  {
   "cell_type": "markdown",
   "metadata": {
    "slideshow": {
     "slide_type": "subslide"
    }
   },
   "source": [
    "<center><img src='../figuras/agente_metas.png'/></center>"
   ]
  },
  {
   "cell_type": "markdown",
   "metadata": {
    "slideshow": {
     "slide_type": "slide"
    }
   },
   "source": [
    "# Agente Basado en Utilidad\n",
    "\n",
    "- Las metas no son suficientes para generar un comportamiento de calidad.\n",
    "- Las utilidades sirven para distinguir la preferencia de un estado a otro.\n",
    "- La utilidad mapea un estado a un número real\n",
    "- Debe considerarse las metas conflictivas y las metas inciertas."
   ]
  },
  {
   "cell_type": "markdown",
   "metadata": {
    "slideshow": {
     "slide_type": "subslide"
    }
   },
   "source": [
    "<center><img src='../figuras/agente_utilidad.png'/></center>"
   ]
  },
  {
   "cell_type": "markdown",
   "metadata": {
    "slideshow": {
     "slide_type": "slide"
    }
   },
   "source": [
    "# Agente que Aprende\n",
    "\n",
    "- El aprendizaje en el campo de los agentes inteligentes puede definirse como el proceso de modificación de cada componente del agente, lo cual permite a cada componente comportarse más en consonancia con la in- formación que se recibe, lo que por tanto permite mejorar el nivel medio de actuación del agente."
   ]
  },
  {
   "cell_type": "markdown",
   "metadata": {
    "slideshow": {
     "slide_type": "subslide"
    }
   },
   "source": [
    "<center><img src='../figuras/agente_aprendiz.png'/></center>"
   ]
  },
  {
   "cell_type": "markdown",
   "metadata": {
    "slideshow": {
     "slide_type": "slide"
    }
   },
   "source": [
    "# Resumen\n",
    "\n",
    "- Un agente es algo que percibe y actúa en un ambiente.\n",
    "- Un agente ideal es aquel que siempre emprende la mejor acción\n",
    "- Los agente de reflejo responden de inmediato a las percepciones\n",
    "- Los agentes basados en reglas actúan en función del logro de una meta.\n",
    "- Los agentes basados en la utilidad se esfuerzan por maximizar una función de evaluación.\n",
    "- El ambiente en el cual se encuentra los agentes pueden variar dramáticamente."
   ]
  }
 ],
 "metadata": {
  "celltoolbar": "Slideshow",
  "kernelspec": {
   "display_name": "Python 3",
   "language": "python",
   "name": "python3"
  },
  "language_info": {
   "codemirror_mode": {
    "name": "ipython",
    "version": 3
   },
   "file_extension": ".py",
   "mimetype": "text/x-python",
   "name": "python",
   "nbconvert_exporter": "python",
   "pygments_lexer": "ipython3",
   "version": "3.7.6"
  }
 },
 "nbformat": 4,
 "nbformat_minor": 4
}
