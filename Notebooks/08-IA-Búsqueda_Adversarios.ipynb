{
 "cells": [
  {
   "cell_type": "markdown",
   "metadata": {
    "slideshow": {
     "slide_type": "slide"
    }
   },
   "source": [
    "<center>\n",
    "    <h1>Inteligencia Artificial</h1>\n",
    "    <h1>Búsqueda entre Adversarios</h1>\n",
    "    <h1></h1>\n",
    "    <h5>Prof. Wladimir Rodriguez</h5>\n",
    "    <h5>wladimir.rodriguez@outlook.com</h5>\n",
    "    <h5>Departamento de Computación</h5>\n",
    "</center>"
   ]
  },
  {
   "cell_type": "markdown",
   "metadata": {
    "slideshow": {
     "slide_type": "slide"
    }
   },
   "source": [
    "# Estado del Arte en Juegos\n",
    "\n",
    "- **Damas**: 1950: primer programa de computadora. 1994: primer campeón informático: Chinook terminó el reinado de 40 años del campeon humano Marion Tinsley usando un juego completo de 8 piezas. 2007: ¡Damas resueltas!\n",
    "\n",
    "- **Ajedrez**: 1997: Deep Blue derrota al campeón humano Gary Kasparov en un partido de seis juegos. Deep Blue examinó 200 millones de posiciones por segundo, utilizó una evaluación muy sofisticada y métodos no revelados para extender algunas líneas de búsqueda hasta 40 capas. Los programas actuales son aún mejores, aunque menos históricos.\n",
    "\n",
    "- **Go**: 2016: AlphaGO derrota al campeón humano. Utiliza Árbol de Búsqueda Monte Carlo, y función de evaluación aprendida."
   ]
  },
  {
   "cell_type": "markdown",
   "metadata": {},
   "source": [
    "# Juegos\n",
    "\n",
    "- Crear programas en el computador para jugar\n",
    "- Emular el razonamiento humano en el computador\n",
    "- Construir sistemas que sean capaces de tomar decisiones en un entorno adverso"
   ]
  },
  {
   "cell_type": "markdown",
   "metadata": {},
   "source": [
    "# Juegos: Características y Ejemplos\n",
    "- Características de los juegos que vamos a estudiar:\n",
    "    - Es determinista.\n",
    "    - De dos jugadores.\n",
    "    - Basado en turnos.\n",
    "    - De suma nula: lo que un jugador gana, lo pierde el otro.\n",
    "    - Con información perfecta: cada jugador tiene conocimiento completo del estado del mundo en todo momento."
   ]
  },
  {
   "cell_type": "markdown",
   "metadata": {},
   "source": [
    "# Ejemplos:\n",
    "\n",
    "- Ejemplos de juegos validos: \n",
    "    - Ajedrez, damas, go, otelo, 3 en raya, nim, ...\n",
    "- Ejemplos de juegos que no son validos:\n",
    "    - Backgammon, poker, bridge, ..."
   ]
  },
  {
   "cell_type": "markdown",
   "metadata": {},
   "source": [
    "# Formalización: \n",
    "\n",
    "- La forma más directa de formalizar un juego de estas características es por medio de un árbol:\n",
    "    - Conjunto de estados/nodos, $S$, comenzando por una situación inicial, $s_0$.\n",
    "    - Los jugadores se notarán por $P=\\{1,\\cdots,n\\}$ (normalmente, $n=2$)\n",
    "    - Las acciones/movimentos se notarán por $A$ (pueden depender del jugador y del estado).\n",
    "    - La función de transición: $S \\times A \\to S$.\n",
    "    - Tenemos un test de terminación: $S\\to\\{verdadero,falso\\}$.\n",
    "    - Disponemos de una función de utilidad de estados terminales, que indica lo bueno que es un estado terminal para cada jugador: $S \\times P \\to R$."
   ]
  },
  {
   "cell_type": "markdown",
   "metadata": {},
   "source": [
    "# EJEMPLO DE JUEGO: NIM\n",
    "\n",
    "- Situación inicial: Una pila con $N$ fichas.\n",
    "- Jugadas: Tomar $1$, $2$ ó $3$ fichas de la pila.\n",
    "- Objetivo: Obligar al adversario a tomar la última ficha.\n",
    "- Desarrollo completo del juego con 4 piezas:"
   ]
  },
  {
   "cell_type": "markdown",
   "metadata": {},
   "source": [
    "![](../figuras/nim_2.pdf)"
   ]
  },
  {
   "cell_type": "markdown",
   "metadata": {},
   "source": [
    "- Estrategia ganadora: El movimiento que, haga lo que haga el adversario, nos lleve a una situación ganadora o a la que nos favorezca más.\n",
    "- Estrategia ganadora en el NIM\n",
    "![](../figuras/nim_3.png)"
   ]
  },
  {
   "cell_type": "markdown",
   "metadata": {},
   "source": [
    "# Algoritmo Minimax\n",
    "\n",
    "- Función de evaluación estática\n",
    "- Límites inferior y superior\n",
    "- Valores programados, máximo y mínimo.\n",
    "\n",
    "## Pasos del algoritmo minimax:"
   ]
  },
  {
   "cell_type": "markdown",
   "metadata": {},
   "source": [
    "1. Generación del árbol de juego: A partir del nodo que representa el estado actual, se generan todos los nodos hasta llegar a un estado terminal (si no podemos afrontar la generación del árbol completo, es posible aplicar los pasos siguientes sobre una sección del mismo, aunque entonces no podremos asegurar la optimalidad de los resultados).\n",
    "2. Se calculan los valores de la función de evaluación para cada nodo terminal (o las hojas que hayamos conseguido si no hemos podido construirlo entero) del árbol construido.\n",
    "3. Se evalúan los nodos superiores a partir del valor de los inferiores. Según si estos nodos pertenecen a un nivel MAX o un nivel MIN, se elegirán los valores mínimos y máximos representando los movimientos del jugador y del oponente.\n",
    "4. Se repite el paso 3 hasta llegar al nodo superior (estado actual).\n",
    "5. Se selecciona la jugada-nodo directamente accesible desde el nodo actual que optimiza el valor de la evaluación."
   ]
  },
  {
   "cell_type": "markdown",
   "metadata": {},
   "source": [
    "![](../figuras/algoritmo_minimax.png)"
   ]
  },
  {
   "cell_type": "markdown",
   "metadata": {},
   "source": [
    "# Ejemplos:\n",
    "\n",
    "### Nim\n",
    "\n",
    "![](../figuras/nim_4.pdf)"
   ]
  },
  {
   "cell_type": "markdown",
   "metadata": {},
   "source": [
    "### Tres en Raya:\n",
    "\n",
    "![](../figuras/tres_en_raya.pdf)"
   ]
  },
  {
   "cell_type": "markdown",
   "metadata": {},
   "source": [
    "# Poda alfa-beta\n",
    "\n",
    "- La Poda alfa-beta es una técnica que reduce el número de nodos evaluados en el árbol de juego construido por el algoritmo Minimax. Para ello, trata de eliminar partes del árbol que se va construyendo de forma que se devuelva el mismo movimiento que devolvería este, podando ramas que se sepa que no van a influir en la decisión final.\n",
    "- La idea de esta técnica es que cada nodo se analiza teniendo en cuenta el valor que por el momento tiene y el valor que por el momento tiene su padre, lo que determina en cada momento un intervalo $(α,β)$ de posibles valores que podría tomar el nodo. El significado intuitivo de estos parámetros en cada momento es:\n",
    "    - En los nodos MAX: $\\alpha$ es el valor actual del nodo (que tendrá ese valor o superior), y $\\beta$ es el valor actual del padre (que tendrá ese valor o inferior).\n",
    "    - En los nodos MIN: $\\beta$ es el valor actual del nodo (que tendrá ese valor o inferior), y $\\alpha$ es el valor actual del padre (que tendrá ese valor o superior).\n",
    "    - La poda se produce si en algún momento $\\alpha \\geq \\beta$, y en ese momento no hace falta analizar los restantes sucesores del nodo. En nodos MIN, se denomina poda $\\beta$, y en nodos MAX, poda $\\alpha$."
   ]
  },
  {
   "cell_type": "markdown",
   "metadata": {},
   "source": [
    "![](../figuras/algoritmo_poda_alfa_beta.png)"
   ]
  },
  {
   "cell_type": "markdown",
   "metadata": {},
   "source": [
    "# Ejemplo Poda alfa-beta\n",
    "![](../figuras/poda_alfa_beta.png)"
   ]
  },
  {
   "cell_type": "markdown",
   "metadata": {},
   "source": [
    "# Solución\n",
    "\n",
    "![](../figuras/poda_alfa_beta_solucion.png)"
   ]
  },
  {
   "cell_type": "markdown",
   "metadata": {},
   "source": [
    "# Ejercicios\n",
    "\n",
    "1. Aplicar el algoritmo minimax sobre los siguiente árboles de búsqueda\n",
    "2. Aplicar la poda alfa-beta sobre los siguientes árboles de búsqueda\n",
    "\n",
    "## a:\n",
    "\n",
    "![](../figuras/ejercicio_minimax_1.png)"
   ]
  },
  {
   "cell_type": "markdown",
   "metadata": {},
   "source": [
    "## b:\n",
    "\n",
    "![](../figuras/ejercicio_minimax_2.pdf)"
   ]
  }
 ],
 "metadata": {
  "kernelspec": {
   "display_name": "Python 3",
   "language": "python",
   "name": "python3"
  },
  "language_info": {
   "codemirror_mode": {
    "name": "ipython",
    "version": 3
   },
   "file_extension": ".py",
   "mimetype": "text/x-python",
   "name": "python",
   "nbconvert_exporter": "python",
   "pygments_lexer": "ipython3",
   "version": "3.7.5"
  }
 },
 "nbformat": 4,
 "nbformat_minor": 4
}
