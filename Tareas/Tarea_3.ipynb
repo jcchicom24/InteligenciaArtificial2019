{
 "cells": [
  {
   "cell_type": "markdown",
   "metadata": {},
   "source": [
    "# Tarea 3: Implemantar MiniMax y Poda Alfa-Beta"
   ]
  },
  {
   "cell_type": "markdown",
   "metadata": {},
   "source": [
    "En esta tarea, implementaran el juego Conectar Cuatro en Python. En Conectar 4, los jugadores sueltan discos alternativamente en las columnas de una cuadrícula colocada verticalmente; el primer jugador en obtener cuatro de sus discos seguidos gana (si el tablero se llena antes de que esto suceda, es un empate). Usted puede investigar más sobre el juego en la Web.\n",
    "El código auxiliar que necesita se proporciona en la página web del curso, solo necesita completar las partes faltantes.\n",
    "El diseño del código auxiliar:\n",
    "\n",
    "- `tablero.py`: implementación de la clase Tablero. (¡No modifique este archivo!)\n",
    "- `bot.py`: implementación parcial de las clases minMaxBot y alfaBetaBot.\n",
    "- `juego.py` y `main.py`: implementación del motor del juego y la Interfaz Gráfica de Usuario. (No modifique estos archivos!)"
   ]
  },
  {
   "cell_type": "markdown",
   "metadata": {},
   "source": [
    "El único archivo que necesita modificar es `bot.py`. En este archivo debe codificar las siguientes funciones:\n",
    "- generarHijos() en la clase padre Bot\n",
    "- miniMax() en la clase minMaxBot\n",
    "- alfaBeta() en la clase alfaBetaBot"
   ]
  },
  {
   "cell_type": "markdown",
   "metadata": {},
   "source": [
    "La función generarHijos() debe devolver una lista de todos los posibles hijos del tablero, donde cada elemento de la lista está en un formato (movimiento-para-hacer-un-hijo, tablero-hijo). En la función miniMax() debe implementar el algoritmo minimax. Esta es una función auxiliar para una función proporcionada encontrarMovimiento(). Debe devolver una tupla (puntaje, movimiento). En la función alfaBeta() debe implementar el algoritmo de poda alfa-beta. Esta es una función auxiliar para una función proporcionada encontrarMovimiento(). Debe devolver una tupla (puntaje, movimiento).\n",
    "Debe tener una buena comprensión de la clase Tablero para implementar con éxito estas funciones. El código auxiliar tiene algunos comentarios útiles, así que asegúrese de leerlos detenidamente.\n",
    "Solo se le permite agregar su código en los lugares especificados, después de un comentario: `# TODO: agregue su código aquí`."
   ]
  },
  {
   "cell_type": "markdown",
   "metadata": {},
   "source": [
    "Se requiere la biblioteca PyQT5 para ejecutar la interfaz del juego. Se puede instalar con el siguiente comando:\n",
    "\n",
    "```python\n",
    "$ python -m pip install pyqt5\n",
    "```\n",
    "\n",
    "Puede utilizar funciones integradas y estructuras de datos, y la biblioteca estándar, pero no puede\n",
    "usar/importar el código de otra persona o cualquier paquete que no esté en la biblioteca estándar de Python.\n",
    "Para ejecutar el juego:\n",
    "\n",
    "```python\n",
    "$ python main.py\n",
    "```\n",
    "\n",
    "En la Interfaz Gráfica de Usuario, puede probar sus algoritmos uno contra el otro o un bot aleatorio, así como contra\n",
    "usted mismo. También puede cambiar la profundidad de búsqueda y el tamaño del tablero. ¿Puedes vencer al\n",
    "jugador minimax? ¿Al jugador alfa-beta? ¿A qué profundidades? ¿Los observas jugando en\n",
    "formas en que un jugador humano no lo haría, y ¿puedes entender por qué? No necesita entregar su\n",
    "respuestas a estas preguntas, pero debería ser divertido jugar con esto."
   ]
  },
  {
   "cell_type": "markdown",
   "metadata": {},
   "source": [
    "La tarea debe ser entregada antes de la clase del 12 de Diciembre, debe enviar a mi correo wladimir.rodriguez@goutlook.com solo el archivo `bot.py` colocando al inicio su nombre y cédula de identidad en las dos primeras líneas del archivo."
   ]
  },
  {
   "cell_type": "code",
   "execution_count": null,
   "metadata": {},
   "outputs": [],
   "source": []
  }
 ],
 "metadata": {
  "kernelspec": {
   "display_name": "Python 3",
   "language": "python",
   "name": "python3"
  },
  "language_info": {
   "codemirror_mode": {
    "name": "ipython",
    "version": 3
   },
   "file_extension": ".py",
   "mimetype": "text/x-python",
   "name": "python",
   "nbconvert_exporter": "python",
   "pygments_lexer": "ipython3",
   "version": "3.7.5"
  }
 },
 "nbformat": 4,
 "nbformat_minor": 4
}
