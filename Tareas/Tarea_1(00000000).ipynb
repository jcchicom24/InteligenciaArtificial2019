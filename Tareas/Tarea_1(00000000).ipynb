{
 "cells": [
  {
   "cell_type": "markdown",
   "metadata": {},
   "source": [
    "# Tarea #1: Programación en Python"
   ]
  },
  {
   "cell_type": "markdown",
   "metadata": {},
   "source": [
    "### Nombre: \n",
    "\n",
    "### CI:"
   ]
  },
  {
   "cell_type": "markdown",
   "metadata": {},
   "source": [
    "Primera tarea de Inteligencia Artificial. Debe ser entregada antes de la clase del próximo jueves 31 de Octubre via correo electrónico a la dirección wladimir.rodriguez@outlook.com. El nombre del archivo debe ser `Tarea_1(00000000)` en donde en vez de los $00000000$ colocará su número de cedula. Y en la celda anterior a esta colocará su nombre completo y el número de cedula."
   ]
  },
  {
   "cell_type": "markdown",
   "metadata": {},
   "source": [
    "Las respuestas debe ser colocadas en las celdas de código que dicen \n",
    "```python\n",
    "# Respuesta:\n",
    "```\n",
    "Excepto para las dos primeras preguntas en donde implemantará la función directamente en la celda donde esta la definición de la misma. Sustituyendo `pass` por la implementación correspondiente"
   ]
  },
  {
   "cell_type": "markdown",
   "metadata": {},
   "source": [
    "1. Escriba una función `suma_de_cuadrados` que calcule la suma de cuadrados hasta $n$"
   ]
  },
  {
   "cell_type": "code",
   "execution_count": 1,
   "metadata": {},
   "outputs": [],
   "source": [
    "def suma_de_cuadrados(n):\n",
    "    \"\"\"Retorna la suma (1 + 2^2 + 3^2 + ... + n^2)\n",
    "    \n",
    "    Precondición: n > 0, type(n) == int\n",
    "    \n",
    "    >>> suma_de_cuadrados(3)\n",
    "    14\n",
    "    >>> suma_de_cuadrados(1)\n",
    "    1\n",
    "    \"\"\"\n",
    "    pass"
   ]
  },
  {
   "cell_type": "markdown",
   "metadata": {},
   "source": [
    "2. Escriba una función word_lengths que tome una oración (cadena), calcule la longitud de cada palabra en esa oración y devuelva la longitud de cada palabra en una lista. Puede suponer que las palabras siempre están separadas por un carácter de espacio \" \". Puede usar la función `str.split` de python"
   ]
  },
  {
   "cell_type": "code",
   "execution_count": 2,
   "metadata": {},
   "outputs": [
    {
     "name": "stdout",
     "output_type": "stream",
     "text": [
      "Help on method_descriptor:\n",
      "\n",
      "split(...)\n",
      "    S.split(sep=None, maxsplit=-1) -> list of strings\n",
      "    \n",
      "    Return a list of the words in S, using sep as the\n",
      "    delimiter string.  If maxsplit is given, at most maxsplit\n",
      "    splits are done. If sep is not specified or is None, any\n",
      "    whitespace string is a separator and empty strings are\n",
      "    removed from the result.\n",
      "\n"
     ]
    }
   ],
   "source": [
    "help(str.split)"
   ]
  },
  {
   "cell_type": "code",
   "execution_count": 3,
   "metadata": {},
   "outputs": [],
   "source": [
    "def largo_palabras(sentencia):\n",
    "    \"\"\"Retorna una lista conteniendo el largo de cada palabra en \n",
    "    la sentencia.\n",
    "    \n",
    "    >>> largo_palabras(\"bienvenidos a Inteligencia Artificial!\")\n",
    "    [11, 1, 12, 11]\n",
    "    >>> largo_palabras(\"aprendizaje automático esta de moda\")\n",
    "    [11, 10, 4, 2, 4]\n",
    "    \"\"\"\n",
    "    pass"
   ]
  },
  {
   "cell_type": "markdown",
   "metadata": {},
   "source": [
    "3. Considere la función `extraer_and_aplicar(l, p, f)` que se muestra a continuación, que extrae los elementos de una lista $l$ que satisface un predicado booleano $p$, aplica una función $f$ a cada elemento y devuelve el resultado."
   ]
  },
  {
   "cell_type": "code",
   "execution_count": 4,
   "metadata": {},
   "outputs": [],
   "source": [
    "def extraer_and_aplicar(l, p, f):\n",
    "     resultado = []\n",
    "     for x in l:\n",
    "         if p(x):\n",
    "             result.append(f(x))\n",
    "     return resultado"
   ]
  },
  {
   "cell_type": "markdown",
   "metadata": {},
   "source": [
    "Reescribe `extraer_and_aplicar(l, p, f)` en una línea usando una lista de comprensión"
   ]
  },
  {
   "cell_type": "code",
   "execution_count": 6,
   "metadata": {},
   "outputs": [],
   "source": [
    "# Respuesta:"
   ]
  },
  {
   "cell_type": "markdown",
   "metadata": {},
   "source": [
    "4. Escriba una función `concatenar(secuencias)` que devuelva una lista que contenga la concatenación de los elementos de las secuencias de entrada. Su implementación debe consistir en una comprensión de lista única, y no debe exceder una línea.\n",
    "\n",
    "\n",
    "```pyton\n",
    "concatenar([[1, 2], [3, 4]])\n",
    "[1, 2, 3, 4]\n",
    "concatenar([\"abc\", (0, [0])])\n",
    "['a', 'b', 'c', 0, [0]]\n",
    "```"
   ]
  },
  {
   "cell_type": "code",
   "execution_count": 5,
   "metadata": {},
   "outputs": [],
   "source": [
    "# Respuesta:"
   ]
  },
  {
   "cell_type": "markdown",
   "metadata": {},
   "source": [
    "5. Escriba una función `todos_menos_ultimo(secuencia)` que devuelva una nueva secuencia que contenga todos menos el último elemento de la secuencia de entrada. Si la secuencia de entrada está vacía, se debe devolver una nueva secuencia vacía del mismo tipo."
   ]
  },
  {
   "cell_type": "markdown",
   "metadata": {},
   "source": [
    " ```python\n",
    ">>> todos_menos_ultimo(\"abc\")\n",
    " 'ab'\n",
    ">>> todos_menos_ultimo((1, 2, 3))\n",
    " (1, 2)\n",
    "```"
   ]
  },
  {
   "cell_type": "markdown",
   "metadata": {},
   "source": [
    "```python\n",
    " >>> todos_menos_ultimo(\"\")\n",
    " ''\n",
    " >>> todos_menos_ultimo([])\n",
    " []\n",
    "```"
   ]
  },
  {
   "cell_type": "code",
   "execution_count": 9,
   "metadata": {},
   "outputs": [],
   "source": [
    "# Respuesta: "
   ]
  },
  {
   "cell_type": "markdown",
   "metadata": {},
   "source": [
    "6. Escriba una función `cada_otro(secuencia)` que devuelva una nueva secuencia que contenga cada otro elementos de la secuencia de entrada, comenzando por el primero."
   ]
  },
  {
   "cell_type": "markdown",
   "metadata": {},
   "source": [
    "```python\n",
    ">>> cada_otro([1, 2, 3, 4, 5])\n",
    " [1, 3, 5]\n",
    " >>> cada_otro(\"abcde\")\n",
    " 'ace'\n",
    " []\n",
    "```"
   ]
  },
  {
   "cell_type": "markdown",
   "metadata": {},
   "source": [
    "```python\n",
    ">>> cada_otro([1, 2, 3, 4, 5, 6])\n",
    " [1, 3, 5]\n",
    " >>> cada_otro(\"abcdef\")\n",
    " 'ace'\n",
    "```    "
   ]
  },
  {
   "cell_type": "code",
   "execution_count": 12,
   "metadata": {},
   "outputs": [],
   "source": [
    "# Respuesta:"
   ]
  },
  {
   "cell_type": "markdown",
   "metadata": {},
   "source": [
    "7 y 8. Los prefijos de una secuencia incluyen la secuencia vacía, el primer elemento, los dos primeros elementos, etc., hasta la secuencia completa incluida. Del mismo modo, los sufijos de una secuencia incluyen la secuencia vacía, el último elemento, los dos últimos elementos, etc., hasta la secuencia completa incluida. Escriba un par de  funciones generadoras `prefijos(secuencia)` y `sufijos(secuencia)` que produzcan todos los prefijos y sufijos de la secuencia de entrada."
   ]
  },
  {
   "cell_type": "markdown",
   "metadata": {},
   "source": [
    "```python\n",
    " >>> list(prefijos([1, 2, 3]))\n",
    " [[], [1], [1, 2], [1, 2, 3]]\n",
    " >>> list(sufijos([1, 2, 3]))\n",
    " [[1, 2, 3], [2, 3], [3], []]\n",
    "```"
   ]
  },
  {
   "cell_type": "markdown",
   "metadata": {},
   "source": [
    "```python\n",
    " >>> list(prefixes(\"abc\"))\n",
    " ['', 'a', 'ab', 'abc']\n",
    " >>> list(suffixes(\"abc\"))\n",
    " ['abc', 'bc', 'c', '']\n",
    "```"
   ]
  },
  {
   "cell_type": "code",
   "execution_count": 13,
   "metadata": {},
   "outputs": [],
   "source": [
    "# Respuesta función prefijos:"
   ]
  },
  {
   "cell_type": "code",
   "execution_count": 14,
   "metadata": {},
   "outputs": [],
   "source": [
    "# Respuesta función sufijos:"
   ]
  },
  {
   "cell_type": "markdown",
   "metadata": {},
   "source": [
    "9. Escriba una función `no_vocales(texto)` que elimine todas las vocales de la cadena de entrada y devuelva el resultado."
   ]
  },
  {
   "cell_type": "markdown",
   "metadata": {},
   "source": [
    "```python\n",
    ">>> no_vocales(\"Esto Es Un Ejemplo.\")\n",
    " 'st s n jmlo.'\n",
    "```"
   ]
  },
  {
   "cell_type": "markdown",
   "metadata": {},
   "source": [
    "```python\n",
    ">>> no_vocales(\"Nosotros amamos a Python!\")\n",
    " 'Nstrs mm Pythn!'\n",
    "```"
   ]
  },
  {
   "cell_type": "markdown",
   "metadata": {},
   "source": [
    "10. Escriba una función `digitos_a_palabras(texto)` que extraiga todos los dígitos de la cadena de entrada, los escriba en minúsculas en español y devuelve una nueva cadena en la que cada uno esté separado por un solo espacio. Si la cadena de entrada no contiene dígitos, se debe devolver una cadena vacía"
   ]
  },
  {
   "cell_type": "markdown",
   "metadata": {},
   "source": [
    "```python\n",
    " >>> digitos_a_palabras(\"Código Postal: 39104\")\n",
    " 'tres nueve uno cero cuatro'\n",
    "```"
   ]
  },
  {
   "cell_type": "markdown",
   "metadata": {},
   "source": [
    "```python\n",
    ">>> digitos_a_palabras(\"Pi es 3.1415...\")\n",
    " 'tres uno cuatro uno cinco'\n",
    "```"
   ]
  },
  {
   "cell_type": "code",
   "execution_count": null,
   "metadata": {},
   "outputs": [],
   "source": [
    "# Respuesta:"
   ]
  }
 ],
 "metadata": {
  "kernelspec": {
   "display_name": "Python 3",
   "language": "python",
   "name": "python3"
  },
  "language_info": {
   "codemirror_mode": {
    "name": "ipython",
    "version": 3
   },
   "file_extension": ".py",
   "mimetype": "text/x-python",
   "name": "python",
   "nbconvert_exporter": "python",
   "pygments_lexer": "ipython3",
   "version": "3.7.6"
  }
 },
 "nbformat": 4,
 "nbformat_minor": 4
}
