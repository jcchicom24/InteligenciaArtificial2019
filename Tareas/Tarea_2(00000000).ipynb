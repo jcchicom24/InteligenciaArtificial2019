{
 "cells": [
  {
   "cell_type": "markdown",
   "metadata": {},
   "source": [
    "# Tarea 2: Búsqueda a lo Ancho"
   ]
  },
  {
   "cell_type": "markdown",
   "metadata": {},
   "source": [
    "### Nombre: \n",
    "\n",
    "### CI:"
   ]
  },
  {
   "cell_type": "markdown",
   "metadata": {},
   "source": [
    "Segunda tarea de Inteligencia Artificial. Debe ser entregada antes de las 12 de la noche del próximo Domingo 10 de Noviembre via correo electrónico a la dirección wladimir.rodriguez@outlook.com. El nombre del archivo debe ser Tarea_2(00000000) en donde en vez de los  00000000 colocará su número de cedula. Y en la celda anterior a esta colocará su nombre completo y el número de cedula."
   ]
  },
  {
   "cell_type": "markdown",
   "metadata": {},
   "source": [
    "## Puzzle 3 x 3"
   ]
  },
  {
   "cell_type": "markdown",
   "metadata": {},
   "source": [
    "El juego del puzzle se representa, sobre un tablero de 3x3 casillas. 8 de las casillas contienen  una  pieza  o  ficha  que  se  puede  deslizar  a  lo  largo  del  tablero  horizontal  y verticalmente. Las fichas vienen marcadas con los números del 1 al 8, y el 0 representa a la  casilla  vacía,  que  permite  los  movimientos  de  las  fichas.  El  objetivo  del  problema  es partiendo  de  un  tablero  inicial  con  las  fichas  desordenadas  alcanzar  un  tablero  en  el  que todas las fichas estén ordenadas en orden creciente, dejando el hueco en la primer casilla del  tablero.  El  número  total  de  estados  o  tableros posibles  que  se  pueden  generar  en  el juego del puzzle es $9! = 362,880$ estados.\n",
    "\n",
    "La tarea consiste en resolver este problema empleando la técnica de búsqueda a lo ancho.\n",
    "\n",
    "El criterio para elegir el siguiente estado a visitar será el siguiente: Primero  deberás  verificar  si  el  espacio  en  blanco  puede  ser  intercambiado  con  la ficha de arriba, si es posible y dicho estado aun no ha sido generado, deberás insertarlo en la cola, luego verificarás lo mismo pero con la ficha de la derecha, luego con la de abajo y finalmente  con  la  de  la  izquierda  (siempre  y  cuando  las  haya),  y  en  ese  orden  las insertarás en la cola. \n",
    "\n",
    "El estado al que se desea llegar para cualquier puzzle dado será: \n",
    "\n",
    "![](../figuras/tarea_2.png)"
   ]
  },
  {
   "cell_type": "markdown",
   "metadata": {},
   "source": [
    "El dibujo que se muestra abajo muestra un estado no final $0$ el cual deberás insertar en  la  cola,  y  como  este  estado  no  es  el  destino,  deberás  empezar  a  realizar  los movimientos aplicando la técnica de búsqueda a lo ancho.\n",
    "\n",
    "Del  estado $0$  puedes  partir  hacia  $4$  estados.  El numero al lado del puzzle indica el  orden  en  que  se deben  insertar  en  la  cola,  por  lo  que  una  vez  revisadas  todas  las  posibilidades  para  el estado $0$, deberás sacar de la cola a este, e ir hacia la opción marcada con $1$ (que debería encontrarse ahora al principio de la cola)...\n",
    "\n",
    "![](../figuras/tarea_2_2.png)\n"
   ]
  },
  {
   "cell_type": "markdown",
   "metadata": {},
   "source": [
    "Una  vez  que  te  encuentres  en  el  estado $1$,  dado  que  este  no  es  el  destino, \n",
    "nuevamente  debes  checar  a  que  estados  puedes  ir,  pero  ¡cuidado!,  uno  de  ellos  ya  fue visitado, por lo que no debes de volver a el. El dibujo  de abajo  muestra  como el  programa  debería  intentar ver  si se  puede  ir a los  $4$  estados,  pero,  cuando  intenta  intercambiar  el $0$  con  una  ficha  de  arriba  $-1$,  no puede, ya que se saldría del tablero, por lo que después prueba con la ficha de la derecha $1$, y como a este estado si se puede ir, lo inserta en la cola, después intenta intercambiar al $0$ con la ficha de abajo $-2$, y aunque a este estado si se puede ir, no es insertado en la cola, ya que este estado ya fue visitado, finalmente lo intenta con la ficha de la izquierda $2$ y como a este estado si se puede ir lo inserta en la cola.\n",
    "\n",
    "![](../figuras/tarea_2_3.png)"
   ]
  },
  {
   "cell_type": "markdown",
   "metadata": {},
   "source": [
    "El  proceso  se  repite  hasta  que  alguna  vez  alcanzas el  estado  meta,  y  una  vez hecho esto tu programa debe terminar. Recuerda que para este caso todas las inserciones en la cola se hacen al final de la misma y las extracciones al principio de la misma. Deberás  mostrar todos los  estados por los que pasa tu algoritmo antes de llegar  a la solución, así como el numero de veces que se repitió el proceso de búsqueda."
   ]
  },
  {
   "cell_type": "markdown",
   "metadata": {},
   "source": [
    "**Especificaciones de la entrada**: La  entrada  es  solo  una  matriz  de  tamaño  $3x3$  con  $9$  valores  (entre  el  $0$  y  $8$,  sin repetirse cada uno), donde el $0$ indica casilla vacía. \n",
    "\n",
    "**Especificaciones de la salida**: El  programa  deberá  generar todos  los  estados por  los  que  pasó  el  algoritmo  antes  de llegar a la solución así como el número de los mismos"
   ]
  },
  {
   "cell_type": "markdown",
   "metadata": {},
   "source": [
    "**Ejemplo 1 de entrada**\n",
    "\n",
    "0 1 2 \n",
    "\n",
    "3 4 5 \n",
    "\n",
    "6 7 8 \n",
    "\n",
    "**Ejemplo 1 de salida 1**\n",
    "\n",
    "0 1 2\n",
    "\n",
    "3 4 5\n",
    "\n",
    "6 7 8\n",
    "\n",
    "1 \n",
    "\n",
    "**Ejemplo 2 de entrada**\n",
    "\n",
    "1 2 0  \n",
    "3 4 5  \n",
    "6 7 8  \n",
    "\n",
    "**Ejemplo 2 de salida**\n",
    "\n",
    "1 2 0  \n",
    "3 4 5  \n",
    "6 7 8  \n",
    "\n",
    "1 2 5  \n",
    "3 4 0  \n",
    "6 7 8  \n",
    "\n",
    "1 0 2  \n",
    "3 4 5  \n",
    "6 7 8  \n",
    "\n",
    "1 2 5  \n",
    "3 4 8  \n",
    "6 7 0  \n",
    "\n",
    "1 2 5  \n",
    "3 0 4  \n",
    "6 7 8 \n",
    "\n",
    "1 4 2  \n",
    "3 0 5  \n",
    "6 7 8  \n",
    "\n",
    "0 1 2  \n",
    "3 4 5  \n",
    "6 7 8  \n",
    "\n",
    "7\n",
    "\n",
    "**Ejemplo 3 de entrada**\n",
    "\n",
    "1 0 2  \n",
    "3 4 5  \n",
    "6 7 8  \n",
    "\n",
    "**Ejemplo 3 de salida**\n",
    "\n",
    "1 0 2  \n",
    "3 4 5  \n",
    "6 7 8\n",
    "\n",
    "1 2 0  \n",
    "3 4 5  \n",
    "6 7 8  \n",
    "\n",
    "1 4 2  \n",
    "3 0 5  \n",
    "6 7 8 \n",
    "\n",
    "0 1 2  \n",
    "3 4 5  \n",
    "6 7 8  \n",
    "\n",
    "4"
   ]
  },
  {
   "cell_type": "markdown",
   "metadata": {},
   "source": [
    "### En las siguientes celdas escriba su implementación:"
   ]
  },
  {
   "cell_type": "code",
   "execution_count": null,
   "metadata": {},
   "outputs": [],
   "source": []
  }
 ],
 "metadata": {
  "kernelspec": {
   "display_name": "Python 3",
   "language": "python",
   "name": "python3"
  },
  "language_info": {
   "codemirror_mode": {
    "name": "ipython",
    "version": 3
   },
   "file_extension": ".py",
   "mimetype": "text/x-python",
   "name": "python",
   "nbconvert_exporter": "python",
   "pygments_lexer": "ipython3",
   "version": "3.7.5"
  }
 },
 "nbformat": 4,
 "nbformat_minor": 2
}
